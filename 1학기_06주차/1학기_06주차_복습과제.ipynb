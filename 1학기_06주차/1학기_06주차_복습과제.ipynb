{
  "nbformat": 4,
  "nbformat_minor": 5,
  "metadata": {
    "kernelspec": {
      "display_name": "Python 3",
      "language": "python",
      "name": "python3"
    },
    "language_info": {
      "codemirror_mode": {
        "name": "ipython",
        "version": 3
      },
      "file_extension": ".py",
      "mimetype": "text/x-python",
      "name": "python",
      "nbconvert_exporter": "python",
      "pygments_lexer": "ipython3",
      "version": "3.8.5"
    },
    "colab": {
      "name": "비타민 6주차 과제.ipynb",
      "provenance": [],
      "collapsed_sections": []
    }
  },
  "cells": [
    {
      "cell_type": "markdown",
      "metadata": {
        "id": "4jS83A3ISV2o"
      },
      "source": [
        "# 문제 1. KNN 실습\n",
        "\n",
        "* 아래의 코드를 사용해 이번 문제에서 사용할 데이터 셋을 불러와주세요."
      ],
      "id": "4jS83A3ISV2o"
    },
    {
      "cell_type": "code",
      "metadata": {
        "id": "MnO5_9JeSV2t"
      },
      "source": [
        "import seaborn as sns\n",
        "\n",
        "df = sns.load_dataset('titanic')"
      ],
      "id": "MnO5_9JeSV2t",
      "execution_count": null,
      "outputs": []
    },
    {
      "cell_type": "markdown",
      "metadata": {
        "id": "OPCuDK7qSV2v"
      },
      "source": [
        " ### 1-1\n",
        " * 각 column의 결측치 개수를 확인하고, survived, pclass, sex, age, sibsp,parch 열만을 남기고 남은열들을 모두 삭제해주세요."
      ],
      "id": "OPCuDK7qSV2v"
    },
    {
      "cell_type": "code",
      "metadata": {
        "colab": {
          "base_uri": "https://localhost:8080/"
        },
        "id": "wqYNIsa9SV2w",
        "outputId": "2d847d23-9e85-4d1c-9e27-d0acc5f028e3"
      },
      "source": [
        "df.isnull().sum()"
      ],
      "id": "wqYNIsa9SV2w",
      "execution_count": null,
      "outputs": [
        {
          "output_type": "execute_result",
          "data": {
            "text/plain": [
              "survived         0\n",
              "pclass           0\n",
              "sex              0\n",
              "age            177\n",
              "sibsp            0\n",
              "parch            0\n",
              "fare             0\n",
              "embarked         2\n",
              "class            0\n",
              "who              0\n",
              "adult_male       0\n",
              "deck           688\n",
              "embark_town      2\n",
              "alive            0\n",
              "alone            0\n",
              "dtype: int64"
            ]
          },
          "metadata": {},
          "execution_count": 248
        }
      ]
    },
    {
      "cell_type": "code",
      "metadata": {
        "colab": {
          "base_uri": "https://localhost:8080/",
          "height": 417
        },
        "id": "15ao8DaVam78",
        "outputId": "fbfde15d-6721-4def-9263-e606ff187add"
      },
      "source": [
        "df = df.loc[:,['survived', 'pclass', 'sex', 'age', 'sibsp','parch']]\n",
        "df"
      ],
      "id": "15ao8DaVam78",
      "execution_count": null,
      "outputs": [
        {
          "output_type": "execute_result",
          "data": {
            "text/html": [
              "<div>\n",
              "<style scoped>\n",
              "    .dataframe tbody tr th:only-of-type {\n",
              "        vertical-align: middle;\n",
              "    }\n",
              "\n",
              "    .dataframe tbody tr th {\n",
              "        vertical-align: top;\n",
              "    }\n",
              "\n",
              "    .dataframe thead th {\n",
              "        text-align: right;\n",
              "    }\n",
              "</style>\n",
              "<table border=\"1\" class=\"dataframe\">\n",
              "  <thead>\n",
              "    <tr style=\"text-align: right;\">\n",
              "      <th></th>\n",
              "      <th>survived</th>\n",
              "      <th>pclass</th>\n",
              "      <th>sex</th>\n",
              "      <th>age</th>\n",
              "      <th>sibsp</th>\n",
              "      <th>parch</th>\n",
              "    </tr>\n",
              "  </thead>\n",
              "  <tbody>\n",
              "    <tr>\n",
              "      <th>0</th>\n",
              "      <td>0</td>\n",
              "      <td>3</td>\n",
              "      <td>male</td>\n",
              "      <td>22.0</td>\n",
              "      <td>1</td>\n",
              "      <td>0</td>\n",
              "    </tr>\n",
              "    <tr>\n",
              "      <th>1</th>\n",
              "      <td>1</td>\n",
              "      <td>1</td>\n",
              "      <td>female</td>\n",
              "      <td>38.0</td>\n",
              "      <td>1</td>\n",
              "      <td>0</td>\n",
              "    </tr>\n",
              "    <tr>\n",
              "      <th>2</th>\n",
              "      <td>1</td>\n",
              "      <td>3</td>\n",
              "      <td>female</td>\n",
              "      <td>26.0</td>\n",
              "      <td>0</td>\n",
              "      <td>0</td>\n",
              "    </tr>\n",
              "    <tr>\n",
              "      <th>3</th>\n",
              "      <td>1</td>\n",
              "      <td>1</td>\n",
              "      <td>female</td>\n",
              "      <td>35.0</td>\n",
              "      <td>1</td>\n",
              "      <td>0</td>\n",
              "    </tr>\n",
              "    <tr>\n",
              "      <th>4</th>\n",
              "      <td>0</td>\n",
              "      <td>3</td>\n",
              "      <td>male</td>\n",
              "      <td>35.0</td>\n",
              "      <td>0</td>\n",
              "      <td>0</td>\n",
              "    </tr>\n",
              "    <tr>\n",
              "      <th>...</th>\n",
              "      <td>...</td>\n",
              "      <td>...</td>\n",
              "      <td>...</td>\n",
              "      <td>...</td>\n",
              "      <td>...</td>\n",
              "      <td>...</td>\n",
              "    </tr>\n",
              "    <tr>\n",
              "      <th>886</th>\n",
              "      <td>0</td>\n",
              "      <td>2</td>\n",
              "      <td>male</td>\n",
              "      <td>27.0</td>\n",
              "      <td>0</td>\n",
              "      <td>0</td>\n",
              "    </tr>\n",
              "    <tr>\n",
              "      <th>887</th>\n",
              "      <td>1</td>\n",
              "      <td>1</td>\n",
              "      <td>female</td>\n",
              "      <td>19.0</td>\n",
              "      <td>0</td>\n",
              "      <td>0</td>\n",
              "    </tr>\n",
              "    <tr>\n",
              "      <th>888</th>\n",
              "      <td>0</td>\n",
              "      <td>3</td>\n",
              "      <td>female</td>\n",
              "      <td>NaN</td>\n",
              "      <td>1</td>\n",
              "      <td>2</td>\n",
              "    </tr>\n",
              "    <tr>\n",
              "      <th>889</th>\n",
              "      <td>1</td>\n",
              "      <td>1</td>\n",
              "      <td>male</td>\n",
              "      <td>26.0</td>\n",
              "      <td>0</td>\n",
              "      <td>0</td>\n",
              "    </tr>\n",
              "    <tr>\n",
              "      <th>890</th>\n",
              "      <td>0</td>\n",
              "      <td>3</td>\n",
              "      <td>male</td>\n",
              "      <td>32.0</td>\n",
              "      <td>0</td>\n",
              "      <td>0</td>\n",
              "    </tr>\n",
              "  </tbody>\n",
              "</table>\n",
              "<p>891 rows × 6 columns</p>\n",
              "</div>"
            ],
            "text/plain": [
              "     survived  pclass     sex   age  sibsp  parch\n",
              "0           0       3    male  22.0      1      0\n",
              "1           1       1  female  38.0      1      0\n",
              "2           1       3  female  26.0      0      0\n",
              "3           1       1  female  35.0      1      0\n",
              "4           0       3    male  35.0      0      0\n",
              "..        ...     ...     ...   ...    ...    ...\n",
              "886         0       2    male  27.0      0      0\n",
              "887         1       1  female  19.0      0      0\n",
              "888         0       3  female   NaN      1      2\n",
              "889         1       1    male  26.0      0      0\n",
              "890         0       3    male  32.0      0      0\n",
              "\n",
              "[891 rows x 6 columns]"
            ]
          },
          "metadata": {},
          "execution_count": 249
        }
      ]
    },
    {
      "cell_type": "markdown",
      "metadata": {
        "id": "fT7hcSWSSV2x"
      },
      "source": [
        "### 1-2\n",
        "* age열의 데이터가 존재하지 않는 행을 모두 삭제해주세요.  \n",
        "* one_hot_encoding을 사용해 sex열의 데이터를 숫자형으로 변환하고, 변환이 끝나면 기존의 sex열을 삭제해주세요."
      ],
      "id": "fT7hcSWSSV2x"
    },
    {
      "cell_type": "code",
      "metadata": {
        "colab": {
          "base_uri": "https://localhost:8080/",
          "height": 417
        },
        "id": "bee-t8pjSV2x",
        "outputId": "c6d2ad7a-aec5-4c7d-b525-f23866b307e5"
      },
      "source": [
        "df = df.dropna(axis=0)\n",
        "df"
      ],
      "id": "bee-t8pjSV2x",
      "execution_count": null,
      "outputs": [
        {
          "output_type": "execute_result",
          "data": {
            "text/html": [
              "<div>\n",
              "<style scoped>\n",
              "    .dataframe tbody tr th:only-of-type {\n",
              "        vertical-align: middle;\n",
              "    }\n",
              "\n",
              "    .dataframe tbody tr th {\n",
              "        vertical-align: top;\n",
              "    }\n",
              "\n",
              "    .dataframe thead th {\n",
              "        text-align: right;\n",
              "    }\n",
              "</style>\n",
              "<table border=\"1\" class=\"dataframe\">\n",
              "  <thead>\n",
              "    <tr style=\"text-align: right;\">\n",
              "      <th></th>\n",
              "      <th>survived</th>\n",
              "      <th>pclass</th>\n",
              "      <th>sex</th>\n",
              "      <th>age</th>\n",
              "      <th>sibsp</th>\n",
              "      <th>parch</th>\n",
              "    </tr>\n",
              "  </thead>\n",
              "  <tbody>\n",
              "    <tr>\n",
              "      <th>0</th>\n",
              "      <td>0</td>\n",
              "      <td>3</td>\n",
              "      <td>male</td>\n",
              "      <td>22.0</td>\n",
              "      <td>1</td>\n",
              "      <td>0</td>\n",
              "    </tr>\n",
              "    <tr>\n",
              "      <th>1</th>\n",
              "      <td>1</td>\n",
              "      <td>1</td>\n",
              "      <td>female</td>\n",
              "      <td>38.0</td>\n",
              "      <td>1</td>\n",
              "      <td>0</td>\n",
              "    </tr>\n",
              "    <tr>\n",
              "      <th>2</th>\n",
              "      <td>1</td>\n",
              "      <td>3</td>\n",
              "      <td>female</td>\n",
              "      <td>26.0</td>\n",
              "      <td>0</td>\n",
              "      <td>0</td>\n",
              "    </tr>\n",
              "    <tr>\n",
              "      <th>3</th>\n",
              "      <td>1</td>\n",
              "      <td>1</td>\n",
              "      <td>female</td>\n",
              "      <td>35.0</td>\n",
              "      <td>1</td>\n",
              "      <td>0</td>\n",
              "    </tr>\n",
              "    <tr>\n",
              "      <th>4</th>\n",
              "      <td>0</td>\n",
              "      <td>3</td>\n",
              "      <td>male</td>\n",
              "      <td>35.0</td>\n",
              "      <td>0</td>\n",
              "      <td>0</td>\n",
              "    </tr>\n",
              "    <tr>\n",
              "      <th>...</th>\n",
              "      <td>...</td>\n",
              "      <td>...</td>\n",
              "      <td>...</td>\n",
              "      <td>...</td>\n",
              "      <td>...</td>\n",
              "      <td>...</td>\n",
              "    </tr>\n",
              "    <tr>\n",
              "      <th>885</th>\n",
              "      <td>0</td>\n",
              "      <td>3</td>\n",
              "      <td>female</td>\n",
              "      <td>39.0</td>\n",
              "      <td>0</td>\n",
              "      <td>5</td>\n",
              "    </tr>\n",
              "    <tr>\n",
              "      <th>886</th>\n",
              "      <td>0</td>\n",
              "      <td>2</td>\n",
              "      <td>male</td>\n",
              "      <td>27.0</td>\n",
              "      <td>0</td>\n",
              "      <td>0</td>\n",
              "    </tr>\n",
              "    <tr>\n",
              "      <th>887</th>\n",
              "      <td>1</td>\n",
              "      <td>1</td>\n",
              "      <td>female</td>\n",
              "      <td>19.0</td>\n",
              "      <td>0</td>\n",
              "      <td>0</td>\n",
              "    </tr>\n",
              "    <tr>\n",
              "      <th>889</th>\n",
              "      <td>1</td>\n",
              "      <td>1</td>\n",
              "      <td>male</td>\n",
              "      <td>26.0</td>\n",
              "      <td>0</td>\n",
              "      <td>0</td>\n",
              "    </tr>\n",
              "    <tr>\n",
              "      <th>890</th>\n",
              "      <td>0</td>\n",
              "      <td>3</td>\n",
              "      <td>male</td>\n",
              "      <td>32.0</td>\n",
              "      <td>0</td>\n",
              "      <td>0</td>\n",
              "    </tr>\n",
              "  </tbody>\n",
              "</table>\n",
              "<p>714 rows × 6 columns</p>\n",
              "</div>"
            ],
            "text/plain": [
              "     survived  pclass     sex   age  sibsp  parch\n",
              "0           0       3    male  22.0      1      0\n",
              "1           1       1  female  38.0      1      0\n",
              "2           1       3  female  26.0      0      0\n",
              "3           1       1  female  35.0      1      0\n",
              "4           0       3    male  35.0      0      0\n",
              "..        ...     ...     ...   ...    ...    ...\n",
              "885         0       3  female  39.0      0      5\n",
              "886         0       2    male  27.0      0      0\n",
              "887         1       1  female  19.0      0      0\n",
              "889         1       1    male  26.0      0      0\n",
              "890         0       3    male  32.0      0      0\n",
              "\n",
              "[714 rows x 6 columns]"
            ]
          },
          "metadata": {},
          "execution_count": 250
        }
      ]
    },
    {
      "cell_type": "code",
      "metadata": {
        "colab": {
          "base_uri": "https://localhost:8080/",
          "height": 417
        },
        "id": "fGfTwg6UbeTR",
        "outputId": "13c73beb-9bf8-4802-df68-9b68476ae075"
      },
      "source": [
        "import numpy as np   \n",
        "import pandas as pd  \n",
        "df = pd.get_dummies(df, columns=['sex'])\n",
        "df"
      ],
      "id": "fGfTwg6UbeTR",
      "execution_count": null,
      "outputs": [
        {
          "output_type": "execute_result",
          "data": {
            "text/html": [
              "<div>\n",
              "<style scoped>\n",
              "    .dataframe tbody tr th:only-of-type {\n",
              "        vertical-align: middle;\n",
              "    }\n",
              "\n",
              "    .dataframe tbody tr th {\n",
              "        vertical-align: top;\n",
              "    }\n",
              "\n",
              "    .dataframe thead th {\n",
              "        text-align: right;\n",
              "    }\n",
              "</style>\n",
              "<table border=\"1\" class=\"dataframe\">\n",
              "  <thead>\n",
              "    <tr style=\"text-align: right;\">\n",
              "      <th></th>\n",
              "      <th>survived</th>\n",
              "      <th>pclass</th>\n",
              "      <th>age</th>\n",
              "      <th>sibsp</th>\n",
              "      <th>parch</th>\n",
              "      <th>sex_female</th>\n",
              "      <th>sex_male</th>\n",
              "    </tr>\n",
              "  </thead>\n",
              "  <tbody>\n",
              "    <tr>\n",
              "      <th>0</th>\n",
              "      <td>0</td>\n",
              "      <td>3</td>\n",
              "      <td>22.0</td>\n",
              "      <td>1</td>\n",
              "      <td>0</td>\n",
              "      <td>0</td>\n",
              "      <td>1</td>\n",
              "    </tr>\n",
              "    <tr>\n",
              "      <th>1</th>\n",
              "      <td>1</td>\n",
              "      <td>1</td>\n",
              "      <td>38.0</td>\n",
              "      <td>1</td>\n",
              "      <td>0</td>\n",
              "      <td>1</td>\n",
              "      <td>0</td>\n",
              "    </tr>\n",
              "    <tr>\n",
              "      <th>2</th>\n",
              "      <td>1</td>\n",
              "      <td>3</td>\n",
              "      <td>26.0</td>\n",
              "      <td>0</td>\n",
              "      <td>0</td>\n",
              "      <td>1</td>\n",
              "      <td>0</td>\n",
              "    </tr>\n",
              "    <tr>\n",
              "      <th>3</th>\n",
              "      <td>1</td>\n",
              "      <td>1</td>\n",
              "      <td>35.0</td>\n",
              "      <td>1</td>\n",
              "      <td>0</td>\n",
              "      <td>1</td>\n",
              "      <td>0</td>\n",
              "    </tr>\n",
              "    <tr>\n",
              "      <th>4</th>\n",
              "      <td>0</td>\n",
              "      <td>3</td>\n",
              "      <td>35.0</td>\n",
              "      <td>0</td>\n",
              "      <td>0</td>\n",
              "      <td>0</td>\n",
              "      <td>1</td>\n",
              "    </tr>\n",
              "    <tr>\n",
              "      <th>...</th>\n",
              "      <td>...</td>\n",
              "      <td>...</td>\n",
              "      <td>...</td>\n",
              "      <td>...</td>\n",
              "      <td>...</td>\n",
              "      <td>...</td>\n",
              "      <td>...</td>\n",
              "    </tr>\n",
              "    <tr>\n",
              "      <th>885</th>\n",
              "      <td>0</td>\n",
              "      <td>3</td>\n",
              "      <td>39.0</td>\n",
              "      <td>0</td>\n",
              "      <td>5</td>\n",
              "      <td>1</td>\n",
              "      <td>0</td>\n",
              "    </tr>\n",
              "    <tr>\n",
              "      <th>886</th>\n",
              "      <td>0</td>\n",
              "      <td>2</td>\n",
              "      <td>27.0</td>\n",
              "      <td>0</td>\n",
              "      <td>0</td>\n",
              "      <td>0</td>\n",
              "      <td>1</td>\n",
              "    </tr>\n",
              "    <tr>\n",
              "      <th>887</th>\n",
              "      <td>1</td>\n",
              "      <td>1</td>\n",
              "      <td>19.0</td>\n",
              "      <td>0</td>\n",
              "      <td>0</td>\n",
              "      <td>1</td>\n",
              "      <td>0</td>\n",
              "    </tr>\n",
              "    <tr>\n",
              "      <th>889</th>\n",
              "      <td>1</td>\n",
              "      <td>1</td>\n",
              "      <td>26.0</td>\n",
              "      <td>0</td>\n",
              "      <td>0</td>\n",
              "      <td>0</td>\n",
              "      <td>1</td>\n",
              "    </tr>\n",
              "    <tr>\n",
              "      <th>890</th>\n",
              "      <td>0</td>\n",
              "      <td>3</td>\n",
              "      <td>32.0</td>\n",
              "      <td>0</td>\n",
              "      <td>0</td>\n",
              "      <td>0</td>\n",
              "      <td>1</td>\n",
              "    </tr>\n",
              "  </tbody>\n",
              "</table>\n",
              "<p>714 rows × 7 columns</p>\n",
              "</div>"
            ],
            "text/plain": [
              "     survived  pclass   age  sibsp  parch  sex_female  sex_male\n",
              "0           0       3  22.0      1      0           0         1\n",
              "1           1       1  38.0      1      0           1         0\n",
              "2           1       3  26.0      0      0           1         0\n",
              "3           1       1  35.0      1      0           1         0\n",
              "4           0       3  35.0      0      0           0         1\n",
              "..        ...     ...   ...    ...    ...         ...       ...\n",
              "885         0       3  39.0      0      5           1         0\n",
              "886         0       2  27.0      0      0           0         1\n",
              "887         1       1  19.0      0      0           1         0\n",
              "889         1       1  26.0      0      0           0         1\n",
              "890         0       3  32.0      0      0           0         1\n",
              "\n",
              "[714 rows x 7 columns]"
            ]
          },
          "metadata": {},
          "execution_count": 251
        }
      ]
    },
    {
      "cell_type": "code",
      "metadata": {
        "colab": {
          "base_uri": "https://localhost:8080/",
          "height": 417
        },
        "id": "4TO0f9bodXbY",
        "outputId": "3402f195-5dff-4504-f172-8f9a5fe030d8"
      },
      "source": [
        "df.rename(columns = {'sex_female' : 'female'}, inplace = True)\n",
        "df.rename(columns = {'sex_male' : 'male'}, inplace = True)\n",
        "df"
      ],
      "id": "4TO0f9bodXbY",
      "execution_count": null,
      "outputs": [
        {
          "output_type": "execute_result",
          "data": {
            "text/html": [
              "<div>\n",
              "<style scoped>\n",
              "    .dataframe tbody tr th:only-of-type {\n",
              "        vertical-align: middle;\n",
              "    }\n",
              "\n",
              "    .dataframe tbody tr th {\n",
              "        vertical-align: top;\n",
              "    }\n",
              "\n",
              "    .dataframe thead th {\n",
              "        text-align: right;\n",
              "    }\n",
              "</style>\n",
              "<table border=\"1\" class=\"dataframe\">\n",
              "  <thead>\n",
              "    <tr style=\"text-align: right;\">\n",
              "      <th></th>\n",
              "      <th>survived</th>\n",
              "      <th>pclass</th>\n",
              "      <th>age</th>\n",
              "      <th>sibsp</th>\n",
              "      <th>parch</th>\n",
              "      <th>female</th>\n",
              "      <th>male</th>\n",
              "    </tr>\n",
              "  </thead>\n",
              "  <tbody>\n",
              "    <tr>\n",
              "      <th>0</th>\n",
              "      <td>0</td>\n",
              "      <td>3</td>\n",
              "      <td>22.0</td>\n",
              "      <td>1</td>\n",
              "      <td>0</td>\n",
              "      <td>0</td>\n",
              "      <td>1</td>\n",
              "    </tr>\n",
              "    <tr>\n",
              "      <th>1</th>\n",
              "      <td>1</td>\n",
              "      <td>1</td>\n",
              "      <td>38.0</td>\n",
              "      <td>1</td>\n",
              "      <td>0</td>\n",
              "      <td>1</td>\n",
              "      <td>0</td>\n",
              "    </tr>\n",
              "    <tr>\n",
              "      <th>2</th>\n",
              "      <td>1</td>\n",
              "      <td>3</td>\n",
              "      <td>26.0</td>\n",
              "      <td>0</td>\n",
              "      <td>0</td>\n",
              "      <td>1</td>\n",
              "      <td>0</td>\n",
              "    </tr>\n",
              "    <tr>\n",
              "      <th>3</th>\n",
              "      <td>1</td>\n",
              "      <td>1</td>\n",
              "      <td>35.0</td>\n",
              "      <td>1</td>\n",
              "      <td>0</td>\n",
              "      <td>1</td>\n",
              "      <td>0</td>\n",
              "    </tr>\n",
              "    <tr>\n",
              "      <th>4</th>\n",
              "      <td>0</td>\n",
              "      <td>3</td>\n",
              "      <td>35.0</td>\n",
              "      <td>0</td>\n",
              "      <td>0</td>\n",
              "      <td>0</td>\n",
              "      <td>1</td>\n",
              "    </tr>\n",
              "    <tr>\n",
              "      <th>...</th>\n",
              "      <td>...</td>\n",
              "      <td>...</td>\n",
              "      <td>...</td>\n",
              "      <td>...</td>\n",
              "      <td>...</td>\n",
              "      <td>...</td>\n",
              "      <td>...</td>\n",
              "    </tr>\n",
              "    <tr>\n",
              "      <th>885</th>\n",
              "      <td>0</td>\n",
              "      <td>3</td>\n",
              "      <td>39.0</td>\n",
              "      <td>0</td>\n",
              "      <td>5</td>\n",
              "      <td>1</td>\n",
              "      <td>0</td>\n",
              "    </tr>\n",
              "    <tr>\n",
              "      <th>886</th>\n",
              "      <td>0</td>\n",
              "      <td>2</td>\n",
              "      <td>27.0</td>\n",
              "      <td>0</td>\n",
              "      <td>0</td>\n",
              "      <td>0</td>\n",
              "      <td>1</td>\n",
              "    </tr>\n",
              "    <tr>\n",
              "      <th>887</th>\n",
              "      <td>1</td>\n",
              "      <td>1</td>\n",
              "      <td>19.0</td>\n",
              "      <td>0</td>\n",
              "      <td>0</td>\n",
              "      <td>1</td>\n",
              "      <td>0</td>\n",
              "    </tr>\n",
              "    <tr>\n",
              "      <th>889</th>\n",
              "      <td>1</td>\n",
              "      <td>1</td>\n",
              "      <td>26.0</td>\n",
              "      <td>0</td>\n",
              "      <td>0</td>\n",
              "      <td>0</td>\n",
              "      <td>1</td>\n",
              "    </tr>\n",
              "    <tr>\n",
              "      <th>890</th>\n",
              "      <td>0</td>\n",
              "      <td>3</td>\n",
              "      <td>32.0</td>\n",
              "      <td>0</td>\n",
              "      <td>0</td>\n",
              "      <td>0</td>\n",
              "      <td>1</td>\n",
              "    </tr>\n",
              "  </tbody>\n",
              "</table>\n",
              "<p>714 rows × 7 columns</p>\n",
              "</div>"
            ],
            "text/plain": [
              "     survived  pclass   age  sibsp  parch  female  male\n",
              "0           0       3  22.0      1      0       0     1\n",
              "1           1       1  38.0      1      0       1     0\n",
              "2           1       3  26.0      0      0       1     0\n",
              "3           1       1  35.0      1      0       1     0\n",
              "4           0       3  35.0      0      0       0     1\n",
              "..        ...     ...   ...    ...    ...     ...   ...\n",
              "885         0       3  39.0      0      5       1     0\n",
              "886         0       2  27.0      0      0       0     1\n",
              "887         1       1  19.0      0      0       1     0\n",
              "889         1       1  26.0      0      0       0     1\n",
              "890         0       3  32.0      0      0       0     1\n",
              "\n",
              "[714 rows x 7 columns]"
            ]
          },
          "metadata": {},
          "execution_count": 252
        }
      ]
    },
    {
      "cell_type": "markdown",
      "metadata": {
        "id": "OMU9sSHjSV2x"
      },
      "source": [
        "### 1-3\n",
        "* X = df[['pclass', 'age', 'sibsp', 'parch', 'female', 'male']]\n",
        "* Y = df['survived']\n",
        "* 위의 코드를 실행하고, X를 StandardScaler를 사용해 정규화해주세요."
      ],
      "id": "OMU9sSHjSV2x"
    },
    {
      "cell_type": "code",
      "metadata": {
        "id": "kQLf-G0CSV2y"
      },
      "source": [
        "X = df[['pclass', 'age', 'sibsp', 'parch', 'female', 'male']]\n",
        "Y = df['survived']"
      ],
      "id": "kQLf-G0CSV2y",
      "execution_count": null,
      "outputs": []
    },
    {
      "cell_type": "code",
      "metadata": {
        "id": "_1TUZeSVSV2z"
      },
      "source": [
        "from sklearn.preprocessing import StandardScaler\n",
        "scaler = StandardScaler()\n",
        "X_scaled = scaler.fit(X).transform(X)"
      ],
      "id": "_1TUZeSVSV2z",
      "execution_count": null,
      "outputs": []
    },
    {
      "cell_type": "markdown",
      "metadata": {
        "id": "IwqnxuUZSV2z"
      },
      "source": [
        "### 1-4\n",
        "* 테스트 데이터의 비율은 30%로 하고, 학습 데이터는 train, 테스트 데이터는 test로 저장해주세요. 이 때 데이터 분할 시 랜덤 난수 임의값을 10으로 지정해주세요.\n",
        "* k를 찾는 과정을 실행해주세요."
      ],
      "id": "IwqnxuUZSV2z"
    },
    {
      "cell_type": "code",
      "metadata": {
        "id": "1CjgZNDQSV20"
      },
      "source": [
        "#train_test_split\n",
        "from sklearn.model_selection import train_test_split\n",
        "X_train, X_test, Y_train, Y_test = train_test_split(X_scaled,Y,\n",
        "                                                   test_size=0.3, random_state=10)"
      ],
      "id": "1CjgZNDQSV20",
      "execution_count": null,
      "outputs": []
    },
    {
      "cell_type": "code",
      "metadata": {
        "colab": {
          "base_uri": "https://localhost:8080/",
          "height": 279
        },
        "id": "I-eaa1QiSV20",
        "outputId": "cde4db80-c26d-4073-c299-67b7bb63134a"
      },
      "source": [
        "from sklearn.model_selection import cross_val_score\n",
        "import numpy as np\n",
        "from sklearn.neighbors import KNeighborsClassifier\n",
        "import matplotlib.pyplot as plt\n",
        "\n",
        "# 1부터 100까지의 K 중 10겹교차검증을 통해 KNN 알고리즘의 성능을 가장 좋게하는 K를 찾는 과정입니다.\n",
        "k_range= np.arange(1,101)\n",
        "k_scores = []\n",
        "\n",
        "for k in k_range:\n",
        "    model = KNeighborsClassifier(k)\n",
        "    scores = cross_val_score(model,X_train,Y_train, cv=10, scoring='accuracy')\n",
        "    k_scores.append(scores.mean())\n",
        "\n",
        "plt.plot(k_range, k_scores)\n",
        "plt.xlabel('Value of k for KNN')\n",
        "plt.ylabel('Cross-validated accuracy')\n",
        "plt.show()\n",
        "#코드를 완성하시오."
      ],
      "id": "I-eaa1QiSV20",
      "execution_count": null,
      "outputs": [
        {
          "output_type": "display_data",
          "data": {
            "image/png": "[encoded data removed]",
            "text/plain": [
              "<Figure size 432x288 with 1 Axes>"
            ]
          },
          "metadata": {
            "needs_background": "light"
          }
        }
      ]
    },
    {
      "cell_type": "code",
      "metadata": {
        "colab": {
          "base_uri": "https://localhost:8080/",
          "height": 203
        },
        "id": "0wZzPZ3VSV21",
        "outputId": "0310c76b-425b-4b26-85c0-6c5209b05916"
      },
      "source": [
        "result = pd.DataFrame() \n",
        "result['k'] = k_range \n",
        "result['accuracy'] = k_scores\n",
        "result = result.sort_values(by='accuracy', ascending=False).reset_index(drop=True)\n",
        "result.head()"
      ],
      "id": "0wZzPZ3VSV21",
      "execution_count": null,
      "outputs": [
        {
          "output_type": "execute_result",
          "data": {
            "text/html": [
              "<div>\n",
              "<style scoped>\n",
              "    .dataframe tbody tr th:only-of-type {\n",
              "        vertical-align: middle;\n",
              "    }\n",
              "\n",
              "    .dataframe tbody tr th {\n",
              "        vertical-align: top;\n",
              "    }\n",
              "\n",
              "    .dataframe thead th {\n",
              "        text-align: right;\n",
              "    }\n",
              "</style>\n",
              "<table border=\"1\" class=\"dataframe\">\n",
              "  <thead>\n",
              "    <tr style=\"text-align: right;\">\n",
              "      <th></th>\n",
              "      <th>k</th>\n",
              "      <th>accuracy</th>\n",
              "    </tr>\n",
              "  </thead>\n",
              "  <tbody>\n",
              "    <tr>\n",
              "      <th>0</th>\n",
              "      <td>3</td>\n",
              "      <td>0.811714</td>\n",
              "    </tr>\n",
              "    <tr>\n",
              "      <th>1</th>\n",
              "      <td>4</td>\n",
              "      <td>0.809673</td>\n",
              "    </tr>\n",
              "    <tr>\n",
              "      <th>2</th>\n",
              "      <td>8</td>\n",
              "      <td>0.801673</td>\n",
              "    </tr>\n",
              "    <tr>\n",
              "      <th>3</th>\n",
              "      <td>7</td>\n",
              "      <td>0.801633</td>\n",
              "    </tr>\n",
              "    <tr>\n",
              "      <th>4</th>\n",
              "      <td>6</td>\n",
              "      <td>0.795551</td>\n",
              "    </tr>\n",
              "  </tbody>\n",
              "</table>\n",
              "</div>"
            ],
            "text/plain": [
              "   k  accuracy\n",
              "0  3  0.811714\n",
              "1  4  0.809673\n",
              "2  8  0.801673\n",
              "3  7  0.801633\n",
              "4  6  0.795551"
            ]
          },
          "metadata": {},
          "execution_count": 257
        }
      ]
    },
    {
      "cell_type": "markdown",
      "metadata": {
        "id": "JdlSexDhSV21"
      },
      "source": [
        "### 1-5 \n",
        "* 2.4에서 얻은 k를 하이퍼파라미터로 하는 KNN 알고리즘을 사용해 Survived의 값을 예측하고, accuracy_score를 사용해 모델의 평가해주세요."
      ],
      "id": "JdlSexDhSV21"
    },
    {
      "cell_type": "code",
      "metadata": {
        "id": "DWR_Q1UgSV21"
      },
      "source": [
        "from sklearn import neighbors\n",
        "classifier = neighbors.KNeighborsClassifier(result['k'][0])\n",
        "classifier.fit(X_train, Y_train)\n",
        "pred = classifier.predict(X_test)"
      ],
      "id": "DWR_Q1UgSV21",
      "execution_count": null,
      "outputs": []
    },
    {
      "cell_type": "code",
      "metadata": {
        "colab": {
          "base_uri": "https://localhost:8080/"
        },
        "id": "YUI5XqG2iwyz",
        "outputId": "af813dfd-f1ca-4046-ccb5-8d1fe78f29b4"
      },
      "source": [
        "from sklearn.metrics import confusion_matrix, accuracy_score\n",
        "print(confusion_matrix(Y_test,pred))\n",
        "print(accuracy_score(Y_test,pred))"
      ],
      "id": "YUI5XqG2iwyz",
      "execution_count": null,
      "outputs": [
        {
          "output_type": "stream",
          "name": "stdout",
          "text": [
            "[[109  16]\n",
            " [ 25  65]]\n",
            "0.8093023255813954\n"
          ]
        }
      ]
    },
    {
      "cell_type": "markdown",
      "metadata": {
        "id": "4JUrPWnfDFc3"
      },
      "source": [
        "# 문제 2. SVM 실습"
      ],
      "id": "4JUrPWnfDFc3"
    },
    {
      "cell_type": "markdown",
      "metadata": {
        "id": "UPPTs6s8DFdE"
      },
      "source": [
        "사용할 breast cancer 데이터는 유방암 진단을 위한 데이터셋으로 30개의 속성과 malignant(악성), benign(양성)의 두가지 타겟값을 가지고 있습니다. \n",
        " \n",
        "30개의 독립변수를 통해 유방암을 예측하는 SVM 모델을 만들 예정입니다. "
      ],
      "id": "UPPTs6s8DFdE"
    },
    {
      "cell_type": "markdown",
      "metadata": {
        "id": "HRlTu-yODFdG"
      },
      "source": [
        "### 2-1. 유방암 데이터 불러오기"
      ],
      "id": "HRlTu-yODFdG"
    },
    {
      "cell_type": "code",
      "metadata": {
        "colab": {
          "base_uri": "https://localhost:8080/",
          "height": 943
        },
        "id": "glQpEUwoSV23",
        "outputId": "650f78a4-0673-4216-fd1d-afc16426f6e5"
      },
      "source": [
        "import pandas as pd\n",
        "from sklearn import datasets\n",
        "\n",
        "datasets=datasets.load_breast_cancer()\n",
        "\n",
        "df=pd.DataFrame(data=datasets.data, columns=datasets.feature_names)\n",
        "\n",
        "df['target'] = datasets.target\n",
        "\n",
        "\n",
        "print(df.info())\n",
        "df.head()"
      ],
      "id": "glQpEUwoSV23",
      "execution_count": null,
      "outputs": [
        {
          "output_type": "stream",
          "name": "stdout",
          "text": [
            "<class 'pandas.core.frame.DataFrame'>\n",
            "RangeIndex: 569 entries, 0 to 568\n",
            "Data columns (total 31 columns):\n",
            " #   Column                   Non-Null Count  Dtype  \n",
            "---  ------                   --------------  -----  \n",
            " 0   mean radius              569 non-null    float64\n",
            " 1   mean texture             569 non-null    float64\n",
            " 2   mean perimeter           569 non-null    float64\n",
            " 3   mean area                569 non-null    float64\n",
            " 4   mean smoothness          569 non-null    float64\n",
            " 5   mean compactness         569 non-null    float64\n",
            " 6   mean concavity           569 non-null    float64\n",
            " 7   mean concave points      569 non-null    float64\n",
            " 8   mean symmetry            569 non-null    float64\n",
            " 9   mean fractal dimension   569 non-null    float64\n",
            " 10  radius error             569 non-null    float64\n",
            " 11  texture error            569 non-null    float64\n",
            " 12  perimeter error          569 non-null    float64\n",
            " 13  area error               569 non-null    float64\n",
            " 14  smoothness error         569 non-null    float64\n",
            " 15  compactness error        569 non-null    float64\n",
            " 16  concavity error          569 non-null    float64\n",
            " 17  concave points error     569 non-null    float64\n",
            " 18  symmetry error           569 non-null    float64\n",
            " 19  fractal dimension error  569 non-null    float64\n",
            " 20  worst radius             569 non-null    float64\n",
            " 21  worst texture            569 non-null    float64\n",
            " 22  worst perimeter          569 non-null    float64\n",
            " 23  worst area               569 non-null    float64\n",
            " 24  worst smoothness         569 non-null    float64\n",
            " 25  worst compactness        569 non-null    float64\n",
            " 26  worst concavity          569 non-null    float64\n",
            " 27  worst concave points     569 non-null    float64\n",
            " 28  worst symmetry           569 non-null    float64\n",
            " 29  worst fractal dimension  569 non-null    float64\n",
            " 30  target                   569 non-null    int64  \n",
            "dtypes: float64(30), int64(1)\n",
            "memory usage: 137.9 KB\n",
            "None\n"
          ]
        },
        {
          "output_type": "execute_result",
          "data": {
            "text/html": [
              "<div>\n",
              "<style scoped>\n",
              "    .dataframe tbody tr th:only-of-type {\n",
              "        vertical-align: middle;\n",
              "    }\n",
              "\n",
              "    .dataframe tbody tr th {\n",
              "        vertical-align: top;\n",
              "    }\n",
              "\n",
              "    .dataframe thead th {\n",
              "        text-align: right;\n",
              "    }\n",
              "</style>\n",
              "<table border=\"1\" class=\"dataframe\">\n",
              "  <thead>\n",
              "    <tr style=\"text-align: right;\">\n",
              "      <th></th>\n",
              "      <th>mean radius</th>\n",
              "      <th>mean texture</th>\n",
              "      <th>mean perimeter</th>\n",
              "      <th>mean area</th>\n",
              "      <th>mean smoothness</th>\n",
              "      <th>mean compactness</th>\n",
              "      <th>mean concavity</th>\n",
              "      <th>mean concave points</th>\n",
              "      <th>mean symmetry</th>\n",
              "      <th>mean fractal dimension</th>\n",
              "      <th>radius error</th>\n",
              "      <th>texture error</th>\n",
              "      <th>perimeter error</th>\n",
              "      <th>area error</th>\n",
              "      <th>smoothness error</th>\n",
              "      <th>compactness error</th>\n",
              "      <th>concavity error</th>\n",
              "      <th>concave points error</th>\n",
              "      <th>symmetry error</th>\n",
              "      <th>fractal dimension error</th>\n",
              "      <th>worst radius</th>\n",
              "      <th>worst texture</th>\n",
              "      <th>worst perimeter</th>\n",
              "      <th>worst area</th>\n",
              "      <th>worst smoothness</th>\n",
              "      <th>worst compactness</th>\n",
              "      <th>worst concavity</th>\n",
              "      <th>worst concave points</th>\n",
              "      <th>worst symmetry</th>\n",
              "      <th>worst fractal dimension</th>\n",
              "      <th>target</th>\n",
              "    </tr>\n",
              "  </thead>\n",
              "  <tbody>\n",
              "    <tr>\n",
              "      <th>0</th>\n",
              "      <td>17.99</td>\n",
              "      <td>10.38</td>\n",
              "      <td>122.80</td>\n",
              "      <td>1001.0</td>\n",
              "      <td>0.11840</td>\n",
              "      <td>0.27760</td>\n",
              "      <td>0.3001</td>\n",
              "      <td>0.14710</td>\n",
              "      <td>0.2419</td>\n",
              "      <td>0.07871</td>\n",
              "      <td>1.0950</td>\n",
              "      <td>0.9053</td>\n",
              "      <td>8.589</td>\n",
              "      <td>153.40</td>\n",
              "      <td>0.006399</td>\n",
              "      <td>0.04904</td>\n",
              "      <td>0.05373</td>\n",
              "      <td>0.01587</td>\n",
              "      <td>0.03003</td>\n",
              "      <td>0.006193</td>\n",
              "      <td>25.38</td>\n",
              "      <td>17.33</td>\n",
              "      <td>184.60</td>\n",
              "      <td>2019.0</td>\n",
              "      <td>0.1622</td>\n",
              "      <td>0.6656</td>\n",
              "      <td>0.7119</td>\n",
              "      <td>0.2654</td>\n",
              "      <td>0.4601</td>\n",
              "      <td>0.11890</td>\n",
              "      <td>0</td>\n",
              "    </tr>\n",
              "    <tr>\n",
              "      <th>1</th>\n",
              "      <td>20.57</td>\n",
              "      <td>17.77</td>\n",
              "      <td>132.90</td>\n",
              "      <td>1326.0</td>\n",
              "      <td>0.08474</td>\n",
              "      <td>0.07864</td>\n",
              "      <td>0.0869</td>\n",
              "      <td>0.07017</td>\n",
              "      <td>0.1812</td>\n",
              "      <td>0.05667</td>\n",
              "      <td>0.5435</td>\n",
              "      <td>0.7339</td>\n",
              "      <td>3.398</td>\n",
              "      <td>74.08</td>\n",
              "      <td>0.005225</td>\n",
              "      <td>0.01308</td>\n",
              "      <td>0.01860</td>\n",
              "      <td>0.01340</td>\n",
              "      <td>0.01389</td>\n",
              "      <td>0.003532</td>\n",
              "      <td>24.99</td>\n",
              "      <td>23.41</td>\n",
              "      <td>158.80</td>\n",
              "      <td>1956.0</td>\n",
              "      <td>0.1238</td>\n",
              "      <td>0.1866</td>\n",
              "      <td>0.2416</td>\n",
              "      <td>0.1860</td>\n",
              "      <td>0.2750</td>\n",
              "      <td>0.08902</td>\n",
              "      <td>0</td>\n",
              "    </tr>\n",
              "    <tr>\n",
              "      <th>2</th>\n",
              "      <td>19.69</td>\n",
              "      <td>21.25</td>\n",
              "      <td>130.00</td>\n",
              "      <td>1203.0</td>\n",
              "      <td>0.10960</td>\n",
              "      <td>0.15990</td>\n",
              "      <td>0.1974</td>\n",
              "      <td>0.12790</td>\n",
              "      <td>0.2069</td>\n",
              "      <td>0.05999</td>\n",
              "      <td>0.7456</td>\n",
              "      <td>0.7869</td>\n",
              "      <td>4.585</td>\n",
              "      <td>94.03</td>\n",
              "      <td>0.006150</td>\n",
              "      <td>0.04006</td>\n",
              "      <td>0.03832</td>\n",
              "      <td>0.02058</td>\n",
              "      <td>0.02250</td>\n",
              "      <td>0.004571</td>\n",
              "      <td>23.57</td>\n",
              "      <td>25.53</td>\n",
              "      <td>152.50</td>\n",
              "      <td>1709.0</td>\n",
              "      <td>0.1444</td>\n",
              "      <td>0.4245</td>\n",
              "      <td>0.4504</td>\n",
              "      <td>0.2430</td>\n",
              "      <td>0.3613</td>\n",
              "      <td>0.08758</td>\n",
              "      <td>0</td>\n",
              "    </tr>\n",
              "    <tr>\n",
              "      <th>3</th>\n",
              "      <td>11.42</td>\n",
              "      <td>20.38</td>\n",
              "      <td>77.58</td>\n",
              "      <td>386.1</td>\n",
              "      <td>0.14250</td>\n",
              "      <td>0.28390</td>\n",
              "      <td>0.2414</td>\n",
              "      <td>0.10520</td>\n",
              "      <td>0.2597</td>\n",
              "      <td>0.09744</td>\n",
              "      <td>0.4956</td>\n",
              "      <td>1.1560</td>\n",
              "      <td>3.445</td>\n",
              "      <td>27.23</td>\n",
              "      <td>0.009110</td>\n",
              "      <td>0.07458</td>\n",
              "      <td>0.05661</td>\n",
              "      <td>0.01867</td>\n",
              "      <td>0.05963</td>\n",
              "      <td>0.009208</td>\n",
              "      <td>14.91</td>\n",
              "      <td>26.50</td>\n",
              "      <td>98.87</td>\n",
              "      <td>567.7</td>\n",
              "      <td>0.2098</td>\n",
              "      <td>0.8663</td>\n",
              "      <td>0.6869</td>\n",
              "      <td>0.2575</td>\n",
              "      <td>0.6638</td>\n",
              "      <td>0.17300</td>\n",
              "      <td>0</td>\n",
              "    </tr>\n",
              "    <tr>\n",
              "      <th>4</th>\n",
              "      <td>20.29</td>\n",
              "      <td>14.34</td>\n",
              "      <td>135.10</td>\n",
              "      <td>1297.0</td>\n",
              "      <td>0.10030</td>\n",
              "      <td>0.13280</td>\n",
              "      <td>0.1980</td>\n",
              "      <td>0.10430</td>\n",
              "      <td>0.1809</td>\n",
              "      <td>0.05883</td>\n",
              "      <td>0.7572</td>\n",
              "      <td>0.7813</td>\n",
              "      <td>5.438</td>\n",
              "      <td>94.44</td>\n",
              "      <td>0.011490</td>\n",
              "      <td>0.02461</td>\n",
              "      <td>0.05688</td>\n",
              "      <td>0.01885</td>\n",
              "      <td>0.01756</td>\n",
              "      <td>0.005115</td>\n",
              "      <td>22.54</td>\n",
              "      <td>16.67</td>\n",
              "      <td>152.20</td>\n",
              "      <td>1575.0</td>\n",
              "      <td>0.1374</td>\n",
              "      <td>0.2050</td>\n",
              "      <td>0.4000</td>\n",
              "      <td>0.1625</td>\n",
              "      <td>0.2364</td>\n",
              "      <td>0.07678</td>\n",
              "      <td>0</td>\n",
              "    </tr>\n",
              "  </tbody>\n",
              "</table>\n",
              "</div>"
            ],
            "text/plain": [
              "   mean radius  mean texture  ...  worst fractal dimension  target\n",
              "0        17.99         10.38  ...                  0.11890       0\n",
              "1        20.57         17.77  ...                  0.08902       0\n",
              "2        19.69         21.25  ...                  0.08758       0\n",
              "3        11.42         20.38  ...                  0.17300       0\n",
              "4        20.29         14.34  ...                  0.07678       0\n",
              "\n",
              "[5 rows x 31 columns]"
            ]
          },
          "metadata": {},
          "execution_count": 260
        }
      ]
    },
    {
      "cell_type": "markdown",
      "metadata": {
        "id": "RwVTMa3IErCS"
      },
      "source": [
        "### 2-2. 데이터 탐색\n",
        "데이터에 대해 다음 특성을 탐색해보세요.\n",
        "- 데이터 형태 확인 (shape)\n",
        "- 'target' 변수의 범주(0 or 1)별 개수 확인 (value_counts)\n",
        "- 열별 결측값 확인 (isna)"
      ],
      "id": "RwVTMa3IErCS"
    },
    {
      "cell_type": "code",
      "metadata": {
        "colab": {
          "base_uri": "https://localhost:8080/"
        },
        "id": "E0XaW2b6SV23",
        "outputId": "37aefdec-695a-4bf2-ef88-1dfe584708e2"
      },
      "source": [
        "df.shape"
      ],
      "id": "E0XaW2b6SV23",
      "execution_count": null,
      "outputs": [
        {
          "output_type": "execute_result",
          "data": {
            "text/plain": [
              "(569, 31)"
            ]
          },
          "metadata": {},
          "execution_count": 261
        }
      ]
    },
    {
      "cell_type": "code",
      "metadata": {
        "colab": {
          "base_uri": "https://localhost:8080/",
          "height": 352
        },
        "id": "PPWsTwLYkRrW",
        "outputId": "ffe77d1b-b2ae-4062-cc35-1d3c79f39a1b"
      },
      "source": [
        "import seaborn as sns\n",
        "sns.countplot(df['target']) "
      ],
      "id": "PPWsTwLYkRrW",
      "execution_count": null,
      "outputs": [
        {
          "output_type": "stream",
          "name": "stderr",
          "text": [
            "/usr/local/lib/python3.7/dist-packages/seaborn/_decorators.py:43: FutureWarning: Pass the following variable as a keyword arg: x. From version 0.12, the only valid positional argument will be `data`, and passing other arguments without an explicit keyword will result in an error or misinterpretation.\n",
            "  FutureWarning\n"
          ]
        },
        {
          "output_type": "execute_result",
          "data": {
            "text/plain": [
              "<matplotlib.axes._subplots.AxesSubplot at 0x7f411ee6cfd0>"
            ]
          },
          "metadata": {},
          "execution_count": 262
        },
        {
          "output_type": "display_data",
          "data": {
            "image/png": "[encoded data removed]",
            "text/plain": [
              "<Figure size 432x288 with 1 Axes>"
            ]
          },
          "metadata": {
            "needs_background": "light"
          }
        }
      ]
    },
    {
      "cell_type": "code",
      "metadata": {
        "colab": {
          "base_uri": "https://localhost:8080/"
        },
        "id": "1MSCarKjk_GX",
        "outputId": "7842f00b-596c-49c1-c45d-10d67a97465f"
      },
      "source": [
        "df.isnull().sum()"
      ],
      "id": "1MSCarKjk_GX",
      "execution_count": null,
      "outputs": [
        {
          "output_type": "execute_result",
          "data": {
            "text/plain": [
              "mean radius                0\n",
              "mean texture               0\n",
              "mean perimeter             0\n",
              "mean area                  0\n",
              "mean smoothness            0\n",
              "mean compactness           0\n",
              "mean concavity             0\n",
              "mean concave points        0\n",
              "mean symmetry              0\n",
              "mean fractal dimension     0\n",
              "radius error               0\n",
              "texture error              0\n",
              "perimeter error            0\n",
              "area error                 0\n",
              "smoothness error           0\n",
              "compactness error          0\n",
              "concavity error            0\n",
              "concave points error       0\n",
              "symmetry error             0\n",
              "fractal dimension error    0\n",
              "worst radius               0\n",
              "worst texture              0\n",
              "worst perimeter            0\n",
              "worst area                 0\n",
              "worst smoothness           0\n",
              "worst compactness          0\n",
              "worst concavity            0\n",
              "worst concave points       0\n",
              "worst symmetry             0\n",
              "worst fractal dimension    0\n",
              "target                     0\n",
              "dtype: int64"
            ]
          },
          "metadata": {},
          "execution_count": 263
        }
      ]
    },
    {
      "cell_type": "markdown",
      "metadata": {
        "id": "0URR7Eu9DFdJ"
      },
      "source": [
        "### 2-3.  선형분리/비선형분리 선택하기\n",
        "선형분리 중 linear와 비선형분리 중 rbf를 선택했습니다.\n",
        "\n",
        "아래 코드를 실행한 후, 둘 중 무엇이 좋을지, 그 이유는 무엇일지 적어주세요.\n",
        "* hint: cross validation, kernel, linear, rbf"
      ],
      "id": "0URR7Eu9DFdJ"
    },
    {
      "cell_type": "code",
      "metadata": {
        "id": "JooGdy2PSV24"
      },
      "source": [
        "import sklearn.svm as svm\n",
        "import sklearn.metrics as mt\n",
        "import sklearn.model_selection as ms\n",
        "from sklearn.model_selection import cross_val_score, cross_validate\n",
        "\n",
        "X = df.iloc[:,:-1]\n",
        "y = df.iloc[:,-1]"
      ],
      "id": "JooGdy2PSV24",
      "execution_count": null,
      "outputs": []
    },
    {
      "cell_type": "code",
      "metadata": {
        "colab": {
          "base_uri": "https://localhost:8080/"
        },
        "id": "DEtuXOXeSV24",
        "outputId": "d2815c7d-ad2e-4c8b-d765-8db9b668c057"
      },
      "source": [
        "# 선형분리 진행\n",
        "svm_clf_l =svm.SVC(kernel = 'linear')\n",
        "\n",
        "# 교차검증\n",
        "scores_l = cross_val_score(svm_clf_l, X, y, cv = 5)\n",
        "scores_l\n",
        "\n",
        "print('교차검증 평균: ', scores_l.mean())"
      ],
      "id": "DEtuXOXeSV24",
      "execution_count": null,
      "outputs": [
        {
          "output_type": "stream",
          "name": "stdout",
          "text": [
            "교차검증 평균:  0.9455364073901569\n"
          ]
        }
      ]
    },
    {
      "cell_type": "code",
      "metadata": {
        "colab": {
          "base_uri": "https://localhost:8080/"
        },
        "id": "AhfheNGRSV24",
        "outputId": "89af6caf-14a0-4ead-cd11-a9eaa5475c66"
      },
      "source": [
        "# 비선형분리 진행\n",
        "svm_clf_r =svm.SVC(kernel = 'rbf')\n",
        "\n",
        "# 교차검증\n",
        "scores = cross_val_score(svm_clf_r, X, y, cv = 5)\n",
        "scores\n",
        "\n",
        "print('교차검증 평균: ', scores.mean())"
      ],
      "id": "AhfheNGRSV24",
      "execution_count": null,
      "outputs": [
        {
          "output_type": "stream",
          "name": "stdout",
          "text": [
            "교차검증 평균:  0.9121720229777983\n"
          ]
        }
      ]
    },
    {
      "cell_type": "markdown",
      "metadata": {
        "id": "8rcSK8v_IYk1"
      },
      "source": [
        "무엇이 좋을까요?: rbf\n",
        "\n",
        "이유: 선형 svm으로 분류할수 없는 데이터들이 있을 수 도 있고 score점수는 파라미터를 통해 달라질수도 있다고 생각하기 때문입니다."
      ],
      "id": "8rcSK8v_IYk1"
    },
    {
      "cell_type": "markdown",
      "metadata": {
        "id": "IxHgymaZDFdP"
      },
      "source": [
        "### 2-4. 데이터 나누기\n",
        "데이터를 학습 데이터와 테스트 데이터로 나누세요.\n",
        "\n",
        "- 테스트 데이터의 비율은 20%로 하고, 학습 데이터는 train, 테스트 데이터는 test로 저장해주세요! \n",
        "\n",
        "- 데이터 분할 시 랜덤 난수 임의값을 100으로 지정해주세요.\n",
        "\n",
        "* hint: sklearn, train_test_split, random_state"
      ],
      "id": "IxHgymaZDFdP"
    },
    {
      "cell_type": "code",
      "metadata": {
        "id": "3qDu8WmVSV25"
      },
      "source": [
        "from sklearn.model_selection import train_test_split\n",
        "\n",
        "X_train,X_test,y_train,y_test = train_test_split(df.drop(['target'],axis=1),df['target'], test_size=0.2, random_state=100)"
      ],
      "id": "3qDu8WmVSV25",
      "execution_count": null,
      "outputs": []
    },
    {
      "cell_type": "markdown",
      "metadata": {
        "id": "Mlek5i6oDFdR"
      },
      "source": [
        "### 2-5 하이퍼파라미터 구하고 SVM 적용하기\n",
        "3-3에서 정한 방법에 필요한 파라미터값을 구해준 후, 구한 파라미터로 학습된 모델을 clf에 저장하는 과정입니다.\n",
        "\n",
        "1.선형분리를 택했다면 c 튜닝\n",
        "\n",
        "2.비선형분리를 택했다면 c와 gamma 튜닝 \n",
        "\n",
        "1번과 2번 중 하나를 선택하고, 해당하는 과정에서 빠진 부분을 채운 후 실행해주세요. "
      ],
      "id": "Mlek5i6oDFdR"
    },
    {
      "cell_type": "code",
      "metadata": {
        "id": "48FuyBlSSV25"
      },
      "source": [
        "from sklearn.model_selection import GridSearchCV\n",
        "from sklearn.svm import SVC\n",
        "from sklearn.metrics import classification_report, accuracy_score\n",
        "import numpy as np\n",
        "\n",
        "#빠진 부분을 채우고 실행하세요. \n",
        "#hint: train data를 X_train, y_train으로 나누는 것을 잊지 말아주세요."
      ],
      "id": "48FuyBlSSV25",
      "execution_count": null,
      "outputs": []
    },
    {
      "cell_type": "code",
      "metadata": {
        "id": "-3G9MPXGSV26"
      },
      "source": [
        "#1번 선형을 선택한 경우 빠진 부분을 채우고 실행하세요.\n",
        "\n",
        "\n",
        "def svc_param_selection(X,y,nfolds):\n",
        "    svm_parameters = [\n",
        "                        {'kernel': [''],\n",
        "                         'C': [0.01, 0.1, 1, 10, 100, 1000]\n",
        "                        }\n",
        "                       ]\n",
        "    clf = GridSearchCV(SVC(), svm_parameters, cv=10)\n",
        "    clf.fit(X_train, y_train)\n",
        "    print(clf.best_params_)\n",
        "    \n",
        "    return clf"
      ],
      "id": "-3G9MPXGSV26",
      "execution_count": null,
      "outputs": []
    },
    {
      "cell_type": "code",
      "metadata": {
        "id": "IGisQhpSSV26"
      },
      "source": [
        "#2번 비선형을 선택한 경우 빠진 부분을 채우고 실행하세요.\n",
        "\n",
        "\n",
        "def svc_param_selection(X,y,nfolds):\n",
        "    svm_parameters = [\n",
        "                        {'kernel': ['rbf'],\n",
        "                         'C': [0.01, 0.1, 1, 10, 100, 1000],\n",
        "                         'gamma': [0.00001,0.0001, 0.001, 0.01, 0.1, 1],\n",
        "                        }\n",
        "                       ]\n",
        "    clf = GridSearchCV(SVC(), svm_parameters, cv=10)\n",
        "    clf.fit(X_train, y_train)\n",
        "    print(clf.best_params_)\n",
        "    \n",
        "    return clf"
      ],
      "id": "IGisQhpSSV26",
      "execution_count": null,
      "outputs": []
    },
    {
      "cell_type": "code",
      "metadata": {
        "colab": {
          "base_uri": "https://localhost:8080/"
        },
        "id": "ngG-1ATVSV26",
        "outputId": "4ba29b56-1904-4b0d-ca01-d9f95a2f5e23"
      },
      "source": [
        "clf = svc_param_selection(X_train, y_train, 10) "
      ],
      "id": "ngG-1ATVSV26",
      "execution_count": null,
      "outputs": [
        {
          "output_type": "stream",
          "name": "stdout",
          "text": [
            "{'C': 100, 'gamma': 1e-05, 'kernel': 'rbf'}\n"
          ]
        }
      ]
    },
    {
      "cell_type": "code",
      "metadata": {
        "colab": {
          "base_uri": "https://localhost:8080/",
          "height": 1000
        },
        "id": "Isedp0SHSV26",
        "outputId": "1a972d12-1e50-4835-90ca-8df4abfc72d3"
      },
      "source": [
        "#clf로 저장한 모델의 train 정확도를 확인하는 코드입니다. 실행하세요. \n",
        "result = pd.DataFrame(clf.cv_results_['params'])\n",
        "result['mean_test_score'] = clf.cv_results_['mean_test_score']\n",
        "result.sort_values(by='mean_test_score', ascending=False)"
      ],
      "id": "Isedp0SHSV26",
      "execution_count": null,
      "outputs": [
        {
          "output_type": "execute_result",
          "data": {
            "text/html": [
              "<div>\n",
              "<style scoped>\n",
              "    .dataframe tbody tr th:only-of-type {\n",
              "        vertical-align: middle;\n",
              "    }\n",
              "\n",
              "    .dataframe tbody tr th {\n",
              "        vertical-align: top;\n",
              "    }\n",
              "\n",
              "    .dataframe thead th {\n",
              "        text-align: right;\n",
              "    }\n",
              "</style>\n",
              "<table border=\"1\" class=\"dataframe\">\n",
              "  <thead>\n",
              "    <tr style=\"text-align: right;\">\n",
              "      <th></th>\n",
              "      <th>C</th>\n",
              "      <th>gamma</th>\n",
              "      <th>kernel</th>\n",
              "      <th>mean_test_score</th>\n",
              "    </tr>\n",
              "  </thead>\n",
              "  <tbody>\n",
              "    <tr>\n",
              "      <th>24</th>\n",
              "      <td>100.00</td>\n",
              "      <td>0.00001</td>\n",
              "      <td>rbf</td>\n",
              "      <td>0.951546</td>\n",
              "    </tr>\n",
              "    <tr>\n",
              "      <th>30</th>\n",
              "      <td>1000.00</td>\n",
              "      <td>0.00001</td>\n",
              "      <td>rbf</td>\n",
              "      <td>0.945217</td>\n",
              "    </tr>\n",
              "    <tr>\n",
              "      <th>18</th>\n",
              "      <td>10.00</td>\n",
              "      <td>0.00001</td>\n",
              "      <td>rbf</td>\n",
              "      <td>0.942850</td>\n",
              "    </tr>\n",
              "    <tr>\n",
              "      <th>13</th>\n",
              "      <td>1.00</td>\n",
              "      <td>0.00010</td>\n",
              "      <td>rbf</td>\n",
              "      <td>0.938551</td>\n",
              "    </tr>\n",
              "    <tr>\n",
              "      <th>19</th>\n",
              "      <td>10.00</td>\n",
              "      <td>0.00010</td>\n",
              "      <td>rbf</td>\n",
              "      <td>0.938406</td>\n",
              "    </tr>\n",
              "    <tr>\n",
              "      <th>7</th>\n",
              "      <td>0.10</td>\n",
              "      <td>0.00010</td>\n",
              "      <td>rbf</td>\n",
              "      <td>0.925217</td>\n",
              "    </tr>\n",
              "    <tr>\n",
              "      <th>25</th>\n",
              "      <td>100.00</td>\n",
              "      <td>0.00010</td>\n",
              "      <td>rbf</td>\n",
              "      <td>0.923140</td>\n",
              "    </tr>\n",
              "    <tr>\n",
              "      <th>12</th>\n",
              "      <td>1.00</td>\n",
              "      <td>0.00001</td>\n",
              "      <td>rbf</td>\n",
              "      <td>0.920821</td>\n",
              "    </tr>\n",
              "    <tr>\n",
              "      <th>14</th>\n",
              "      <td>1.00</td>\n",
              "      <td>0.00100</td>\n",
              "      <td>rbf</td>\n",
              "      <td>0.918744</td>\n",
              "    </tr>\n",
              "    <tr>\n",
              "      <th>6</th>\n",
              "      <td>0.10</td>\n",
              "      <td>0.00001</td>\n",
              "      <td>rbf</td>\n",
              "      <td>0.914251</td>\n",
              "    </tr>\n",
              "    <tr>\n",
              "      <th>32</th>\n",
              "      <td>1000.00</td>\n",
              "      <td>0.00100</td>\n",
              "      <td>rbf</td>\n",
              "      <td>0.907633</td>\n",
              "    </tr>\n",
              "    <tr>\n",
              "      <th>26</th>\n",
              "      <td>100.00</td>\n",
              "      <td>0.00100</td>\n",
              "      <td>rbf</td>\n",
              "      <td>0.907633</td>\n",
              "    </tr>\n",
              "    <tr>\n",
              "      <th>20</th>\n",
              "      <td>10.00</td>\n",
              "      <td>0.00100</td>\n",
              "      <td>rbf</td>\n",
              "      <td>0.907585</td>\n",
              "    </tr>\n",
              "    <tr>\n",
              "      <th>31</th>\n",
              "      <td>1000.00</td>\n",
              "      <td>0.00010</td>\n",
              "      <td>rbf</td>\n",
              "      <td>0.901304</td>\n",
              "    </tr>\n",
              "    <tr>\n",
              "      <th>33</th>\n",
              "      <td>1000.00</td>\n",
              "      <td>0.01000</td>\n",
              "      <td>rbf</td>\n",
              "      <td>0.648309</td>\n",
              "    </tr>\n",
              "    <tr>\n",
              "      <th>21</th>\n",
              "      <td>10.00</td>\n",
              "      <td>0.01000</td>\n",
              "      <td>rbf</td>\n",
              "      <td>0.648309</td>\n",
              "    </tr>\n",
              "    <tr>\n",
              "      <th>27</th>\n",
              "      <td>100.00</td>\n",
              "      <td>0.01000</td>\n",
              "      <td>rbf</td>\n",
              "      <td>0.648309</td>\n",
              "    </tr>\n",
              "    <tr>\n",
              "      <th>0</th>\n",
              "      <td>0.01</td>\n",
              "      <td>0.00001</td>\n",
              "      <td>rbf</td>\n",
              "      <td>0.644010</td>\n",
              "    </tr>\n",
              "    <tr>\n",
              "      <th>1</th>\n",
              "      <td>0.01</td>\n",
              "      <td>0.00010</td>\n",
              "      <td>rbf</td>\n",
              "      <td>0.641787</td>\n",
              "    </tr>\n",
              "    <tr>\n",
              "      <th>17</th>\n",
              "      <td>1.00</td>\n",
              "      <td>1.00000</td>\n",
              "      <td>rbf</td>\n",
              "      <td>0.641787</td>\n",
              "    </tr>\n",
              "    <tr>\n",
              "      <th>34</th>\n",
              "      <td>1000.00</td>\n",
              "      <td>0.10000</td>\n",
              "      <td>rbf</td>\n",
              "      <td>0.641787</td>\n",
              "    </tr>\n",
              "    <tr>\n",
              "      <th>2</th>\n",
              "      <td>0.01</td>\n",
              "      <td>0.00100</td>\n",
              "      <td>rbf</td>\n",
              "      <td>0.641787</td>\n",
              "    </tr>\n",
              "    <tr>\n",
              "      <th>3</th>\n",
              "      <td>0.01</td>\n",
              "      <td>0.01000</td>\n",
              "      <td>rbf</td>\n",
              "      <td>0.641787</td>\n",
              "    </tr>\n",
              "    <tr>\n",
              "      <th>4</th>\n",
              "      <td>0.01</td>\n",
              "      <td>0.10000</td>\n",
              "      <td>rbf</td>\n",
              "      <td>0.641787</td>\n",
              "    </tr>\n",
              "    <tr>\n",
              "      <th>5</th>\n",
              "      <td>0.01</td>\n",
              "      <td>1.00000</td>\n",
              "      <td>rbf</td>\n",
              "      <td>0.641787</td>\n",
              "    </tr>\n",
              "    <tr>\n",
              "      <th>29</th>\n",
              "      <td>100.00</td>\n",
              "      <td>1.00000</td>\n",
              "      <td>rbf</td>\n",
              "      <td>0.641787</td>\n",
              "    </tr>\n",
              "    <tr>\n",
              "      <th>28</th>\n",
              "      <td>100.00</td>\n",
              "      <td>0.10000</td>\n",
              "      <td>rbf</td>\n",
              "      <td>0.641787</td>\n",
              "    </tr>\n",
              "    <tr>\n",
              "      <th>8</th>\n",
              "      <td>0.10</td>\n",
              "      <td>0.00100</td>\n",
              "      <td>rbf</td>\n",
              "      <td>0.641787</td>\n",
              "    </tr>\n",
              "    <tr>\n",
              "      <th>9</th>\n",
              "      <td>0.10</td>\n",
              "      <td>0.01000</td>\n",
              "      <td>rbf</td>\n",
              "      <td>0.641787</td>\n",
              "    </tr>\n",
              "    <tr>\n",
              "      <th>10</th>\n",
              "      <td>0.10</td>\n",
              "      <td>0.10000</td>\n",
              "      <td>rbf</td>\n",
              "      <td>0.641787</td>\n",
              "    </tr>\n",
              "    <tr>\n",
              "      <th>11</th>\n",
              "      <td>0.10</td>\n",
              "      <td>1.00000</td>\n",
              "      <td>rbf</td>\n",
              "      <td>0.641787</td>\n",
              "    </tr>\n",
              "    <tr>\n",
              "      <th>23</th>\n",
              "      <td>10.00</td>\n",
              "      <td>1.00000</td>\n",
              "      <td>rbf</td>\n",
              "      <td>0.641787</td>\n",
              "    </tr>\n",
              "    <tr>\n",
              "      <th>22</th>\n",
              "      <td>10.00</td>\n",
              "      <td>0.10000</td>\n",
              "      <td>rbf</td>\n",
              "      <td>0.641787</td>\n",
              "    </tr>\n",
              "    <tr>\n",
              "      <th>15</th>\n",
              "      <td>1.00</td>\n",
              "      <td>0.01000</td>\n",
              "      <td>rbf</td>\n",
              "      <td>0.641787</td>\n",
              "    </tr>\n",
              "    <tr>\n",
              "      <th>16</th>\n",
              "      <td>1.00</td>\n",
              "      <td>0.10000</td>\n",
              "      <td>rbf</td>\n",
              "      <td>0.641787</td>\n",
              "    </tr>\n",
              "    <tr>\n",
              "      <th>35</th>\n",
              "      <td>1000.00</td>\n",
              "      <td>1.00000</td>\n",
              "      <td>rbf</td>\n",
              "      <td>0.641787</td>\n",
              "    </tr>\n",
              "  </tbody>\n",
              "</table>\n",
              "</div>"
            ],
            "text/plain": [
              "          C    gamma kernel  mean_test_score\n",
              "24   100.00  0.00001    rbf         0.951546\n",
              "30  1000.00  0.00001    rbf         0.945217\n",
              "18    10.00  0.00001    rbf         0.942850\n",
              "13     1.00  0.00010    rbf         0.938551\n",
              "19    10.00  0.00010    rbf         0.938406\n",
              "7      0.10  0.00010    rbf         0.925217\n",
              "25   100.00  0.00010    rbf         0.923140\n",
              "12     1.00  0.00001    rbf         0.920821\n",
              "14     1.00  0.00100    rbf         0.918744\n",
              "6      0.10  0.00001    rbf         0.914251\n",
              "32  1000.00  0.00100    rbf         0.907633\n",
              "26   100.00  0.00100    rbf         0.907633\n",
              "20    10.00  0.00100    rbf         0.907585\n",
              "31  1000.00  0.00010    rbf         0.901304\n",
              "33  1000.00  0.01000    rbf         0.648309\n",
              "21    10.00  0.01000    rbf         0.648309\n",
              "27   100.00  0.01000    rbf         0.648309\n",
              "0      0.01  0.00001    rbf         0.644010\n",
              "1      0.01  0.00010    rbf         0.641787\n",
              "17     1.00  1.00000    rbf         0.641787\n",
              "34  1000.00  0.10000    rbf         0.641787\n",
              "2      0.01  0.00100    rbf         0.641787\n",
              "3      0.01  0.01000    rbf         0.641787\n",
              "4      0.01  0.10000    rbf         0.641787\n",
              "5      0.01  1.00000    rbf         0.641787\n",
              "29   100.00  1.00000    rbf         0.641787\n",
              "28   100.00  0.10000    rbf         0.641787\n",
              "8      0.10  0.00100    rbf         0.641787\n",
              "9      0.10  0.01000    rbf         0.641787\n",
              "10     0.10  0.10000    rbf         0.641787\n",
              "11     0.10  1.00000    rbf         0.641787\n",
              "23    10.00  1.00000    rbf         0.641787\n",
              "22    10.00  0.10000    rbf         0.641787\n",
              "15     1.00  0.01000    rbf         0.641787\n",
              "16     1.00  0.10000    rbf         0.641787\n",
              "35  1000.00  1.00000    rbf         0.641787"
            ]
          },
          "metadata": {},
          "execution_count": 272
        }
      ]
    },
    {
      "cell_type": "markdown",
      "metadata": {
        "id": "_sj9QwRRDFdW"
      },
      "source": [
        "### 2-6. 테스트 \n",
        "최적의 파라미터로 학습된 clf를 이용하여,\n",
        "테스트를 진행해봅시다.\n",
        "\n",
        "테스트 결과 정확도는 어떻게 나왔나요?"
      ],
      "id": "_sj9QwRRDFdW"
    },
    {
      "cell_type": "code",
      "metadata": {
        "colab": {
          "base_uri": "https://localhost:8080/"
        },
        "id": "yAskoAG1SV27",
        "outputId": "a73c8697-c7aa-4005-fb99-2f8e74ef32b5"
      },
      "source": [
        "#test data를 X_test, y_test으로 나누는 것을 잊지 말아주세요\n",
        "\n",
        "y_true, y_pred = y_test, clf.predict(X_test)\n",
        "print(classification_report(y_true, y_pred))\n",
        "print(\"accuracy : \"+str(accuracy_score(y_true, y_pred)))"
      ],
      "id": "yAskoAG1SV27",
      "execution_count": null,
      "outputs": [
        {
          "output_type": "stream",
          "name": "stdout",
          "text": [
            "              precision    recall  f1-score   support\n",
            "\n",
            "           0       0.96      0.98      0.97        49\n",
            "           1       0.98      0.97      0.98        65\n",
            "\n",
            "    accuracy                           0.97       114\n",
            "   macro avg       0.97      0.97      0.97       114\n",
            "weighted avg       0.97      0.97      0.97       114\n",
            "\n",
            "accuracy : 0.9736842105263158\n"
          ]
        }
      ]
    },
    {
      "cell_type": "markdown",
      "metadata": {
        "id": "vQ6oTuB1DFdZ"
      },
      "source": [
        "## 3. SVM 성능 개선하기\n",
        "발표에서도 언급했듯이 SVM 모델은 \"______\"에 민감하기 때문에\n",
        "전처리에서 이 과정을 꼭 거쳐야 합니다.\n",
        "위에서 빼먹은 이 과정은 무엇일까요?"
      ],
      "id": "vQ6oTuB1DFdZ"
    },
    {
      "cell_type": "markdown",
      "metadata": {
        "id": "IlSDURIPDFdZ"
      },
      "source": [
        "답: 표준화입니다."
      ],
      "id": "IlSDURIPDFdZ"
    }
  ]
}