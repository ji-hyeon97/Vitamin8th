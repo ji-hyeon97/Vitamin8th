{
  "nbformat": 4,
  "nbformat_minor": 0,
  "metadata": {
    "colab": {
      "name": "8기_비타민_서지현_2주차_복습과제.ipynb",
      "provenance": []
    },
    "kernelspec": {
      "name": "python3",
      "display_name": "Python 3"
    },
    "language_info": {
      "name": "python"
    }
  },
  "cells": [
    {
      "cell_type": "code",
      "metadata": {
        "id": "wzRL8QMSQSVK"
      },
      "source": [
        "import warnings\n",
        "warnings.filterwarnings('ignore')\n",
        "\n",
        "import matplotlib.pyplot as plt\n",
        "import seaborn as sns\n",
        "import plotly.express as px\n",
        "import pandas as pd\n",
        "import numpy as np"
      ],
      "execution_count": null,
      "outputs": []
    },
    {
      "cell_type": "markdown",
      "metadata": {
        "id": "tZvnBvxqQaUl"
      },
      "source": [
        "# 1. MATPLOTLIB\n",
        "## 다음과 같은 파이 차트를 그리세요"
      ]
    },
    {
      "cell_type": "markdown",
      "metadata": {
        "id": "DUjamXwsQdvg"
      },
      "source": [
        "조건 1. FORD의 explode는 0.2이다.\n",
        "\n",
        "조건 2. explode, labels, colors, autopct, shadow, counterclock 옵션을 사용하시오."
      ]
    },
    {
      "cell_type": "code",
      "metadata": {
        "colab": {
          "base_uri": "https://localhost:8080/",
          "height": 248
        },
        "id": "7viXAaKtQfDG",
        "outputId": "78f3e748-e82e-4ad2-d00d-d88e33e59c52"
      },
      "source": [
        "cars=['AUDI', 'BMW', 'FORD', 'TESLA', 'JAGUAR']\n",
        "data=[23, 29, 41, 12, 17]\n",
        "colors =['blue','yellow','green','red','purple']\n",
        "\n",
        "plt.pie(data,\n",
        "        explode=(0,0,0.2,0,0),\n",
        "        labels = cars, \n",
        "        colors = colors,  \n",
        "        autopct = '%1.1f%%', \n",
        "        shadow = True, \n",
        "        counterclock = False)\n",
        "\n",
        "plt.show()"
      ],
      "execution_count": null,
      "outputs": [
        {
          "output_type": "display_data",
          "data": {
            "image/png": "[encoded data removed]",
            "text/plain": [
              "<Figure size 432x288 with 1 Axes>"
            ]
          },
          "metadata": {}
        }
      ]
    },
    {
      "cell_type": "markdown",
      "metadata": {
        "id": "84YohtTeTUum"
      },
      "source": [
        "# 2. SEABORN"
      ]
    },
    {
      "cell_type": "code",
      "metadata": {
        "colab": {
          "base_uri": "https://localhost:8080/",
          "height": 417
        },
        "id": "llCm3PLcTWzm",
        "outputId": "c0fa70f3-6bf6-4407-be1d-c5c32dfb6b5f"
      },
      "source": [
        "tips=sns.load_dataset('tips')\n",
        "tips"
      ],
      "execution_count": null,
      "outputs": [
        {
          "output_type": "execute_result",
          "data": {
            "text/html": [
              "<div>\n",
              "<style scoped>\n",
              "    .dataframe tbody tr th:only-of-type {\n",
              "        vertical-align: middle;\n",
              "    }\n",
              "\n",
              "    .dataframe tbody tr th {\n",
              "        vertical-align: top;\n",
              "    }\n",
              "\n",
              "    .dataframe thead th {\n",
              "        text-align: right;\n",
              "    }\n",
              "</style>\n",
              "<table border=\"1\" class=\"dataframe\">\n",
              "  <thead>\n",
              "    <tr style=\"text-align: right;\">\n",
              "      <th></th>\n",
              "      <th>total_bill</th>\n",
              "      <th>tip</th>\n",
              "      <th>sex</th>\n",
              "      <th>smoker</th>\n",
              "      <th>day</th>\n",
              "      <th>time</th>\n",
              "      <th>size</th>\n",
              "    </tr>\n",
              "  </thead>\n",
              "  <tbody>\n",
              "    <tr>\n",
              "      <th>0</th>\n",
              "      <td>16.99</td>\n",
              "      <td>1.01</td>\n",
              "      <td>Female</td>\n",
              "      <td>No</td>\n",
              "      <td>Sun</td>\n",
              "      <td>Dinner</td>\n",
              "      <td>2</td>\n",
              "    </tr>\n",
              "    <tr>\n",
              "      <th>1</th>\n",
              "      <td>10.34</td>\n",
              "      <td>1.66</td>\n",
              "      <td>Male</td>\n",
              "      <td>No</td>\n",
              "      <td>Sun</td>\n",
              "      <td>Dinner</td>\n",
              "      <td>3</td>\n",
              "    </tr>\n",
              "    <tr>\n",
              "      <th>2</th>\n",
              "      <td>21.01</td>\n",
              "      <td>3.50</td>\n",
              "      <td>Male</td>\n",
              "      <td>No</td>\n",
              "      <td>Sun</td>\n",
              "      <td>Dinner</td>\n",
              "      <td>3</td>\n",
              "    </tr>\n",
              "    <tr>\n",
              "      <th>3</th>\n",
              "      <td>23.68</td>\n",
              "      <td>3.31</td>\n",
              "      <td>Male</td>\n",
              "      <td>No</td>\n",
              "      <td>Sun</td>\n",
              "      <td>Dinner</td>\n",
              "      <td>2</td>\n",
              "    </tr>\n",
              "    <tr>\n",
              "      <th>4</th>\n",
              "      <td>24.59</td>\n",
              "      <td>3.61</td>\n",
              "      <td>Female</td>\n",
              "      <td>No</td>\n",
              "      <td>Sun</td>\n",
              "      <td>Dinner</td>\n",
              "      <td>4</td>\n",
              "    </tr>\n",
              "    <tr>\n",
              "      <th>...</th>\n",
              "      <td>...</td>\n",
              "      <td>...</td>\n",
              "      <td>...</td>\n",
              "      <td>...</td>\n",
              "      <td>...</td>\n",
              "      <td>...</td>\n",
              "      <td>...</td>\n",
              "    </tr>\n",
              "    <tr>\n",
              "      <th>239</th>\n",
              "      <td>29.03</td>\n",
              "      <td>5.92</td>\n",
              "      <td>Male</td>\n",
              "      <td>No</td>\n",
              "      <td>Sat</td>\n",
              "      <td>Dinner</td>\n",
              "      <td>3</td>\n",
              "    </tr>\n",
              "    <tr>\n",
              "      <th>240</th>\n",
              "      <td>27.18</td>\n",
              "      <td>2.00</td>\n",
              "      <td>Female</td>\n",
              "      <td>Yes</td>\n",
              "      <td>Sat</td>\n",
              "      <td>Dinner</td>\n",
              "      <td>2</td>\n",
              "    </tr>\n",
              "    <tr>\n",
              "      <th>241</th>\n",
              "      <td>22.67</td>\n",
              "      <td>2.00</td>\n",
              "      <td>Male</td>\n",
              "      <td>Yes</td>\n",
              "      <td>Sat</td>\n",
              "      <td>Dinner</td>\n",
              "      <td>2</td>\n",
              "    </tr>\n",
              "    <tr>\n",
              "      <th>242</th>\n",
              "      <td>17.82</td>\n",
              "      <td>1.75</td>\n",
              "      <td>Male</td>\n",
              "      <td>No</td>\n",
              "      <td>Sat</td>\n",
              "      <td>Dinner</td>\n",
              "      <td>2</td>\n",
              "    </tr>\n",
              "    <tr>\n",
              "      <th>243</th>\n",
              "      <td>18.78</td>\n",
              "      <td>3.00</td>\n",
              "      <td>Female</td>\n",
              "      <td>No</td>\n",
              "      <td>Thur</td>\n",
              "      <td>Dinner</td>\n",
              "      <td>2</td>\n",
              "    </tr>\n",
              "  </tbody>\n",
              "</table>\n",
              "<p>244 rows × 7 columns</p>\n",
              "</div>"
            ],
            "text/plain": [
              "     total_bill   tip     sex smoker   day    time  size\n",
              "0         16.99  1.01  Female     No   Sun  Dinner     2\n",
              "1         10.34  1.66    Male     No   Sun  Dinner     3\n",
              "2         21.01  3.50    Male     No   Sun  Dinner     3\n",
              "3         23.68  3.31    Male     No   Sun  Dinner     2\n",
              "4         24.59  3.61  Female     No   Sun  Dinner     4\n",
              "..          ...   ...     ...    ...   ...     ...   ...\n",
              "239       29.03  5.92    Male     No   Sat  Dinner     3\n",
              "240       27.18  2.00  Female    Yes   Sat  Dinner     2\n",
              "241       22.67  2.00    Male    Yes   Sat  Dinner     2\n",
              "242       17.82  1.75    Male     No   Sat  Dinner     2\n",
              "243       18.78  3.00  Female     No  Thur  Dinner     2\n",
              "\n",
              "[244 rows x 7 columns]"
            ]
          },
          "metadata": {},
          "execution_count": 3
        }
      ]
    },
    {
      "cell_type": "markdown",
      "metadata": {
        "id": "42YL52SBTeQq"
      },
      "source": [
        "## 2-1. 총 금액, 성별 변수 각각의 분포\n",
        "\n",
        "힌트 : matplot, 도수분포표를 그래프로 표현"
      ]
    },
    {
      "cell_type": "code",
      "metadata": {
        "colab": {
          "base_uri": "https://localhost:8080/",
          "height": 265
        },
        "id": "BNyUzHpsaSj_",
        "outputId": "c7a97202-07e5-4558-b19a-2d1970fc6b84"
      },
      "source": [
        "plt.hist(tips['total_bill'], bins=30, color='green',alpha=0.5)\n",
        "plt.show()\n",
        "\n",
        "#막대그래프 표현"
      ],
      "execution_count": null,
      "outputs": [
        {
          "output_type": "display_data",
          "data": {
            "image/png": "[encoded data removed]",
            "text/plain": [
              "<Figure size 432x288 with 1 Axes>"
            ]
          },
          "metadata": {
            "needs_background": "light"
          }
        }
      ]
    },
    {
      "cell_type": "markdown",
      "metadata": {
        "id": "CUJ_hepu1ypg"
      },
      "source": [
        "힌트 : seaborn, 각 범주의 데이터 값의 크기에 비례하여 직사각형 막대로 표현"
      ]
    },
    {
      "cell_type": "code",
      "metadata": {
        "colab": {
          "base_uri": "https://localhost:8080/",
          "height": 297
        },
        "id": "gGvj75-Jd5xb",
        "outputId": "8df07727-2529-40d4-98b6-223d9c775aa1"
      },
      "source": [
        "sns.countplot(x='sex', data=tips, hue='size')"
      ],
      "execution_count": null,
      "outputs": [
        {
          "output_type": "execute_result",
          "data": {
            "text/plain": [
              "<matplotlib.axes._subplots.AxesSubplot at 0x7f71fe3f2d50>"
            ]
          },
          "metadata": {},
          "execution_count": 5
        },
        {
          "output_type": "display_data",
          "data": {
            "image/png": "[encoded data removed]",
            "text/plain": [
              "<Figure size 432x288 with 1 Axes>"
            ]
          },
          "metadata": {
            "needs_background": "light"
          }
        }
      ]
    },
    {
      "cell_type": "markdown",
      "metadata": {
        "id": "JQTGpTHH2OL4"
      },
      "source": [
        "## 2-2. 성별에 따른 팁 금액 차이가 있는가?\n",
        "\n",
        "힌트 : seaborn, 5개의 요약통계량을 표현"
      ]
    },
    {
      "cell_type": "code",
      "metadata": {
        "colab": {
          "base_uri": "https://localhost:8080/",
          "height": 297
        },
        "id": "ZGM7Wjch2P-T",
        "outputId": "5d149f03-300c-4d47-a49c-43ef5fedf015"
      },
      "source": [
        "sns.boxplot(x='sex',y='tip',data=tips)\n",
        "\n",
        "#음... 있긴 하지만 거의 없다고 보아도 될거 같습니다.."
      ],
      "execution_count": null,
      "outputs": [
        {
          "output_type": "execute_result",
          "data": {
            "text/plain": [
              "<matplotlib.axes._subplots.AxesSubplot at 0x7f71fe384210>"
            ]
          },
          "metadata": {},
          "execution_count": 6
        },
        {
          "output_type": "display_data",
          "data": {
            "image/png": "[encoded data removed]",
            "text/plain": [
              "<Figure size 432x288 with 1 Axes>"
            ]
          },
          "metadata": {
            "needs_background": "light"
          }
        }
      ]
    },
    {
      "cell_type": "markdown",
      "metadata": {
        "id": "bs7cJMbw4F3B"
      },
      "source": [
        "## 2-3. 파티의 사이즈별로 팁 금액의 차이가 있는가?\n",
        "\n",
        "힌트 : seaborn, 각 범주에 따른 분포의 전체 형상을 직관적으로 표현"
      ]
    },
    {
      "cell_type": "code",
      "metadata": {
        "colab": {
          "base_uri": "https://localhost:8080/",
          "height": 297
        },
        "id": "1NAfU_Yb4HTr",
        "outputId": "ccb4dc50-5ee0-44c5-c2f5-12bc19914438"
      },
      "source": [
        "sns.boxplot(x='size',y='tip',data=tips)\n",
        "\n",
        "#size가 클수록 tip금액이 늘어나는것 같습니다."
      ],
      "execution_count": null,
      "outputs": [
        {
          "output_type": "execute_result",
          "data": {
            "text/plain": [
              "<matplotlib.axes._subplots.AxesSubplot at 0x7f71fdf7d850>"
            ]
          },
          "metadata": {},
          "execution_count": 7
        },
        {
          "output_type": "display_data",
          "data": {
            "image/png": "[encoded data removed]",
            "text/plain": [
              "<Figure size 432x288 with 1 Axes>"
            ]
          },
          "metadata": {
            "needs_background": "light"
          }
        }
      ]
    },
    {
      "cell_type": "markdown",
      "metadata": {
        "id": "O5JMCQea4pFb"
      },
      "source": [
        "## 2-4. 총 금액과 팁은 관계가 있는가?\n",
        "\n",
        "힌트 : seaborn, 서로 다른 연속형 변수의 관계를 점으로 표현"
      ]
    },
    {
      "cell_type": "code",
      "metadata": {
        "colab": {
          "base_uri": "https://localhost:8080/",
          "height": 568
        },
        "id": "odXEpfFj4qzq",
        "outputId": "d4a1ba8b-fd84-459f-f121-e5e61332170d"
      },
      "source": [
        "sns.pairplot(tips)\n",
        "\n",
        "#정비례 관계에 가까운거 같습니다."
      ],
      "execution_count": null,
      "outputs": [
        {
          "output_type": "execute_result",
          "data": {
            "text/plain": [
              "<seaborn.axisgrid.PairGrid at 0x7f71fdeda5d0>"
            ]
          },
          "metadata": {},
          "execution_count": 8
        },
        {
          "output_type": "display_data",
          "data": {
            "image/png": "[encoded data removed]",
            "text/plain": [
              "<Figure size 540x540 with 12 Axes>"
            ]
          },
          "metadata": {
            "needs_background": "light"
          }
        }
      ]
    },
    {
      "cell_type": "markdown",
      "metadata": {
        "id": "bZKUNqE256xs"
      },
      "source": [
        "# 3. PLOTLY\n",
        "## 3-1. 유럽 일부 국가의 gdpPercap 구하기"
      ]
    },
    {
      "cell_type": "code",
      "metadata": {
        "colab": {
          "base_uri": "https://localhost:8080/"
        },
        "id": "bTuTlNN958iH",
        "outputId": "0051a3c2-243b-41a8-c9c2-8f2305bc7c0a"
      },
      "source": [
        "pip install plotly"
      ],
      "execution_count": null,
      "outputs": [
        {
          "output_type": "stream",
          "text": [
            "Requirement already satisfied: plotly in /usr/local/lib/python3.7/dist-packages (4.4.1)\n",
            "Requirement already satisfied: retrying>=1.3.3 in /usr/local/lib/python3.7/dist-packages (from plotly) (1.3.3)\n",
            "Requirement already satisfied: six in /usr/local/lib/python3.7/dist-packages (from plotly) (1.15.0)\n"
          ],
          "name": "stdout"
        }
      ]
    },
    {
      "cell_type": "code",
      "metadata": {
        "colab": {
          "base_uri": "https://localhost:8080/"
        },
        "id": "z_-UtKab6Asf",
        "outputId": "7c4e5925-df42-40f2-8c3d-143803de64c3"
      },
      "source": [
        "import plotly.express as px\n",
        "df=px.data.gapminder().query(\"continent =='Europe'\")\n",
        "df['gdpPercap']"
      ],
      "execution_count": null,
      "outputs": [
        {
          "output_type": "execute_result",
          "data": {
            "text/plain": [
              "12       1601.056136\n",
              "13       1942.284244\n",
              "14       2312.888958\n",
              "15       2760.196931\n",
              "16       3313.422188\n",
              "            ...     \n",
              "1603    21664.787670\n",
              "1604    22705.092540\n",
              "1605    26074.531360\n",
              "1606    29478.999190\n",
              "1607    33203.261280\n",
              "Name: gdpPercap, Length: 360, dtype: float64"
            ]
          },
          "metadata": {},
          "execution_count": 10
        }
      ]
    },
    {
      "cell_type": "markdown",
      "metadata": {
        "id": "1wXyBhIZ67Ql"
      },
      "source": [
        "### 3-2 유럽 국가 중 1952년의 예상수명이 70세 이상인 국가의 데이터만 추출하세요"
      ]
    },
    {
      "cell_type": "code",
      "metadata": {
        "colab": {
          "base_uri": "https://localhost:8080/",
          "height": 203
        },
        "id": "eVqFvUGn68os",
        "outputId": "2dee17a2-a6e3-4e58-f1e7-012bf2bb8ae4"
      },
      "source": [
        "df=px.data.gapminder().query(\"continent =='Europe' and lifeExp >=70 in year==1952\")\n",
        "df   "
      ],
      "execution_count": null,
      "outputs": [
        {
          "output_type": "execute_result",
          "data": {
            "text/html": [
              "<div>\n",
              "<style scoped>\n",
              "    .dataframe tbody tr th:only-of-type {\n",
              "        vertical-align: middle;\n",
              "    }\n",
              "\n",
              "    .dataframe tbody tr th {\n",
              "        vertical-align: top;\n",
              "    }\n",
              "\n",
              "    .dataframe thead th {\n",
              "        text-align: right;\n",
              "    }\n",
              "</style>\n",
              "<table border=\"1\" class=\"dataframe\">\n",
              "  <thead>\n",
              "    <tr style=\"text-align: right;\">\n",
              "      <th></th>\n",
              "      <th>country</th>\n",
              "      <th>continent</th>\n",
              "      <th>year</th>\n",
              "      <th>lifeExp</th>\n",
              "      <th>pop</th>\n",
              "      <th>gdpPercap</th>\n",
              "      <th>iso_alpha</th>\n",
              "      <th>iso_num</th>\n",
              "    </tr>\n",
              "  </thead>\n",
              "  <tbody>\n",
              "    <tr>\n",
              "      <th>408</th>\n",
              "      <td>Denmark</td>\n",
              "      <td>Europe</td>\n",
              "      <td>1952</td>\n",
              "      <td>70.78</td>\n",
              "      <td>4334000</td>\n",
              "      <td>9692.385245</td>\n",
              "      <td>DNK</td>\n",
              "      <td>208</td>\n",
              "    </tr>\n",
              "    <tr>\n",
              "      <th>684</th>\n",
              "      <td>Iceland</td>\n",
              "      <td>Europe</td>\n",
              "      <td>1952</td>\n",
              "      <td>72.49</td>\n",
              "      <td>147962</td>\n",
              "      <td>7267.688428</td>\n",
              "      <td>ISL</td>\n",
              "      <td>352</td>\n",
              "    </tr>\n",
              "    <tr>\n",
              "      <th>1080</th>\n",
              "      <td>Netherlands</td>\n",
              "      <td>Europe</td>\n",
              "      <td>1952</td>\n",
              "      <td>72.13</td>\n",
              "      <td>10381988</td>\n",
              "      <td>8941.571858</td>\n",
              "      <td>NLD</td>\n",
              "      <td>528</td>\n",
              "    </tr>\n",
              "    <tr>\n",
              "      <th>1140</th>\n",
              "      <td>Norway</td>\n",
              "      <td>Europe</td>\n",
              "      <td>1952</td>\n",
              "      <td>72.67</td>\n",
              "      <td>3327728</td>\n",
              "      <td>10095.421720</td>\n",
              "      <td>NOR</td>\n",
              "      <td>578</td>\n",
              "    </tr>\n",
              "    <tr>\n",
              "      <th>1464</th>\n",
              "      <td>Sweden</td>\n",
              "      <td>Europe</td>\n",
              "      <td>1952</td>\n",
              "      <td>71.86</td>\n",
              "      <td>7124673</td>\n",
              "      <td>8527.844662</td>\n",
              "      <td>SWE</td>\n",
              "      <td>752</td>\n",
              "    </tr>\n",
              "  </tbody>\n",
              "</table>\n",
              "</div>"
            ],
            "text/plain": [
              "          country continent  year  ...     gdpPercap  iso_alpha  iso_num\n",
              "408       Denmark    Europe  1952  ...   9692.385245        DNK      208\n",
              "684       Iceland    Europe  1952  ...   7267.688428        ISL      352\n",
              "1080  Netherlands    Europe  1952  ...   8941.571858        NLD      528\n",
              "1140       Norway    Europe  1952  ...  10095.421720        NOR      578\n",
              "1464       Sweden    Europe  1952  ...   8527.844662        SWE      752\n",
              "\n",
              "[5 rows x 8 columns]"
            ]
          },
          "metadata": {},
          "execution_count": 11
        }
      ]
    },
    {
      "cell_type": "code",
      "metadata": {
        "colab": {
          "base_uri": "https://localhost:8080/",
          "height": 1000
        },
        "id": "O3GhVF9WwtJN",
        "outputId": "9af40555-e3de-4d3f-f0a8-1f737f2518b8"
      },
      "source": [
        "answer = px.data.gapminder().query(\"country in ['Denmark','Iceland','Netherlands','Norway','Sweden']\")\n",
        "answer"
      ],
      "execution_count": null,
      "outputs": [
        {
          "output_type": "execute_result",
          "data": {
            "text/html": [
              "<div>\n",
              "<style scoped>\n",
              "    .dataframe tbody tr th:only-of-type {\n",
              "        vertical-align: middle;\n",
              "    }\n",
              "\n",
              "    .dataframe tbody tr th {\n",
              "        vertical-align: top;\n",
              "    }\n",
              "\n",
              "    .dataframe thead th {\n",
              "        text-align: right;\n",
              "    }\n",
              "</style>\n",
              "<table border=\"1\" class=\"dataframe\">\n",
              "  <thead>\n",
              "    <tr style=\"text-align: right;\">\n",
              "      <th></th>\n",
              "      <th>country</th>\n",
              "      <th>continent</th>\n",
              "      <th>year</th>\n",
              "      <th>lifeExp</th>\n",
              "      <th>pop</th>\n",
              "      <th>gdpPercap</th>\n",
              "      <th>iso_alpha</th>\n",
              "      <th>iso_num</th>\n",
              "    </tr>\n",
              "  </thead>\n",
              "  <tbody>\n",
              "    <tr>\n",
              "      <th>408</th>\n",
              "      <td>Denmark</td>\n",
              "      <td>Europe</td>\n",
              "      <td>1952</td>\n",
              "      <td>70.780</td>\n",
              "      <td>4334000</td>\n",
              "      <td>9692.385245</td>\n",
              "      <td>DNK</td>\n",
              "      <td>208</td>\n",
              "    </tr>\n",
              "    <tr>\n",
              "      <th>409</th>\n",
              "      <td>Denmark</td>\n",
              "      <td>Europe</td>\n",
              "      <td>1957</td>\n",
              "      <td>71.810</td>\n",
              "      <td>4487831</td>\n",
              "      <td>11099.659350</td>\n",
              "      <td>DNK</td>\n",
              "      <td>208</td>\n",
              "    </tr>\n",
              "    <tr>\n",
              "      <th>410</th>\n",
              "      <td>Denmark</td>\n",
              "      <td>Europe</td>\n",
              "      <td>1962</td>\n",
              "      <td>72.350</td>\n",
              "      <td>4646899</td>\n",
              "      <td>13583.313510</td>\n",
              "      <td>DNK</td>\n",
              "      <td>208</td>\n",
              "    </tr>\n",
              "    <tr>\n",
              "      <th>411</th>\n",
              "      <td>Denmark</td>\n",
              "      <td>Europe</td>\n",
              "      <td>1967</td>\n",
              "      <td>72.960</td>\n",
              "      <td>4838800</td>\n",
              "      <td>15937.211230</td>\n",
              "      <td>DNK</td>\n",
              "      <td>208</td>\n",
              "    </tr>\n",
              "    <tr>\n",
              "      <th>412</th>\n",
              "      <td>Denmark</td>\n",
              "      <td>Europe</td>\n",
              "      <td>1972</td>\n",
              "      <td>73.470</td>\n",
              "      <td>4991596</td>\n",
              "      <td>18866.207210</td>\n",
              "      <td>DNK</td>\n",
              "      <td>208</td>\n",
              "    </tr>\n",
              "    <tr>\n",
              "      <th>413</th>\n",
              "      <td>Denmark</td>\n",
              "      <td>Europe</td>\n",
              "      <td>1977</td>\n",
              "      <td>74.690</td>\n",
              "      <td>5088419</td>\n",
              "      <td>20422.901500</td>\n",
              "      <td>DNK</td>\n",
              "      <td>208</td>\n",
              "    </tr>\n",
              "    <tr>\n",
              "      <th>414</th>\n",
              "      <td>Denmark</td>\n",
              "      <td>Europe</td>\n",
              "      <td>1982</td>\n",
              "      <td>74.630</td>\n",
              "      <td>5117810</td>\n",
              "      <td>21688.040480</td>\n",
              "      <td>DNK</td>\n",
              "      <td>208</td>\n",
              "    </tr>\n",
              "    <tr>\n",
              "      <th>415</th>\n",
              "      <td>Denmark</td>\n",
              "      <td>Europe</td>\n",
              "      <td>1987</td>\n",
              "      <td>74.800</td>\n",
              "      <td>5127024</td>\n",
              "      <td>25116.175810</td>\n",
              "      <td>DNK</td>\n",
              "      <td>208</td>\n",
              "    </tr>\n",
              "    <tr>\n",
              "      <th>416</th>\n",
              "      <td>Denmark</td>\n",
              "      <td>Europe</td>\n",
              "      <td>1992</td>\n",
              "      <td>75.330</td>\n",
              "      <td>5171393</td>\n",
              "      <td>26406.739850</td>\n",
              "      <td>DNK</td>\n",
              "      <td>208</td>\n",
              "    </tr>\n",
              "    <tr>\n",
              "      <th>417</th>\n",
              "      <td>Denmark</td>\n",
              "      <td>Europe</td>\n",
              "      <td>1997</td>\n",
              "      <td>76.110</td>\n",
              "      <td>5283663</td>\n",
              "      <td>29804.345670</td>\n",
              "      <td>DNK</td>\n",
              "      <td>208</td>\n",
              "    </tr>\n",
              "    <tr>\n",
              "      <th>418</th>\n",
              "      <td>Denmark</td>\n",
              "      <td>Europe</td>\n",
              "      <td>2002</td>\n",
              "      <td>77.180</td>\n",
              "      <td>5374693</td>\n",
              "      <td>32166.500060</td>\n",
              "      <td>DNK</td>\n",
              "      <td>208</td>\n",
              "    </tr>\n",
              "    <tr>\n",
              "      <th>419</th>\n",
              "      <td>Denmark</td>\n",
              "      <td>Europe</td>\n",
              "      <td>2007</td>\n",
              "      <td>78.332</td>\n",
              "      <td>5468120</td>\n",
              "      <td>35278.418740</td>\n",
              "      <td>DNK</td>\n",
              "      <td>208</td>\n",
              "    </tr>\n",
              "    <tr>\n",
              "      <th>684</th>\n",
              "      <td>Iceland</td>\n",
              "      <td>Europe</td>\n",
              "      <td>1952</td>\n",
              "      <td>72.490</td>\n",
              "      <td>147962</td>\n",
              "      <td>7267.688428</td>\n",
              "      <td>ISL</td>\n",
              "      <td>352</td>\n",
              "    </tr>\n",
              "    <tr>\n",
              "      <th>685</th>\n",
              "      <td>Iceland</td>\n",
              "      <td>Europe</td>\n",
              "      <td>1957</td>\n",
              "      <td>73.470</td>\n",
              "      <td>165110</td>\n",
              "      <td>9244.001412</td>\n",
              "      <td>ISL</td>\n",
              "      <td>352</td>\n",
              "    </tr>\n",
              "    <tr>\n",
              "      <th>686</th>\n",
              "      <td>Iceland</td>\n",
              "      <td>Europe</td>\n",
              "      <td>1962</td>\n",
              "      <td>73.680</td>\n",
              "      <td>182053</td>\n",
              "      <td>10350.159060</td>\n",
              "      <td>ISL</td>\n",
              "      <td>352</td>\n",
              "    </tr>\n",
              "    <tr>\n",
              "      <th>687</th>\n",
              "      <td>Iceland</td>\n",
              "      <td>Europe</td>\n",
              "      <td>1967</td>\n",
              "      <td>73.730</td>\n",
              "      <td>198676</td>\n",
              "      <td>13319.895680</td>\n",
              "      <td>ISL</td>\n",
              "      <td>352</td>\n",
              "    </tr>\n",
              "    <tr>\n",
              "      <th>688</th>\n",
              "      <td>Iceland</td>\n",
              "      <td>Europe</td>\n",
              "      <td>1972</td>\n",
              "      <td>74.460</td>\n",
              "      <td>209275</td>\n",
              "      <td>15798.063620</td>\n",
              "      <td>ISL</td>\n",
              "      <td>352</td>\n",
              "    </tr>\n",
              "    <tr>\n",
              "      <th>689</th>\n",
              "      <td>Iceland</td>\n",
              "      <td>Europe</td>\n",
              "      <td>1977</td>\n",
              "      <td>76.110</td>\n",
              "      <td>221823</td>\n",
              "      <td>19654.962470</td>\n",
              "      <td>ISL</td>\n",
              "      <td>352</td>\n",
              "    </tr>\n",
              "    <tr>\n",
              "      <th>690</th>\n",
              "      <td>Iceland</td>\n",
              "      <td>Europe</td>\n",
              "      <td>1982</td>\n",
              "      <td>76.990</td>\n",
              "      <td>233997</td>\n",
              "      <td>23269.607500</td>\n",
              "      <td>ISL</td>\n",
              "      <td>352</td>\n",
              "    </tr>\n",
              "    <tr>\n",
              "      <th>691</th>\n",
              "      <td>Iceland</td>\n",
              "      <td>Europe</td>\n",
              "      <td>1987</td>\n",
              "      <td>77.230</td>\n",
              "      <td>244676</td>\n",
              "      <td>26923.206280</td>\n",
              "      <td>ISL</td>\n",
              "      <td>352</td>\n",
              "    </tr>\n",
              "    <tr>\n",
              "      <th>692</th>\n",
              "      <td>Iceland</td>\n",
              "      <td>Europe</td>\n",
              "      <td>1992</td>\n",
              "      <td>78.770</td>\n",
              "      <td>259012</td>\n",
              "      <td>25144.392010</td>\n",
              "      <td>ISL</td>\n",
              "      <td>352</td>\n",
              "    </tr>\n",
              "    <tr>\n",
              "      <th>693</th>\n",
              "      <td>Iceland</td>\n",
              "      <td>Europe</td>\n",
              "      <td>1997</td>\n",
              "      <td>78.950</td>\n",
              "      <td>271192</td>\n",
              "      <td>28061.099660</td>\n",
              "      <td>ISL</td>\n",
              "      <td>352</td>\n",
              "    </tr>\n",
              "    <tr>\n",
              "      <th>694</th>\n",
              "      <td>Iceland</td>\n",
              "      <td>Europe</td>\n",
              "      <td>2002</td>\n",
              "      <td>80.500</td>\n",
              "      <td>288030</td>\n",
              "      <td>31163.201960</td>\n",
              "      <td>ISL</td>\n",
              "      <td>352</td>\n",
              "    </tr>\n",
              "    <tr>\n",
              "      <th>695</th>\n",
              "      <td>Iceland</td>\n",
              "      <td>Europe</td>\n",
              "      <td>2007</td>\n",
              "      <td>81.757</td>\n",
              "      <td>301931</td>\n",
              "      <td>36180.789190</td>\n",
              "      <td>ISL</td>\n",
              "      <td>352</td>\n",
              "    </tr>\n",
              "    <tr>\n",
              "      <th>1080</th>\n",
              "      <td>Netherlands</td>\n",
              "      <td>Europe</td>\n",
              "      <td>1952</td>\n",
              "      <td>72.130</td>\n",
              "      <td>10381988</td>\n",
              "      <td>8941.571858</td>\n",
              "      <td>NLD</td>\n",
              "      <td>528</td>\n",
              "    </tr>\n",
              "    <tr>\n",
              "      <th>1081</th>\n",
              "      <td>Netherlands</td>\n",
              "      <td>Europe</td>\n",
              "      <td>1957</td>\n",
              "      <td>72.990</td>\n",
              "      <td>11026383</td>\n",
              "      <td>11276.193440</td>\n",
              "      <td>NLD</td>\n",
              "      <td>528</td>\n",
              "    </tr>\n",
              "    <tr>\n",
              "      <th>1082</th>\n",
              "      <td>Netherlands</td>\n",
              "      <td>Europe</td>\n",
              "      <td>1962</td>\n",
              "      <td>73.230</td>\n",
              "      <td>11805689</td>\n",
              "      <td>12790.849560</td>\n",
              "      <td>NLD</td>\n",
              "      <td>528</td>\n",
              "    </tr>\n",
              "    <tr>\n",
              "      <th>1083</th>\n",
              "      <td>Netherlands</td>\n",
              "      <td>Europe</td>\n",
              "      <td>1967</td>\n",
              "      <td>73.820</td>\n",
              "      <td>12596822</td>\n",
              "      <td>15363.251360</td>\n",
              "      <td>NLD</td>\n",
              "      <td>528</td>\n",
              "    </tr>\n",
              "    <tr>\n",
              "      <th>1084</th>\n",
              "      <td>Netherlands</td>\n",
              "      <td>Europe</td>\n",
              "      <td>1972</td>\n",
              "      <td>73.750</td>\n",
              "      <td>13329874</td>\n",
              "      <td>18794.745670</td>\n",
              "      <td>NLD</td>\n",
              "      <td>528</td>\n",
              "    </tr>\n",
              "    <tr>\n",
              "      <th>1085</th>\n",
              "      <td>Netherlands</td>\n",
              "      <td>Europe</td>\n",
              "      <td>1977</td>\n",
              "      <td>75.240</td>\n",
              "      <td>13852989</td>\n",
              "      <td>21209.059200</td>\n",
              "      <td>NLD</td>\n",
              "      <td>528</td>\n",
              "    </tr>\n",
              "    <tr>\n",
              "      <th>1086</th>\n",
              "      <td>Netherlands</td>\n",
              "      <td>Europe</td>\n",
              "      <td>1982</td>\n",
              "      <td>76.050</td>\n",
              "      <td>14310401</td>\n",
              "      <td>21399.460460</td>\n",
              "      <td>NLD</td>\n",
              "      <td>528</td>\n",
              "    </tr>\n",
              "    <tr>\n",
              "      <th>1087</th>\n",
              "      <td>Netherlands</td>\n",
              "      <td>Europe</td>\n",
              "      <td>1987</td>\n",
              "      <td>76.830</td>\n",
              "      <td>14665278</td>\n",
              "      <td>23651.323610</td>\n",
              "      <td>NLD</td>\n",
              "      <td>528</td>\n",
              "    </tr>\n",
              "    <tr>\n",
              "      <th>1088</th>\n",
              "      <td>Netherlands</td>\n",
              "      <td>Europe</td>\n",
              "      <td>1992</td>\n",
              "      <td>77.420</td>\n",
              "      <td>15174244</td>\n",
              "      <td>26790.949610</td>\n",
              "      <td>NLD</td>\n",
              "      <td>528</td>\n",
              "    </tr>\n",
              "    <tr>\n",
              "      <th>1089</th>\n",
              "      <td>Netherlands</td>\n",
              "      <td>Europe</td>\n",
              "      <td>1997</td>\n",
              "      <td>78.030</td>\n",
              "      <td>15604464</td>\n",
              "      <td>30246.130630</td>\n",
              "      <td>NLD</td>\n",
              "      <td>528</td>\n",
              "    </tr>\n",
              "    <tr>\n",
              "      <th>1090</th>\n",
              "      <td>Netherlands</td>\n",
              "      <td>Europe</td>\n",
              "      <td>2002</td>\n",
              "      <td>78.530</td>\n",
              "      <td>16122830</td>\n",
              "      <td>33724.757780</td>\n",
              "      <td>NLD</td>\n",
              "      <td>528</td>\n",
              "    </tr>\n",
              "    <tr>\n",
              "      <th>1091</th>\n",
              "      <td>Netherlands</td>\n",
              "      <td>Europe</td>\n",
              "      <td>2007</td>\n",
              "      <td>79.762</td>\n",
              "      <td>16570613</td>\n",
              "      <td>36797.933320</td>\n",
              "      <td>NLD</td>\n",
              "      <td>528</td>\n",
              "    </tr>\n",
              "    <tr>\n",
              "      <th>1140</th>\n",
              "      <td>Norway</td>\n",
              "      <td>Europe</td>\n",
              "      <td>1952</td>\n",
              "      <td>72.670</td>\n",
              "      <td>3327728</td>\n",
              "      <td>10095.421720</td>\n",
              "      <td>NOR</td>\n",
              "      <td>578</td>\n",
              "    </tr>\n",
              "    <tr>\n",
              "      <th>1141</th>\n",
              "      <td>Norway</td>\n",
              "      <td>Europe</td>\n",
              "      <td>1957</td>\n",
              "      <td>73.440</td>\n",
              "      <td>3491938</td>\n",
              "      <td>11653.973040</td>\n",
              "      <td>NOR</td>\n",
              "      <td>578</td>\n",
              "    </tr>\n",
              "    <tr>\n",
              "      <th>1142</th>\n",
              "      <td>Norway</td>\n",
              "      <td>Europe</td>\n",
              "      <td>1962</td>\n",
              "      <td>73.470</td>\n",
              "      <td>3638919</td>\n",
              "      <td>13450.401510</td>\n",
              "      <td>NOR</td>\n",
              "      <td>578</td>\n",
              "    </tr>\n",
              "    <tr>\n",
              "      <th>1143</th>\n",
              "      <td>Norway</td>\n",
              "      <td>Europe</td>\n",
              "      <td>1967</td>\n",
              "      <td>74.080</td>\n",
              "      <td>3786019</td>\n",
              "      <td>16361.876470</td>\n",
              "      <td>NOR</td>\n",
              "      <td>578</td>\n",
              "    </tr>\n",
              "    <tr>\n",
              "      <th>1144</th>\n",
              "      <td>Norway</td>\n",
              "      <td>Europe</td>\n",
              "      <td>1972</td>\n",
              "      <td>74.340</td>\n",
              "      <td>3933004</td>\n",
              "      <td>18965.055510</td>\n",
              "      <td>NOR</td>\n",
              "      <td>578</td>\n",
              "    </tr>\n",
              "    <tr>\n",
              "      <th>1145</th>\n",
              "      <td>Norway</td>\n",
              "      <td>Europe</td>\n",
              "      <td>1977</td>\n",
              "      <td>75.370</td>\n",
              "      <td>4043205</td>\n",
              "      <td>23311.349390</td>\n",
              "      <td>NOR</td>\n",
              "      <td>578</td>\n",
              "    </tr>\n",
              "    <tr>\n",
              "      <th>1146</th>\n",
              "      <td>Norway</td>\n",
              "      <td>Europe</td>\n",
              "      <td>1982</td>\n",
              "      <td>75.970</td>\n",
              "      <td>4114787</td>\n",
              "      <td>26298.635310</td>\n",
              "      <td>NOR</td>\n",
              "      <td>578</td>\n",
              "    </tr>\n",
              "    <tr>\n",
              "      <th>1147</th>\n",
              "      <td>Norway</td>\n",
              "      <td>Europe</td>\n",
              "      <td>1987</td>\n",
              "      <td>75.890</td>\n",
              "      <td>4186147</td>\n",
              "      <td>31540.974800</td>\n",
              "      <td>NOR</td>\n",
              "      <td>578</td>\n",
              "    </tr>\n",
              "    <tr>\n",
              "      <th>1148</th>\n",
              "      <td>Norway</td>\n",
              "      <td>Europe</td>\n",
              "      <td>1992</td>\n",
              "      <td>77.320</td>\n",
              "      <td>4286357</td>\n",
              "      <td>33965.661150</td>\n",
              "      <td>NOR</td>\n",
              "      <td>578</td>\n",
              "    </tr>\n",
              "    <tr>\n",
              "      <th>1149</th>\n",
              "      <td>Norway</td>\n",
              "      <td>Europe</td>\n",
              "      <td>1997</td>\n",
              "      <td>78.320</td>\n",
              "      <td>4405672</td>\n",
              "      <td>41283.164330</td>\n",
              "      <td>NOR</td>\n",
              "      <td>578</td>\n",
              "    </tr>\n",
              "    <tr>\n",
              "      <th>1150</th>\n",
              "      <td>Norway</td>\n",
              "      <td>Europe</td>\n",
              "      <td>2002</td>\n",
              "      <td>79.050</td>\n",
              "      <td>4535591</td>\n",
              "      <td>44683.975250</td>\n",
              "      <td>NOR</td>\n",
              "      <td>578</td>\n",
              "    </tr>\n",
              "    <tr>\n",
              "      <th>1151</th>\n",
              "      <td>Norway</td>\n",
              "      <td>Europe</td>\n",
              "      <td>2007</td>\n",
              "      <td>80.196</td>\n",
              "      <td>4627926</td>\n",
              "      <td>49357.190170</td>\n",
              "      <td>NOR</td>\n",
              "      <td>578</td>\n",
              "    </tr>\n",
              "    <tr>\n",
              "      <th>1464</th>\n",
              "      <td>Sweden</td>\n",
              "      <td>Europe</td>\n",
              "      <td>1952</td>\n",
              "      <td>71.860</td>\n",
              "      <td>7124673</td>\n",
              "      <td>8527.844662</td>\n",
              "      <td>SWE</td>\n",
              "      <td>752</td>\n",
              "    </tr>\n",
              "    <tr>\n",
              "      <th>1465</th>\n",
              "      <td>Sweden</td>\n",
              "      <td>Europe</td>\n",
              "      <td>1957</td>\n",
              "      <td>72.490</td>\n",
              "      <td>7363802</td>\n",
              "      <td>9911.878226</td>\n",
              "      <td>SWE</td>\n",
              "      <td>752</td>\n",
              "    </tr>\n",
              "    <tr>\n",
              "      <th>1466</th>\n",
              "      <td>Sweden</td>\n",
              "      <td>Europe</td>\n",
              "      <td>1962</td>\n",
              "      <td>73.370</td>\n",
              "      <td>7561588</td>\n",
              "      <td>12329.441920</td>\n",
              "      <td>SWE</td>\n",
              "      <td>752</td>\n",
              "    </tr>\n",
              "    <tr>\n",
              "      <th>1467</th>\n",
              "      <td>Sweden</td>\n",
              "      <td>Europe</td>\n",
              "      <td>1967</td>\n",
              "      <td>74.160</td>\n",
              "      <td>7867931</td>\n",
              "      <td>15258.296970</td>\n",
              "      <td>SWE</td>\n",
              "      <td>752</td>\n",
              "    </tr>\n",
              "    <tr>\n",
              "      <th>1468</th>\n",
              "      <td>Sweden</td>\n",
              "      <td>Europe</td>\n",
              "      <td>1972</td>\n",
              "      <td>74.720</td>\n",
              "      <td>8122293</td>\n",
              "      <td>17832.024640</td>\n",
              "      <td>SWE</td>\n",
              "      <td>752</td>\n",
              "    </tr>\n",
              "    <tr>\n",
              "      <th>1469</th>\n",
              "      <td>Sweden</td>\n",
              "      <td>Europe</td>\n",
              "      <td>1977</td>\n",
              "      <td>75.440</td>\n",
              "      <td>8251648</td>\n",
              "      <td>18855.725210</td>\n",
              "      <td>SWE</td>\n",
              "      <td>752</td>\n",
              "    </tr>\n",
              "    <tr>\n",
              "      <th>1470</th>\n",
              "      <td>Sweden</td>\n",
              "      <td>Europe</td>\n",
              "      <td>1982</td>\n",
              "      <td>76.420</td>\n",
              "      <td>8325260</td>\n",
              "      <td>20667.381250</td>\n",
              "      <td>SWE</td>\n",
              "      <td>752</td>\n",
              "    </tr>\n",
              "    <tr>\n",
              "      <th>1471</th>\n",
              "      <td>Sweden</td>\n",
              "      <td>Europe</td>\n",
              "      <td>1987</td>\n",
              "      <td>77.190</td>\n",
              "      <td>8421403</td>\n",
              "      <td>23586.929270</td>\n",
              "      <td>SWE</td>\n",
              "      <td>752</td>\n",
              "    </tr>\n",
              "    <tr>\n",
              "      <th>1472</th>\n",
              "      <td>Sweden</td>\n",
              "      <td>Europe</td>\n",
              "      <td>1992</td>\n",
              "      <td>78.160</td>\n",
              "      <td>8718867</td>\n",
              "      <td>23880.016830</td>\n",
              "      <td>SWE</td>\n",
              "      <td>752</td>\n",
              "    </tr>\n",
              "    <tr>\n",
              "      <th>1473</th>\n",
              "      <td>Sweden</td>\n",
              "      <td>Europe</td>\n",
              "      <td>1997</td>\n",
              "      <td>79.390</td>\n",
              "      <td>8897619</td>\n",
              "      <td>25266.594990</td>\n",
              "      <td>SWE</td>\n",
              "      <td>752</td>\n",
              "    </tr>\n",
              "    <tr>\n",
              "      <th>1474</th>\n",
              "      <td>Sweden</td>\n",
              "      <td>Europe</td>\n",
              "      <td>2002</td>\n",
              "      <td>80.040</td>\n",
              "      <td>8954175</td>\n",
              "      <td>29341.630930</td>\n",
              "      <td>SWE</td>\n",
              "      <td>752</td>\n",
              "    </tr>\n",
              "    <tr>\n",
              "      <th>1475</th>\n",
              "      <td>Sweden</td>\n",
              "      <td>Europe</td>\n",
              "      <td>2007</td>\n",
              "      <td>80.884</td>\n",
              "      <td>9031088</td>\n",
              "      <td>33859.748350</td>\n",
              "      <td>SWE</td>\n",
              "      <td>752</td>\n",
              "    </tr>\n",
              "  </tbody>\n",
              "</table>\n",
              "</div>"
            ],
            "text/plain": [
              "          country continent  year  ...     gdpPercap  iso_alpha  iso_num\n",
              "408       Denmark    Europe  1952  ...   9692.385245        DNK      208\n",
              "409       Denmark    Europe  1957  ...  11099.659350        DNK      208\n",
              "410       Denmark    Europe  1962  ...  13583.313510        DNK      208\n",
              "411       Denmark    Europe  1967  ...  15937.211230        DNK      208\n",
              "412       Denmark    Europe  1972  ...  18866.207210        DNK      208\n",
              "413       Denmark    Europe  1977  ...  20422.901500        DNK      208\n",
              "414       Denmark    Europe  1982  ...  21688.040480        DNK      208\n",
              "415       Denmark    Europe  1987  ...  25116.175810        DNK      208\n",
              "416       Denmark    Europe  1992  ...  26406.739850        DNK      208\n",
              "417       Denmark    Europe  1997  ...  29804.345670        DNK      208\n",
              "418       Denmark    Europe  2002  ...  32166.500060        DNK      208\n",
              "419       Denmark    Europe  2007  ...  35278.418740        DNK      208\n",
              "684       Iceland    Europe  1952  ...   7267.688428        ISL      352\n",
              "685       Iceland    Europe  1957  ...   9244.001412        ISL      352\n",
              "686       Iceland    Europe  1962  ...  10350.159060        ISL      352\n",
              "687       Iceland    Europe  1967  ...  13319.895680        ISL      352\n",
              "688       Iceland    Europe  1972  ...  15798.063620        ISL      352\n",
              "689       Iceland    Europe  1977  ...  19654.962470        ISL      352\n",
              "690       Iceland    Europe  1982  ...  23269.607500        ISL      352\n",
              "691       Iceland    Europe  1987  ...  26923.206280        ISL      352\n",
              "692       Iceland    Europe  1992  ...  25144.392010        ISL      352\n",
              "693       Iceland    Europe  1997  ...  28061.099660        ISL      352\n",
              "694       Iceland    Europe  2002  ...  31163.201960        ISL      352\n",
              "695       Iceland    Europe  2007  ...  36180.789190        ISL      352\n",
              "1080  Netherlands    Europe  1952  ...   8941.571858        NLD      528\n",
              "1081  Netherlands    Europe  1957  ...  11276.193440        NLD      528\n",
              "1082  Netherlands    Europe  1962  ...  12790.849560        NLD      528\n",
              "1083  Netherlands    Europe  1967  ...  15363.251360        NLD      528\n",
              "1084  Netherlands    Europe  1972  ...  18794.745670        NLD      528\n",
              "1085  Netherlands    Europe  1977  ...  21209.059200        NLD      528\n",
              "1086  Netherlands    Europe  1982  ...  21399.460460        NLD      528\n",
              "1087  Netherlands    Europe  1987  ...  23651.323610        NLD      528\n",
              "1088  Netherlands    Europe  1992  ...  26790.949610        NLD      528\n",
              "1089  Netherlands    Europe  1997  ...  30246.130630        NLD      528\n",
              "1090  Netherlands    Europe  2002  ...  33724.757780        NLD      528\n",
              "1091  Netherlands    Europe  2007  ...  36797.933320        NLD      528\n",
              "1140       Norway    Europe  1952  ...  10095.421720        NOR      578\n",
              "1141       Norway    Europe  1957  ...  11653.973040        NOR      578\n",
              "1142       Norway    Europe  1962  ...  13450.401510        NOR      578\n",
              "1143       Norway    Europe  1967  ...  16361.876470        NOR      578\n",
              "1144       Norway    Europe  1972  ...  18965.055510        NOR      578\n",
              "1145       Norway    Europe  1977  ...  23311.349390        NOR      578\n",
              "1146       Norway    Europe  1982  ...  26298.635310        NOR      578\n",
              "1147       Norway    Europe  1987  ...  31540.974800        NOR      578\n",
              "1148       Norway    Europe  1992  ...  33965.661150        NOR      578\n",
              "1149       Norway    Europe  1997  ...  41283.164330        NOR      578\n",
              "1150       Norway    Europe  2002  ...  44683.975250        NOR      578\n",
              "1151       Norway    Europe  2007  ...  49357.190170        NOR      578\n",
              "1464       Sweden    Europe  1952  ...   8527.844662        SWE      752\n",
              "1465       Sweden    Europe  1957  ...   9911.878226        SWE      752\n",
              "1466       Sweden    Europe  1962  ...  12329.441920        SWE      752\n",
              "1467       Sweden    Europe  1967  ...  15258.296970        SWE      752\n",
              "1468       Sweden    Europe  1972  ...  17832.024640        SWE      752\n",
              "1469       Sweden    Europe  1977  ...  18855.725210        SWE      752\n",
              "1470       Sweden    Europe  1982  ...  20667.381250        SWE      752\n",
              "1471       Sweden    Europe  1987  ...  23586.929270        SWE      752\n",
              "1472       Sweden    Europe  1992  ...  23880.016830        SWE      752\n",
              "1473       Sweden    Europe  1997  ...  25266.594990        SWE      752\n",
              "1474       Sweden    Europe  2002  ...  29341.630930        SWE      752\n",
              "1475       Sweden    Europe  2007  ...  33859.748350        SWE      752\n",
              "\n",
              "[60 rows x 8 columns]"
            ]
          },
          "metadata": {},
          "execution_count": 12
        }
      ]
    },
    {
      "cell_type": "markdown",
      "metadata": {
        "id": "i_Q6SUlT7Q5U"
      },
      "source": [
        "### 3-3 추출된 데이터에 대해 연도에 따른 gdppercap 변화 추이를 보기 위한 애니메이션 막대그래프를 그리세요(국가별로 출력되도록 지정)"
      ]
    },
    {
      "cell_type": "code",
      "metadata": {
        "colab": {
          "base_uri": "https://localhost:8080/",
          "height": 542
        },
        "id": "LXY3Dsua9Dx_",
        "outputId": "732663fb-8c8e-429c-9062-27e9857250aa"
      },
      "source": [
        "fig=px.bar(answer, x='year',y='gdpPercap',color='country')\n",
        "fig.show ()\n",
        "\n",
        "#gdp는 조금씩 우상향하는 것 같습니다."
      ],
      "execution_count": null,
      "outputs": [
        {
          "output_type": "display_data",
          "data": {
            "text/html": [
              "<html>\n",
              "<head><meta charset=\"utf-8\" /></head>\n",
              "<body>\n",
              "    <div>\n",
              "            <script src=\"https://cdnjs.cloudflare.com/ajax/libs/mathjax/2.7.5/MathJax.js?config=TeX-AMS-MML_SVG\"></script><script type=\"text/javascript\">if (window.MathJax) {MathJax.Hub.Config({SVG: {font: \"STIX-Web\"}});}</script>\n",
              "                <script type=\"text/javascript\">window.PlotlyConfig = {MathJaxConfig: 'local'};</script>\n",
              "        <script src=\"https://cdn.plot.ly/plotly-latest.min.js\"></script>    \n",
              "            <div id=\"ed40787a-c5f2-4386-8479-1303d631404a\" class=\"plotly-graph-div\" style=\"height:525px; width:100%;\"></div>\n",
              "            <script type=\"text/javascript\">\n",
              "                \n",
              "                    window.PLOTLYENV=window.PLOTLYENV || {};\n",
              "                    \n",
              "                if (document.getElementById(\"ed40787a-c5f2-4386-8479-1303d631404a\")) {\n",
              "                    Plotly.newPlot(\n",
              "                        'ed40787a-c5f2-4386-8479-1303d631404a',\n",
              "                        [{\"alignmentgroup\": \"True\", \"hoverlabel\": {\"namelength\": 0}, \"hovertemplate\": \"country=Denmark<br>year=%{x}<br>gdpPercap=%{y}\", \"legendgroup\": \"country=Denmark\", \"marker\": {\"color\": \"#636efa\"}, \"name\": \"country=Denmark\", \"offsetgroup\": \"country=Denmark\", \"orientation\": \"v\", \"showlegend\": true, \"textposition\": \"auto\", \"type\": \"bar\", \"x\": [1952, 1957, 1962, 1967, 1972, 1977, 1982, 1987, 1992, 1997, 2002, 2007], \"xaxis\": \"x\", \"y\": [9692.385245, 11099.65935, 13583.31351, 15937.21123, 18866.20721, 20422.9015, 21688.04048, 25116.17581, 26406.73985, 29804.34567, 32166.500060000002, 35278.41874], \"yaxis\": \"y\"}, {\"alignmentgroup\": \"True\", \"hoverlabel\": {\"namelength\": 0}, \"hovertemplate\": \"country=Iceland<br>year=%{x}<br>gdpPercap=%{y}\", \"legendgroup\": \"country=Iceland\", \"marker\": {\"color\": \"#EF553B\"}, \"name\": \"country=Iceland\", \"offsetgroup\": \"country=Iceland\", \"orientation\": \"v\", \"showlegend\": true, \"textposition\": \"auto\", \"type\": \"bar\", \"x\": [1952, 1957, 1962, 1967, 1972, 1977, 1982, 1987, 1992, 1997, 2002, 2007], \"xaxis\": \"x\", \"y\": [7267.688428, 9244.001412, 10350.15906, 13319.89568, 15798.063619999999, 19654.96247, 23269.6075, 26923.206280000002, 25144.39201, 28061.099660000003, 31163.201960000002, 36180.789189999996], \"yaxis\": \"y\"}, {\"alignmentgroup\": \"True\", \"hoverlabel\": {\"namelength\": 0}, \"hovertemplate\": \"country=Netherlands<br>year=%{x}<br>gdpPercap=%{y}\", \"legendgroup\": \"country=Netherlands\", \"marker\": {\"color\": \"#00cc96\"}, \"name\": \"country=Netherlands\", \"offsetgroup\": \"country=Netherlands\", \"orientation\": \"v\", \"showlegend\": true, \"textposition\": \"auto\", \"type\": \"bar\", \"x\": [1952, 1957, 1962, 1967, 1972, 1977, 1982, 1987, 1992, 1997, 2002, 2007], \"xaxis\": \"x\", \"y\": [8941.571858, 11276.193440000001, 12790.849559999999, 15363.25136, 18794.74567, 21209.0592, 21399.46046, 23651.32361, 26790.94961, 30246.13063, 33724.75778, 36797.93332], \"yaxis\": \"y\"}, {\"alignmentgroup\": \"True\", \"hoverlabel\": {\"namelength\": 0}, \"hovertemplate\": \"country=Norway<br>year=%{x}<br>gdpPercap=%{y}\", \"legendgroup\": \"country=Norway\", \"marker\": {\"color\": \"#ab63fa\"}, \"name\": \"country=Norway\", \"offsetgroup\": \"country=Norway\", \"orientation\": \"v\", \"showlegend\": true, \"textposition\": \"auto\", \"type\": \"bar\", \"x\": [1952, 1957, 1962, 1967, 1972, 1977, 1982, 1987, 1992, 1997, 2002, 2007], \"xaxis\": \"x\", \"y\": [10095.42172, 11653.97304, 13450.40151, 16361.87647, 18965.05551, 23311.34939, 26298.635309999998, 31540.9748, 33965.66115, 41283.16433, 44683.97525, 49357.19017], \"yaxis\": \"y\"}, {\"alignmentgroup\": \"True\", \"hoverlabel\": {\"namelength\": 0}, \"hovertemplate\": \"country=Sweden<br>year=%{x}<br>gdpPercap=%{y}\", \"legendgroup\": \"country=Sweden\", \"marker\": {\"color\": \"#FFA15A\"}, \"name\": \"country=Sweden\", \"offsetgroup\": \"country=Sweden\", \"orientation\": \"v\", \"showlegend\": true, \"textposition\": \"auto\", \"type\": \"bar\", \"x\": [1952, 1957, 1962, 1967, 1972, 1977, 1982, 1987, 1992, 1997, 2002, 2007], \"xaxis\": \"x\", \"y\": [8527.844662000001, 9911.878226, 12329.441920000001, 15258.29697, 17832.02464, 18855.72521, 20667.38125, 23586.92927, 23880.01683, 25266.59499, 29341.630930000003, 33859.74835], \"yaxis\": \"y\"}],\n",
              "                        {\"barmode\": \"relative\", \"legend\": {\"tracegroupgap\": 0}, \"margin\": {\"t\": 60}, \"template\": {\"data\": {\"bar\": [{\"error_x\": {\"color\": \"#2a3f5f\"}, \"error_y\": {\"color\": \"#2a3f5f\"}, \"marker\": {\"line\": {\"color\": \"#E5ECF6\", \"width\": 0.5}}, \"type\": \"bar\"}], \"barpolar\": [{\"marker\": {\"line\": {\"color\": \"#E5ECF6\", \"width\": 0.5}}, \"type\": \"barpolar\"}], \"carpet\": [{\"aaxis\": {\"endlinecolor\": \"#2a3f5f\", \"gridcolor\": \"white\", \"linecolor\": \"white\", \"minorgridcolor\": \"white\", \"startlinecolor\": \"#2a3f5f\"}, \"baxis\": {\"endlinecolor\": \"#2a3f5f\", \"gridcolor\": \"white\", \"linecolor\": \"white\", \"minorgridcolor\": \"white\", \"startlinecolor\": \"#2a3f5f\"}, \"type\": \"carpet\"}], \"choropleth\": [{\"colorbar\": {\"outlinewidth\": 0, \"ticks\": \"\"}, \"type\": \"choropleth\"}], \"contour\": [{\"colorbar\": {\"outlinewidth\": 0, \"ticks\": \"\"}, \"colorscale\": [[0.0, \"#0d0887\"], [0.1111111111111111, \"#46039f\"], [0.2222222222222222, \"#7201a8\"], [0.3333333333333333, \"#9c179e\"], [0.4444444444444444, \"#bd3786\"], [0.5555555555555556, \"#d8576b\"], [0.6666666666666666, \"#ed7953\"], [0.7777777777777778, \"#fb9f3a\"], [0.8888888888888888, \"#fdca26\"], [1.0, \"#f0f921\"]], \"type\": \"contour\"}], \"contourcarpet\": [{\"colorbar\": {\"outlinewidth\": 0, \"ticks\": \"\"}, \"type\": \"contourcarpet\"}], \"heatmap\": [{\"colorbar\": {\"outlinewidth\": 0, \"ticks\": \"\"}, \"colorscale\": [[0.0, \"#0d0887\"], [0.1111111111111111, \"#46039f\"], [0.2222222222222222, \"#7201a8\"], [0.3333333333333333, \"#9c179e\"], [0.4444444444444444, \"#bd3786\"], [0.5555555555555556, \"#d8576b\"], [0.6666666666666666, \"#ed7953\"], [0.7777777777777778, \"#fb9f3a\"], [0.8888888888888888, \"#fdca26\"], [1.0, \"#f0f921\"]], \"type\": \"heatmap\"}], \"heatmapgl\": [{\"colorbar\": {\"outlinewidth\": 0, \"ticks\": \"\"}, \"colorscale\": [[0.0, \"#0d0887\"], [0.1111111111111111, \"#46039f\"], [0.2222222222222222, \"#7201a8\"], [0.3333333333333333, \"#9c179e\"], [0.4444444444444444, \"#bd3786\"], [0.5555555555555556, \"#d8576b\"], [0.6666666666666666, \"#ed7953\"], [0.7777777777777778, \"#fb9f3a\"], [0.8888888888888888, \"#fdca26\"], [1.0, \"#f0f921\"]], \"type\": \"heatmapgl\"}], \"histogram\": [{\"marker\": {\"colorbar\": {\"outlinewidth\": 0, \"ticks\": \"\"}}, \"type\": \"histogram\"}], \"histogram2d\": [{\"colorbar\": {\"outlinewidth\": 0, \"ticks\": \"\"}, \"colorscale\": [[0.0, \"#0d0887\"], [0.1111111111111111, \"#46039f\"], [0.2222222222222222, \"#7201a8\"], [0.3333333333333333, \"#9c179e\"], [0.4444444444444444, \"#bd3786\"], [0.5555555555555556, \"#d8576b\"], [0.6666666666666666, \"#ed7953\"], [0.7777777777777778, \"#fb9f3a\"], [0.8888888888888888, \"#fdca26\"], [1.0, \"#f0f921\"]], \"type\": \"histogram2d\"}], \"histogram2dcontour\": [{\"colorbar\": {\"outlinewidth\": 0, \"ticks\": \"\"}, \"colorscale\": [[0.0, \"#0d0887\"], [0.1111111111111111, \"#46039f\"], [0.2222222222222222, \"#7201a8\"], [0.3333333333333333, \"#9c179e\"], [0.4444444444444444, \"#bd3786\"], [0.5555555555555556, \"#d8576b\"], [0.6666666666666666, \"#ed7953\"], [0.7777777777777778, \"#fb9f3a\"], [0.8888888888888888, \"#fdca26\"], [1.0, \"#f0f921\"]], \"type\": \"histogram2dcontour\"}], \"mesh3d\": [{\"colorbar\": {\"outlinewidth\": 0, \"ticks\": \"\"}, \"type\": \"mesh3d\"}], \"parcoords\": [{\"line\": {\"colorbar\": {\"outlinewidth\": 0, \"ticks\": \"\"}}, \"type\": \"parcoords\"}], \"pie\": [{\"automargin\": true, \"type\": \"pie\"}], \"scatter\": [{\"marker\": {\"colorbar\": {\"outlinewidth\": 0, \"ticks\": \"\"}}, \"type\": \"scatter\"}], \"scatter3d\": [{\"line\": {\"colorbar\": {\"outlinewidth\": 0, \"ticks\": \"\"}}, \"marker\": {\"colorbar\": {\"outlinewidth\": 0, \"ticks\": \"\"}}, \"type\": \"scatter3d\"}], \"scattercarpet\": [{\"marker\": {\"colorbar\": {\"outlinewidth\": 0, \"ticks\": \"\"}}, \"type\": \"scattercarpet\"}], \"scattergeo\": [{\"marker\": {\"colorbar\": {\"outlinewidth\": 0, \"ticks\": \"\"}}, \"type\": \"scattergeo\"}], \"scattergl\": [{\"marker\": {\"colorbar\": {\"outlinewidth\": 0, \"ticks\": \"\"}}, \"type\": \"scattergl\"}], \"scattermapbox\": [{\"marker\": {\"colorbar\": {\"outlinewidth\": 0, \"ticks\": \"\"}}, \"type\": \"scattermapbox\"}], \"scatterpolar\": [{\"marker\": {\"colorbar\": {\"outlinewidth\": 0, \"ticks\": \"\"}}, \"type\": \"scatterpolar\"}], \"scatterpolargl\": [{\"marker\": {\"colorbar\": {\"outlinewidth\": 0, \"ticks\": \"\"}}, \"type\": \"scatterpolargl\"}], \"scatterternary\": [{\"marker\": {\"colorbar\": {\"outlinewidth\": 0, \"ticks\": \"\"}}, \"type\": \"scatterternary\"}], \"surface\": [{\"colorbar\": {\"outlinewidth\": 0, \"ticks\": \"\"}, \"colorscale\": [[0.0, \"#0d0887\"], [0.1111111111111111, \"#46039f\"], [0.2222222222222222, \"#7201a8\"], [0.3333333333333333, \"#9c179e\"], [0.4444444444444444, \"#bd3786\"], [0.5555555555555556, \"#d8576b\"], [0.6666666666666666, \"#ed7953\"], [0.7777777777777778, \"#fb9f3a\"], [0.8888888888888888, \"#fdca26\"], [1.0, \"#f0f921\"]], \"type\": \"surface\"}], \"table\": [{\"cells\": {\"fill\": {\"color\": \"#EBF0F8\"}, \"line\": {\"color\": \"white\"}}, \"header\": {\"fill\": {\"color\": \"#C8D4E3\"}, \"line\": {\"color\": \"white\"}}, \"type\": \"table\"}]}, \"layout\": {\"annotationdefaults\": {\"arrowcolor\": \"#2a3f5f\", \"arrowhead\": 0, \"arrowwidth\": 1}, \"coloraxis\": {\"colorbar\": {\"outlinewidth\": 0, \"ticks\": \"\"}}, \"colorscale\": {\"diverging\": [[0, \"#8e0152\"], [0.1, \"#c51b7d\"], [0.2, \"#de77ae\"], [0.3, \"#f1b6da\"], [0.4, \"#fde0ef\"], [0.5, \"#f7f7f7\"], [0.6, \"#e6f5d0\"], [0.7, \"#b8e186\"], [0.8, \"#7fbc41\"], [0.9, \"#4d9221\"], [1, \"#276419\"]], \"sequential\": [[0.0, \"#0d0887\"], [0.1111111111111111, \"#46039f\"], [0.2222222222222222, \"#7201a8\"], [0.3333333333333333, \"#9c179e\"], [0.4444444444444444, \"#bd3786\"], [0.5555555555555556, \"#d8576b\"], [0.6666666666666666, \"#ed7953\"], [0.7777777777777778, \"#fb9f3a\"], [0.8888888888888888, \"#fdca26\"], [1.0, \"#f0f921\"]], \"sequentialminus\": [[0.0, \"#0d0887\"], [0.1111111111111111, \"#46039f\"], [0.2222222222222222, \"#7201a8\"], [0.3333333333333333, \"#9c179e\"], [0.4444444444444444, \"#bd3786\"], [0.5555555555555556, \"#d8576b\"], [0.6666666666666666, \"#ed7953\"], [0.7777777777777778, \"#fb9f3a\"], [0.8888888888888888, \"#fdca26\"], [1.0, \"#f0f921\"]]}, \"colorway\": [\"#636efa\", \"#EF553B\", \"#00cc96\", \"#ab63fa\", \"#FFA15A\", \"#19d3f3\", \"#FF6692\", \"#B6E880\", \"#FF97FF\", \"#FECB52\"], \"font\": {\"color\": \"#2a3f5f\"}, \"geo\": {\"bgcolor\": \"white\", \"lakecolor\": \"white\", \"landcolor\": \"#E5ECF6\", \"showlakes\": true, \"showland\": true, \"subunitcolor\": \"white\"}, \"hoverlabel\": {\"align\": \"left\"}, \"hovermode\": \"closest\", \"mapbox\": {\"style\": \"light\"}, \"paper_bgcolor\": \"white\", \"plot_bgcolor\": \"#E5ECF6\", \"polar\": {\"angularaxis\": {\"gridcolor\": \"white\", \"linecolor\": \"white\", \"ticks\": \"\"}, \"bgcolor\": \"#E5ECF6\", \"radialaxis\": {\"gridcolor\": \"white\", \"linecolor\": \"white\", \"ticks\": \"\"}}, \"scene\": {\"xaxis\": {\"backgroundcolor\": \"#E5ECF6\", \"gridcolor\": \"white\", \"gridwidth\": 2, \"linecolor\": \"white\", \"showbackground\": true, \"ticks\": \"\", \"zerolinecolor\": \"white\"}, \"yaxis\": {\"backgroundcolor\": \"#E5ECF6\", \"gridcolor\": \"white\", \"gridwidth\": 2, \"linecolor\": \"white\", \"showbackground\": true, \"ticks\": \"\", \"zerolinecolor\": \"white\"}, \"zaxis\": {\"backgroundcolor\": \"#E5ECF6\", \"gridcolor\": \"white\", \"gridwidth\": 2, \"linecolor\": \"white\", \"showbackground\": true, \"ticks\": \"\", \"zerolinecolor\": \"white\"}}, \"shapedefaults\": {\"line\": {\"color\": \"#2a3f5f\"}}, \"ternary\": {\"aaxis\": {\"gridcolor\": \"white\", \"linecolor\": \"white\", \"ticks\": \"\"}, \"baxis\": {\"gridcolor\": \"white\", \"linecolor\": \"white\", \"ticks\": \"\"}, \"bgcolor\": \"#E5ECF6\", \"caxis\": {\"gridcolor\": \"white\", \"linecolor\": \"white\", \"ticks\": \"\"}}, \"title\": {\"x\": 0.05}, \"xaxis\": {\"automargin\": true, \"gridcolor\": \"white\", \"linecolor\": \"white\", \"ticks\": \"\", \"title\": {\"standoff\": 15}, \"zerolinecolor\": \"white\", \"zerolinewidth\": 2}, \"yaxis\": {\"automargin\": true, \"gridcolor\": \"white\", \"linecolor\": \"white\", \"ticks\": \"\", \"title\": {\"standoff\": 15}, \"zerolinecolor\": \"white\", \"zerolinewidth\": 2}}}, \"xaxis\": {\"anchor\": \"y\", \"domain\": [0.0, 1.0], \"title\": {\"text\": \"year\"}}, \"yaxis\": {\"anchor\": \"x\", \"domain\": [0.0, 1.0], \"title\": {\"text\": \"gdpPercap\"}}},\n",
              "                        {\"responsive\": true}\n",
              "                    ).then(function(){\n",
              "                            \n",
              "var gd = document.getElementById('ed40787a-c5f2-4386-8479-1303d631404a');\n",
              "var x = new MutationObserver(function (mutations, observer) {{\n",
              "        var display = window.getComputedStyle(gd).display;\n",
              "        if (!display || display === 'none') {{\n",
              "            console.log([gd, 'removed!']);\n",
              "            Plotly.purge(gd);\n",
              "            observer.disconnect();\n",
              "        }}\n",
              "}});\n",
              "\n",
              "// Listen for the removal of the full notebook cells\n",
              "var notebookContainer = gd.closest('#notebook-container');\n",
              "if (notebookContainer) {{\n",
              "    x.observe(notebookContainer, {childList: true});\n",
              "}}\n",
              "\n",
              "// Listen for the clearing of the current output cell\n",
              "var outputEl = gd.closest('.output');\n",
              "if (outputEl) {{\n",
              "    x.observe(outputEl, {childList: true});\n",
              "}}\n",
              "\n",
              "                        })\n",
              "                };\n",
              "                \n",
              "            </script>\n",
              "        </div>\n",
              "</body>\n",
              "</html>"
            ]
          },
          "metadata": {}
        }
      ]
    },
    {
      "cell_type": "markdown",
      "metadata": {
        "id": "E-StD2Vf7Rpx"
      },
      "source": [
        "# 4. 통계\n",
        "## 회귀분석의 평가지표로 mae보다 mse를 주로 사용하는 이유를 서술해주세요"
      ]
    },
    {
      "cell_type": "markdown",
      "metadata": {
        "id": "DZczCC_dzSsX"
      },
      "source": [
        "MSE는 회귀함수에서 자주 사용되는 손실 함수여서 Accuracy는 회귀에 적용이 안되어서 회귀지표로는 MAE를 더 많이 쓰는 것 같습니다 !"
      ]
    }
  ]
}