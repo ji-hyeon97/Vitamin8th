{
  "nbformat": 4,
  "nbformat_minor": 0,
  "metadata": {
    "colab": {
      "name": "11주차 예습과제.ipynb",
      "provenance": []
    },
    "kernelspec": {
      "name": "python3",
      "display_name": "Python 3"
    },
    "language_info": {
      "name": "python"
    }
  },
  "cells": [
    {
      "cell_type": "code",
      "metadata": {
        "id": "AVrZI7bnFgrg"
      },
      "source": [
        "import pandas as pd\n",
        "from sklearn.datasets import load_iris\n",
        "from sklearn.model_selection import train_test_split"
      ],
      "execution_count": null,
      "outputs": []
    },
    {
      "cell_type": "code",
      "metadata": {
        "id": "jfgh3ixJFoSK"
      },
      "source": [
        "from sklearn.naive_bayes import GaussianNB\n",
        "from sklearn import metrics\n",
        "from sklearn.metrics import accuracy_score"
      ],
      "execution_count": null,
      "outputs": []
    },
    {
      "cell_type": "code",
      "metadata": {
        "id": "x3tzkYiLF0tv"
      },
      "source": [
        "iris = load_iris()\n",
        "\n",
        "df = pd.DataFrame(iris.data, columns=iris.feature_names)\n",
        "df['target'] = iris.target\n",
        "df.target = df.target.map({0:'setosa',1:'versicolor',2:'virginica'})"
      ],
      "execution_count": null,
      "outputs": []
    },
    {
      "cell_type": "code",
      "metadata": {
        "colab": {
          "base_uri": "https://localhost:8080/",
          "height": 206
        },
        "id": "yf_dhkZeGM_3",
        "outputId": "04b206be-9e9d-4b1b-dec4-1fe7433463cb"
      },
      "source": [
        "df.head()"
      ],
      "execution_count": null,
      "outputs": [
        {
          "output_type": "execute_result",
          "data": {
            "text/html": [
              "<div>\n",
              "<style scoped>\n",
              "    .dataframe tbody tr th:only-of-type {\n",
              "        vertical-align: middle;\n",
              "    }\n",
              "\n",
              "    .dataframe tbody tr th {\n",
              "        vertical-align: top;\n",
              "    }\n",
              "\n",
              "    .dataframe thead th {\n",
              "        text-align: right;\n",
              "    }\n",
              "</style>\n",
              "<table border=\"1\" class=\"dataframe\">\n",
              "  <thead>\n",
              "    <tr style=\"text-align: right;\">\n",
              "      <th></th>\n",
              "      <th>sepal length (cm)</th>\n",
              "      <th>sepal width (cm)</th>\n",
              "      <th>petal length (cm)</th>\n",
              "      <th>petal width (cm)</th>\n",
              "      <th>target</th>\n",
              "    </tr>\n",
              "  </thead>\n",
              "  <tbody>\n",
              "    <tr>\n",
              "      <th>0</th>\n",
              "      <td>5.1</td>\n",
              "      <td>3.5</td>\n",
              "      <td>1.4</td>\n",
              "      <td>0.2</td>\n",
              "      <td>setosa</td>\n",
              "    </tr>\n",
              "    <tr>\n",
              "      <th>1</th>\n",
              "      <td>4.9</td>\n",
              "      <td>3.0</td>\n",
              "      <td>1.4</td>\n",
              "      <td>0.2</td>\n",
              "      <td>setosa</td>\n",
              "    </tr>\n",
              "    <tr>\n",
              "      <th>2</th>\n",
              "      <td>4.7</td>\n",
              "      <td>3.2</td>\n",
              "      <td>1.3</td>\n",
              "      <td>0.2</td>\n",
              "      <td>setosa</td>\n",
              "    </tr>\n",
              "    <tr>\n",
              "      <th>3</th>\n",
              "      <td>4.6</td>\n",
              "      <td>3.1</td>\n",
              "      <td>1.5</td>\n",
              "      <td>0.2</td>\n",
              "      <td>setosa</td>\n",
              "    </tr>\n",
              "    <tr>\n",
              "      <th>4</th>\n",
              "      <td>5.0</td>\n",
              "      <td>3.6</td>\n",
              "      <td>1.4</td>\n",
              "      <td>0.2</td>\n",
              "      <td>setosa</td>\n",
              "    </tr>\n",
              "  </tbody>\n",
              "</table>\n",
              "</div>"
            ],
            "text/plain": [
              "   sepal length (cm)  sepal width (cm)  ...  petal width (cm)  target\n",
              "0                5.1               3.5  ...               0.2  setosa\n",
              "1                4.9               3.0  ...               0.2  setosa\n",
              "2                4.7               3.2  ...               0.2  setosa\n",
              "3                4.6               3.1  ...               0.2  setosa\n",
              "4                5.0               3.6  ...               0.2  setosa\n",
              "\n",
              "[5 rows x 5 columns]"
            ]
          },
          "metadata": {},
          "execution_count": 178
        }
      ]
    },
    {
      "cell_type": "code",
      "metadata": {
        "id": "ox1a_MtXGSY1"
      },
      "source": [
        "setosa = df[df.target =='setosa']\n",
        "versicolor = df[df.target =='versicolor']\n",
        "virginica = df[df.target =='virginica']"
      ],
      "execution_count": null,
      "outputs": []
    },
    {
      "cell_type": "code",
      "metadata": {
        "colab": {
          "base_uri": "https://localhost:8080/",
          "height": 35
        },
        "id": "CP0ge2p9GhFE",
        "outputId": "70351f5d-16f0-4a0a-f805-5cfbec9dfbd1"
      },
      "source": [
        "import matplotlib.pyplot as plt\n",
        "fig = plt.figure()"
      ],
      "execution_count": null,
      "outputs": [
        {
          "output_type": "display_data",
          "data": {
            "text/plain": [
              "<Figure size 432x288 with 0 Axes>"
            ]
          },
          "metadata": {}
        }
      ]
    },
    {
      "cell_type": "code",
      "metadata": {
        "colab": {
          "base_uri": "https://localhost:8080/",
          "height": 299
        },
        "id": "LgeBC3ZOGlci",
        "outputId": "82a39c78-8c8d-4c4f-c177-648ecabcde47"
      },
      "source": [
        "fig, ax = plt.subplots(2,2)\n",
        "plt.subplots_adjust(wspace=0.5, hspace=0.5)\n",
        "\n",
        "setosa['sepal length (cm)'].plot(kind='hist',ax=ax[0,0])\n",
        "setosa['sepal length (cm)'].plot(kind='kde',ax=ax[0,0],\n",
        "                                 secondary_y = True,\n",
        "                                 title = 'sepal length (cm) distribution',\n",
        "                                 figsize=(8,4))\n",
        "\n",
        "setosa['sepal width (cm)'].plot(kind='hist',ax=ax[0,1])\n",
        "setosa['sepal width (cm)'].plot(kind='kde',ax=ax[0,1],\n",
        "                                 secondary_y = True,\n",
        "                                 title = 'sepal width (cm) distribution',\n",
        "                                 figsize=(8,4))\n",
        "\n",
        "setosa['petal length (cm)'].plot(kind='hist',ax=ax[1,0])\n",
        "setosa['petal length (cm)'].plot(kind='kde',ax=ax[1,0],\n",
        "                                 secondary_y = True,\n",
        "                                 title = 'petal length (cm) distribution',\n",
        "                                 figsize=(8,4))\n",
        "\n",
        "setosa['petal width (cm)'].plot(kind='hist',ax=ax[1,1])\n",
        "setosa['petal width (cm)'].plot(kind='kde',ax=ax[1,1],\n",
        "                                 secondary_y = True,\n",
        "                                 title = 'petal width (cm) distribution',\n",
        "                                 figsize=(8,4))"
      ],
      "execution_count": null,
      "outputs": [
        {
          "output_type": "execute_result",
          "data": {
            "text/plain": [
              "<matplotlib.axes._subplots.AxesSubplot at 0x7f376ad2d150>"
            ]
          },
          "metadata": {},
          "execution_count": 181
        },
        {
          "output_type": "display_data",
          "data": {
            "image/png": "[encoded data removed]",
            "text/plain": [
              "<Figure size 576x288 with 8 Axes>"
            ]
          },
          "metadata": {
            "needs_background": "light"
          }
        }
      ]
    },
    {
      "cell_type": "code",
      "metadata": {
        "colab": {
          "base_uri": "https://localhost:8080/",
          "height": 299
        },
        "id": "VcxqwixNH2Q-",
        "outputId": "9a6dc050-0c7c-4004-cdbe-cf519d30bba7"
      },
      "source": [
        "fig, ax = plt.subplots(2,2)\n",
        "plt.subplots_adjust(wspace=0.5, hspace=0.5)\n",
        "\n",
        "versicolor['sepal length (cm)'].plot(kind='hist',ax=ax[0,0])\n",
        "versicolor['sepal length (cm)'].plot(kind='kde',ax=ax[0,0],\n",
        "                                 secondary_y = True,\n",
        "                                 title = 'sepal length (cm) distribution',\n",
        "                                 figsize=(8,4))\n",
        "\n",
        "versicolor['sepal width (cm)'].plot(kind='hist',ax=ax[0,1])\n",
        "versicolor['sepal width (cm)'].plot(kind='kde',ax=ax[0,1],\n",
        "                                 secondary_y = True,\n",
        "                                 title = 'sepal width (cm) distribution',\n",
        "                                 figsize=(8,4))\n",
        "\n",
        "versicolor['petal length (cm)'].plot(kind='hist',ax=ax[1,0])\n",
        "versicolor['petal length (cm)'].plot(kind='kde',ax=ax[1,0],\n",
        "                                 secondary_y = True,\n",
        "                                 title = 'petal length (cm) distribution',\n",
        "                                 figsize=(8,4))\n",
        "\n",
        "versicolor['petal width (cm)'].plot(kind='hist',ax=ax[1,1])\n",
        "versicolor['petal width (cm)'].plot(kind='kde',ax=ax[1,1],\n",
        "                                 secondary_y = True,\n",
        "                                 title = 'petal width (cm) distribution',\n",
        "                                 figsize=(8,4))"
      ],
      "execution_count": null,
      "outputs": [
        {
          "output_type": "execute_result",
          "data": {
            "text/plain": [
              "<matplotlib.axes._subplots.AxesSubplot at 0x7f376a9f2310>"
            ]
          },
          "metadata": {},
          "execution_count": 182
        },
        {
          "output_type": "display_data",
          "data": {
            "image/png": "[encoded data removed]",
            "text/plain": [
              "<Figure size 576x288 with 8 Axes>"
            ]
          },
          "metadata": {
            "needs_background": "light"
          }
        }
      ]
    },
    {
      "cell_type": "code",
      "metadata": {
        "colab": {
          "base_uri": "https://localhost:8080/",
          "height": 299
        },
        "id": "pKfPMt-QIHK2",
        "outputId": "a6b59c64-e48c-4669-b3e8-83d26a211a5a"
      },
      "source": [
        "fig, ax = plt.subplots(2,2)\n",
        "plt.subplots_adjust(wspace=0.5, hspace=0.5)\n",
        "\n",
        "virginica['sepal length (cm)'].plot(kind='hist',ax=ax[0,0])\n",
        "virginica['sepal length (cm)'].plot(kind='kde',ax=ax[0,0],\n",
        "                                 secondary_y = True,\n",
        "                                 title = 'sepal length (cm) distribution',\n",
        "                                 figsize=(8,4))\n",
        "\n",
        "virginica['sepal width (cm)'].plot(kind='hist',ax=ax[0,1])\n",
        "virginica['sepal width (cm)'].plot(kind='kde',ax=ax[0,1],\n",
        "                                 secondary_y = True,\n",
        "                                 title = 'sepal width (cm) distribution',\n",
        "                                 figsize=(8,4))\n",
        "\n",
        "virginica['petal length (cm)'].plot(kind='hist',ax=ax[1,0])\n",
        "virginica['petal length (cm)'].plot(kind='kde',ax=ax[1,0],\n",
        "                                 secondary_y = True,\n",
        "                                 title = 'petal length (cm) distribution',\n",
        "                                 figsize=(8,4))\n",
        "\n",
        "virginica['petal width (cm)'].plot(kind='hist',ax=ax[1,1])\n",
        "virginica['petal width (cm)'].plot(kind='kde',ax=ax[1,1],\n",
        "                                 secondary_y = True,\n",
        "                                 title = 'petal width (cm) distribution',\n",
        "                                 figsize=(8,4))"
      ],
      "execution_count": null,
      "outputs": [
        {
          "output_type": "execute_result",
          "data": {
            "text/plain": [
              "<matplotlib.axes._subplots.AxesSubplot at 0x7f376a777190>"
            ]
          },
          "metadata": {},
          "execution_count": 183
        },
        {
          "output_type": "display_data",
          "data": {
            "image/png": "[encoded data removed]",
            "text/plain": [
              "<Figure size 576x288 with 8 Axes>"
            ]
          },
          "metadata": {
            "needs_background": "light"
          }
        }
      ]
    },
    {
      "cell_type": "code",
      "metadata": {
        "id": "lHKm_Ej1IO5o"
      },
      "source": [
        "X_train, X_test, y_train, y_test = train_test_split(iris.data, iris.target, test_size=0.2)"
      ],
      "execution_count": null,
      "outputs": []
    },
    {
      "cell_type": "code",
      "metadata": {
        "colab": {
          "base_uri": "https://localhost:8080/"
        },
        "id": "VBiNLyazJMof",
        "outputId": "15a34636-4f90-4141-935c-d73312119f9f"
      },
      "source": [
        "model = GaussianNB()\n",
        "model.fit(X_train,y_train)"
      ],
      "execution_count": null,
      "outputs": [
        {
          "output_type": "execute_result",
          "data": {
            "text/plain": [
              "GaussianNB()"
            ]
          },
          "metadata": {},
          "execution_count": 185
        }
      ]
    },
    {
      "cell_type": "code",
      "metadata": {
        "colab": {
          "base_uri": "https://localhost:8080/"
        },
        "id": "YKoXOLx4JRqo",
        "outputId": "7f5471b4-eca5-4a4f-d683-ab69caf346e1"
      },
      "source": [
        "pred = model.predict(X_test)\n",
        "print(metrics.classification_report(y_test,pred))"
      ],
      "execution_count": null,
      "outputs": [
        {
          "output_type": "stream",
          "name": "stdout",
          "text": [
            "              precision    recall  f1-score   support\n",
            "\n",
            "           0       1.00      1.00      1.00         9\n",
            "           1       0.80      0.89      0.84         9\n",
            "           2       0.91      0.83      0.87        12\n",
            "\n",
            "    accuracy                           0.90        30\n",
            "   macro avg       0.90      0.91      0.90        30\n",
            "weighted avg       0.90      0.90      0.90        30\n",
            "\n"
          ]
        }
      ]
    },
    {
      "cell_type": "code",
      "metadata": {
        "colab": {
          "base_uri": "https://localhost:8080/",
          "height": 301
        },
        "id": "aCUQxtn2JgMP",
        "outputId": "ac8a4881-212e-4136-84bd-fea6b1fd5f0d"
      },
      "source": [
        "from sklearn.metrics import ConfusionMatrixDisplay\n",
        "cm = metrics.confusion_matrix(y_test, pred)\n",
        "ConfusionMatrixDisplay(cm,display_labels = load_iris().target_names).plot()"
      ],
      "execution_count": null,
      "outputs": [
        {
          "output_type": "execute_result",
          "data": {
            "text/plain": [
              "<sklearn.metrics._plot.confusion_matrix.ConfusionMatrixDisplay at 0x7f376ae3b090>"
            ]
          },
          "metadata": {},
          "execution_count": 187
        },
        {
          "output_type": "display_data",
          "data": {
            "image/png": "[encoded data removed]",
            "text/plain": [
              "<Figure size 432x288 with 2 Axes>"
            ]
          },
          "metadata": {
            "needs_background": "light"
          }
        }
      ]
    },
    {
      "cell_type": "code",
      "metadata": {
        "colab": {
          "base_uri": "https://localhost:8080/"
        },
        "id": "h8kH00EfJ_m7",
        "outputId": "d772afb4-8a8c-4ad7-9882-732753dc01c6"
      },
      "source": [
        "accuracy_score(y_test, pred)"
      ],
      "execution_count": null,
      "outputs": [
        {
          "output_type": "execute_result",
          "data": {
            "text/plain": [
              "0.9"
            ]
          },
          "metadata": {},
          "execution_count": 188
        }
      ]
    },
    {
      "cell_type": "code",
      "metadata": {
        "id": "k9yXoyePKDDZ"
      },
      "source": [
        "params_nb = {'var_smoothing':[1,0.5,0.1,0.001,0.0001,0.00001,0.000001,0.0000001,0.00000001]}"
      ],
      "execution_count": null,
      "outputs": []
    },
    {
      "cell_type": "code",
      "metadata": {
        "colab": {
          "base_uri": "https://localhost:8080/"
        },
        "id": "2QHfyQPxKYb3",
        "outputId": "56bbc675-7192-4ed1-ea89-872a9eb0f641"
      },
      "source": [
        "from sklearn.model_selection import StratifiedKFold\n",
        "from sklearn.model_selection import GridSearchCV\n",
        "grid = GridSearchCV(GaussianNB(priors=[1/3,1/3,1/3]), param_grid=params_nb,\n",
        "                    cv = list(StratifiedKFold(n_splits=5).split(X_train,y_train)),\n",
        "                    n_jobs=2)\n",
        "grid.fit(X_train,y_train)"
      ],
      "execution_count": null,
      "outputs": [
        {
          "output_type": "execute_result",
          "data": {
            "text/plain": [
              "GridSearchCV(cv=[(array([ 16,  17,  22,  23,  25,  27,  28,  29,  30,  31,  32,  34,  35,\n",
              "        37,  38,  39,  40,  41,  42,  43,  44,  45,  46,  47,  48,  49,\n",
              "        50,  51,  52,  53,  54,  55,  56,  57,  58,  59,  60,  61,  62,\n",
              "        63,  64,  65,  66,  67,  68,  69,  70,  71,  72,  73,  74,  75,\n",
              "        76,  77,  78,  79,  80,  81,  82,  83,  84,  85,  86,  87,  88,\n",
              "        89,  90,  91,  92,  93,  94,  95,  96,  97,  98,  99, 100, 101,\n",
              "       102, 103, 104, 105, 106, 107, 108, 109, 110, 111, 112, 113, 114,\n",
              "       115, 116, 117, 118, 119]),\n",
              "                  array([ 0,  1,  2,  3,...\n",
              "       68, 69, 70, 71, 72, 73, 74, 75, 76, 77, 78, 79, 80, 81, 82, 83, 84,\n",
              "       85, 86, 87, 88, 89, 90, 92, 93, 95, 96, 98]),\n",
              "                  array([ 91,  94,  97,  99, 100, 101, 102, 103, 104, 105, 106, 107, 108,\n",
              "       109, 110, 111, 112, 113, 114, 115, 116, 117, 118, 119]))],\n",
              "             estimator=GaussianNB(priors=[0.3333333333333333,\n",
              "                                          0.3333333333333333,\n",
              "                                          0.3333333333333333]),\n",
              "             n_jobs=2,\n",
              "             param_grid={'var_smoothing': [1, 0.5, 0.1, 0.001, 0.0001, 1e-05,\n",
              "                                           1e-06, 1e-07, 1e-08]})"
            ]
          },
          "metadata": {},
          "execution_count": 190
        }
      ]
    },
    {
      "cell_type": "code",
      "metadata": {
        "colab": {
          "base_uri": "https://localhost:8080/"
        },
        "id": "HX9yB5I1LEQ3",
        "outputId": "f5962ed4-3f8d-4c1f-ce8c-a408b8b9baa6"
      },
      "source": [
        "print('best param: ', grid.best_estimator_)\n",
        "print('best score: ', grid.best_score_)\n",
        "best_nb = grid.best_estimator_"
      ],
      "execution_count": null,
      "outputs": [
        {
          "output_type": "stream",
          "name": "stdout",
          "text": [
            "best param:  GaussianNB(priors=[0.3333333333333333, 0.3333333333333333, 0.3333333333333333],\n",
            "           var_smoothing=0.001)\n",
            "best score:  0.9583333333333334\n"
          ]
        }
      ]
    },
    {
      "cell_type": "code",
      "metadata": {
        "colab": {
          "base_uri": "https://localhost:8080/"
        },
        "id": "vGuTMM68LAhJ",
        "outputId": "d3645282-d37d-41a5-c446-864e7e983ace"
      },
      "source": [
        "best_nb.fit(X_train,y_train)"
      ],
      "execution_count": null,
      "outputs": [
        {
          "output_type": "execute_result",
          "data": {
            "text/plain": [
              "GaussianNB(priors=[0.3333333333333333, 0.3333333333333333, 0.3333333333333333],\n",
              "           var_smoothing=0.001)"
            ]
          },
          "metadata": {},
          "execution_count": 192
        }
      ]
    },
    {
      "cell_type": "code",
      "metadata": {
        "colab": {
          "base_uri": "https://localhost:8080/"
        },
        "id": "3O_V0XONNh61",
        "outputId": "96fb844a-83f5-4bb9-8d6a-e2a2c4761a03"
      },
      "source": [
        "new_pred = best_nb.predict(X_test)\n",
        "print(metrics.classification_report(y_test,new_pred))"
      ],
      "execution_count": null,
      "outputs": [
        {
          "output_type": "stream",
          "name": "stdout",
          "text": [
            "              precision    recall  f1-score   support\n",
            "\n",
            "           0       1.00      1.00      1.00         9\n",
            "           1       0.80      0.89      0.84         9\n",
            "           2       0.91      0.83      0.87        12\n",
            "\n",
            "    accuracy                           0.90        30\n",
            "   macro avg       0.90      0.91      0.90        30\n",
            "weighted avg       0.90      0.90      0.90        30\n",
            "\n"
          ]
        }
      ]
    },
    {
      "cell_type": "code",
      "metadata": {
        "colab": {
          "base_uri": "https://localhost:8080/",
          "height": 301
        },
        "id": "yySETyncN1ia",
        "outputId": "ae87b603-f41c-499e-8c21-a9666a062d2e"
      },
      "source": [
        "from sklearn.metrics import ConfusionMatrixDisplay\n",
        "cm = metrics.confusion_matrix(y_test, new_pred)\n",
        "ConfusionMatrixDisplay(cm,display_labels = load_iris().target_names).plot()"
      ],
      "execution_count": null,
      "outputs": [
        {
          "output_type": "execute_result",
          "data": {
            "text/plain": [
              "<sklearn.metrics._plot.confusion_matrix.ConfusionMatrixDisplay at 0x7f376a605fd0>"
            ]
          },
          "metadata": {},
          "execution_count": 194
        },
        {
          "output_type": "display_data",
          "data": {
            "image/png": "[encoded data removed]",
            "text/plain": [
              "<Figure size 432x288 with 2 Axes>"
            ]
          },
          "metadata": {
            "needs_background": "light"
          }
        }
      ]
    },
    {
      "cell_type": "code",
      "metadata": {
        "colab": {
          "base_uri": "https://localhost:8080/"
        },
        "id": "emCaxag4N8Xs",
        "outputId": "8dbd9e46-da9d-40fd-8875-39241b6d190f"
      },
      "source": [
        "accuracy_score(y_test,pred)"
      ],
      "execution_count": null,
      "outputs": [
        {
          "output_type": "execute_result",
          "data": {
            "text/plain": [
              "0.9"
            ]
          },
          "metadata": {},
          "execution_count": 195
        }
      ]
    },
    {
      "cell_type": "code",
      "metadata": {
        "id": "IrvZztCzN_TA"
      },
      "source": [
        "import pandas as pd\n",
        "import numpy as np\n",
        "from sklearn.model_selection import train_test_split\n",
        "from sklearn.feature_extraction.text import CountVectorizer\n",
        "from sklearn.naive_bayes import BernoulliNB\n",
        "from sklearn.metrics import accuracy_score"
      ],
      "execution_count": null,
      "outputs": []
    },
    {
      "cell_type": "code",
      "metadata": {
        "id": "h_BucCP1OWyK"
      },
      "source": [
        "X = np.array([\n",
        "              [0,1,1,0],\n",
        "              [1,1,1,1],\n",
        "              [1,1,1,0],\n",
        "              [0,1,0,0],\n",
        "              [0,0,0,1],\n",
        "              [0,1,1,0],\n",
        "              [0,1,1,1],\n",
        "              [1,0,1,0],\n",
        "              [1,0,1,1],\n",
        "              [0,1,1,0]])\n",
        "y = np.array([0,0,0,0,1,1,1,1,1,1])"
      ],
      "execution_count": null,
      "outputs": []
    },
    {
      "cell_type": "code",
      "metadata": {
        "id": "IYOA8HqBQVRf"
      },
      "source": [
        "model_bern = BernoulliNB().fit(X,y)"
      ],
      "execution_count": null,
      "outputs": []
    },
    {
      "cell_type": "code",
      "metadata": {
        "colab": {
          "base_uri": "https://localhost:8080/"
        },
        "id": "di5nqzFDQZo9",
        "outputId": "579ae75e-fac3-4ccb-9470-d48eb7c82d0c"
      },
      "source": [
        "model_bern.classes_"
      ],
      "execution_count": null,
      "outputs": [
        {
          "output_type": "execute_result",
          "data": {
            "text/plain": [
              "array([0, 1])"
            ]
          },
          "metadata": {},
          "execution_count": 199
        }
      ]
    },
    {
      "cell_type": "code",
      "metadata": {
        "colab": {
          "base_uri": "https://localhost:8080/"
        },
        "id": "lKKm86DyQcUr",
        "outputId": "77aedb43-fd06-47ad-804e-9b77e95227b2"
      },
      "source": [
        "model_bern.class_count_"
      ],
      "execution_count": null,
      "outputs": [
        {
          "output_type": "execute_result",
          "data": {
            "text/plain": [
              "array([4., 6.])"
            ]
          },
          "metadata": {},
          "execution_count": 200
        }
      ]
    },
    {
      "cell_type": "code",
      "metadata": {
        "colab": {
          "base_uri": "https://localhost:8080/"
        },
        "id": "o5T1UxlsQetf",
        "outputId": "e8e5b133-fe64-4671-c66e-bfccca0f2154"
      },
      "source": [
        "np.exp(model_bern.class_log_prior_)"
      ],
      "execution_count": null,
      "outputs": [
        {
          "output_type": "execute_result",
          "data": {
            "text/plain": [
              "array([0.4, 0.6])"
            ]
          },
          "metadata": {},
          "execution_count": 201
        }
      ]
    },
    {
      "cell_type": "code",
      "metadata": {
        "colab": {
          "base_uri": "https://localhost:8080/"
        },
        "id": "f4S-JLXNQjZw",
        "outputId": "65a2bbd6-b19d-4e3d-b2fb-0e00f7333fc8"
      },
      "source": [
        "fc = model_bern.feature_count_\n",
        "fc"
      ],
      "execution_count": null,
      "outputs": [
        {
          "output_type": "execute_result",
          "data": {
            "text/plain": [
              "array([[2., 4., 3., 1.],\n",
              "       [2., 3., 5., 3.]])"
            ]
          },
          "metadata": {},
          "execution_count": 202
        }
      ]
    },
    {
      "cell_type": "code",
      "metadata": {
        "colab": {
          "base_uri": "https://localhost:8080/"
        },
        "id": "r_YPTPzOQw1U",
        "outputId": "f839f600-1ab9-4f94-8c6c-820bcc215ce7"
      },
      "source": [
        "fc / np.repeat(model_bern.class_count_[:, np.newaxis],4,axis=1)"
      ],
      "execution_count": null,
      "outputs": [
        {
          "output_type": "execute_result",
          "data": {
            "text/plain": [
              "array([[0.5       , 1.        , 0.75      , 0.25      ],\n",
              "       [0.33333333, 0.5       , 0.83333333, 0.5       ]])"
            ]
          },
          "metadata": {},
          "execution_count": 203
        }
      ]
    },
    {
      "cell_type": "code",
      "metadata": {
        "colab": {
          "base_uri": "https://localhost:8080/"
        },
        "id": "upM1uA_nQ9Mr",
        "outputId": "3a6c562a-7c80-4a42-f7f2-9945e5be2379"
      },
      "source": [
        "model_bern.alpha"
      ],
      "execution_count": null,
      "outputs": [
        {
          "output_type": "execute_result",
          "data": {
            "text/plain": [
              "1.0"
            ]
          },
          "metadata": {},
          "execution_count": 204
        }
      ]
    },
    {
      "cell_type": "code",
      "metadata": {
        "colab": {
          "base_uri": "https://localhost:8080/"
        },
        "id": "Rth04yX1RAU7",
        "outputId": "a8348212-caab-4c1d-b146-dfa53e5d9582"
      },
      "source": [
        "theta = np.exp(model_bern.feature_log_prob_)\n",
        "theta"
      ],
      "execution_count": null,
      "outputs": [
        {
          "output_type": "execute_result",
          "data": {
            "text/plain": [
              "array([[0.5       , 0.83333333, 0.66666667, 0.33333333],\n",
              "       [0.375     , 0.5       , 0.75      , 0.5       ]])"
            ]
          },
          "metadata": {},
          "execution_count": 205
        }
      ]
    },
    {
      "cell_type": "code",
      "metadata": {
        "colab": {
          "base_uri": "https://localhost:8080/"
        },
        "id": "BbshkPNjRTbm",
        "outputId": "93f30cd7-c7e6-4292-a9f7-1319333338a4"
      },
      "source": [
        "email_list = [\n",
        "              {'email title' : 'free game only today','spam':True},\n",
        "              {'email title' : 'limited time offer only today','spam':True},\n",
        "              {'email title' : 'cheapest flight deal','spam':True},\n",
        "              {'email title' : 'today flight schedule','spam':True},\n",
        "              {'email title' : 'today meeting schedule','spam':False},\n",
        "              {'email title' : 'Competition winners announced','spam':False},\n",
        "              {'email title' : 'Notification of change of schedule','spam':False},\n",
        "              {'email title' : 'your credit card statement','spam':False}\n",
        "]\n",
        "df = pd.DataFrame(email_list)\n",
        "df.info()"
      ],
      "execution_count": null,
      "outputs": [
        {
          "output_type": "stream",
          "name": "stdout",
          "text": [
            "<class 'pandas.core.frame.DataFrame'>\n",
            "RangeIndex: 8 entries, 0 to 7\n",
            "Data columns (total 2 columns):\n",
            " #   Column       Non-Null Count  Dtype \n",
            "---  ------       --------------  ----- \n",
            " 0   email title  8 non-null      object\n",
            " 1   spam         8 non-null      bool  \n",
            "dtypes: bool(1), object(1)\n",
            "memory usage: 200.0+ bytes\n"
          ]
        }
      ]
    },
    {
      "cell_type": "code",
      "metadata": {
        "colab": {
          "base_uri": "https://localhost:8080/",
          "height": 300
        },
        "id": "M0uR1h45TzaU",
        "outputId": "5ece755b-b71b-4158-ac92-b3cc77b571a5"
      },
      "source": [
        "df['label'] = df['spam'].map({True:1, False:0})\n",
        "df"
      ],
      "execution_count": null,
      "outputs": [
        {
          "output_type": "execute_result",
          "data": {
            "text/html": [
              "<div>\n",
              "<style scoped>\n",
              "    .dataframe tbody tr th:only-of-type {\n",
              "        vertical-align: middle;\n",
              "    }\n",
              "\n",
              "    .dataframe tbody tr th {\n",
              "        vertical-align: top;\n",
              "    }\n",
              "\n",
              "    .dataframe thead th {\n",
              "        text-align: right;\n",
              "    }\n",
              "</style>\n",
              "<table border=\"1\" class=\"dataframe\">\n",
              "  <thead>\n",
              "    <tr style=\"text-align: right;\">\n",
              "      <th></th>\n",
              "      <th>email title</th>\n",
              "      <th>spam</th>\n",
              "      <th>label</th>\n",
              "    </tr>\n",
              "  </thead>\n",
              "  <tbody>\n",
              "    <tr>\n",
              "      <th>0</th>\n",
              "      <td>free game only today</td>\n",
              "      <td>True</td>\n",
              "      <td>1</td>\n",
              "    </tr>\n",
              "    <tr>\n",
              "      <th>1</th>\n",
              "      <td>limited time offer only today</td>\n",
              "      <td>True</td>\n",
              "      <td>1</td>\n",
              "    </tr>\n",
              "    <tr>\n",
              "      <th>2</th>\n",
              "      <td>cheapest flight deal</td>\n",
              "      <td>True</td>\n",
              "      <td>1</td>\n",
              "    </tr>\n",
              "    <tr>\n",
              "      <th>3</th>\n",
              "      <td>today flight schedule</td>\n",
              "      <td>True</td>\n",
              "      <td>1</td>\n",
              "    </tr>\n",
              "    <tr>\n",
              "      <th>4</th>\n",
              "      <td>today meeting schedule</td>\n",
              "      <td>False</td>\n",
              "      <td>0</td>\n",
              "    </tr>\n",
              "    <tr>\n",
              "      <th>5</th>\n",
              "      <td>Competition winners announced</td>\n",
              "      <td>False</td>\n",
              "      <td>0</td>\n",
              "    </tr>\n",
              "    <tr>\n",
              "      <th>6</th>\n",
              "      <td>Notification of change of schedule</td>\n",
              "      <td>False</td>\n",
              "      <td>0</td>\n",
              "    </tr>\n",
              "    <tr>\n",
              "      <th>7</th>\n",
              "      <td>your credit card statement</td>\n",
              "      <td>False</td>\n",
              "      <td>0</td>\n",
              "    </tr>\n",
              "  </tbody>\n",
              "</table>\n",
              "</div>"
            ],
            "text/plain": [
              "                          email title   spam  label\n",
              "0                free game only today   True      1\n",
              "1       limited time offer only today   True      1\n",
              "2                cheapest flight deal   True      1\n",
              "3               today flight schedule   True      1\n",
              "4              today meeting schedule  False      0\n",
              "5       Competition winners announced  False      0\n",
              "6  Notification of change of schedule  False      0\n",
              "7          your credit card statement  False      0"
            ]
          },
          "metadata": {},
          "execution_count": 207
        }
      ]
    },
    {
      "cell_type": "code",
      "metadata": {
        "id": "D0npdpm1T7N5"
      },
      "source": [
        "df_x = df['email title']\n",
        "df_y = df['label']"
      ],
      "execution_count": null,
      "outputs": []
    },
    {
      "cell_type": "code",
      "metadata": {
        "colab": {
          "base_uri": "https://localhost:8080/"
        },
        "id": "gydDuwo_V3dx",
        "outputId": "9f880b32-1d54-4b8c-80c1-088a6f572b8e"
      },
      "source": [
        "from sklearn.feature_extraction.text import CountVectorizer\n",
        "cv = CountVectorizer(binary=True)\n",
        "x_traincv = cv.fit_transform(df_x)\n",
        "x_traincv"
      ],
      "execution_count": null,
      "outputs": [
        {
          "output_type": "execute_result",
          "data": {
            "text/plain": [
              "<8x22 sparse matrix of type '<class 'numpy.int64'>'\n",
              "\twith 29 stored elements in Compressed Sparse Row format>"
            ]
          },
          "metadata": {},
          "execution_count": 209
        }
      ]
    },
    {
      "cell_type": "code",
      "metadata": {
        "colab": {
          "base_uri": "https://localhost:8080/"
        },
        "id": "MnRpBjCeXQyb",
        "outputId": "5e029163-dc06-46d2-a632-5ed8fe23710d"
      },
      "source": [
        "cv.get_feature_names_out()"
      ],
      "execution_count": null,
      "outputs": [
        {
          "output_type": "execute_result",
          "data": {
            "text/plain": [
              "array(['announced', 'card', 'change', 'cheapest', 'competition', 'credit',\n",
              "       'deal', 'flight', 'free', 'game', 'limited', 'meeting',\n",
              "       'notification', 'of', 'offer', 'only', 'schedule', 'statement',\n",
              "       'time', 'today', 'winners', 'your'], dtype=object)"
            ]
          },
          "metadata": {},
          "execution_count": 210
        }
      ]
    },
    {
      "cell_type": "code",
      "metadata": {
        "colab": {
          "base_uri": "https://localhost:8080/"
        },
        "id": "9fCPkT--X8QC",
        "outputId": "9e80f050-bf79-4715-f9ca-c01f3d32f45f"
      },
      "source": [
        "encoded_input = x_traincv.toarray()\n",
        "encoded_input"
      ],
      "execution_count": null,
      "outputs": [
        {
          "output_type": "execute_result",
          "data": {
            "text/plain": [
              "array([[0, 0, 0, 0, 0, 0, 0, 0, 1, 1, 0, 0, 0, 0, 0, 1, 0, 0, 0, 1, 0, 0],\n",
              "       [0, 0, 0, 0, 0, 0, 0, 0, 0, 0, 1, 0, 0, 0, 1, 1, 0, 0, 1, 1, 0, 0],\n",
              "       [0, 0, 0, 1, 0, 0, 1, 1, 0, 0, 0, 0, 0, 0, 0, 0, 0, 0, 0, 0, 0, 0],\n",
              "       [0, 0, 0, 0, 0, 0, 0, 1, 0, 0, 0, 0, 0, 0, 0, 0, 1, 0, 0, 1, 0, 0],\n",
              "       [0, 0, 0, 0, 0, 0, 0, 0, 0, 0, 0, 1, 0, 0, 0, 0, 1, 0, 0, 1, 0, 0],\n",
              "       [1, 0, 0, 0, 1, 0, 0, 0, 0, 0, 0, 0, 0, 0, 0, 0, 0, 0, 0, 0, 1, 0],\n",
              "       [0, 0, 1, 0, 0, 0, 0, 0, 0, 0, 0, 0, 1, 1, 0, 0, 1, 0, 0, 0, 0, 0],\n",
              "       [0, 1, 0, 0, 0, 1, 0, 0, 0, 0, 0, 0, 0, 0, 0, 0, 0, 1, 0, 0, 0, 1]])"
            ]
          },
          "metadata": {},
          "execution_count": 211
        }
      ]
    },
    {
      "cell_type": "code",
      "metadata": {
        "colab": {
          "base_uri": "https://localhost:8080/"
        },
        "id": "zLi1MU9vYE9x",
        "outputId": "1e493f3c-6349-4ce9-839a-b1488d3e58aa"
      },
      "source": [
        "cv.inverse_transform(encoded_input)[0]"
      ],
      "execution_count": null,
      "outputs": [
        {
          "output_type": "execute_result",
          "data": {
            "text/plain": [
              "array(['free', 'game', 'only', 'today'], dtype='<U12')"
            ]
          },
          "metadata": {},
          "execution_count": 212
        }
      ]
    },
    {
      "cell_type": "code",
      "metadata": {
        "colab": {
          "base_uri": "https://localhost:8080/"
        },
        "id": "h1xYHQhHZk7r",
        "outputId": "2d75cc92-a66e-4ab0-e020-162372741628"
      },
      "source": [
        "bnb = BernoulliNB()\n",
        "y_train = df_y.astype('int')\n",
        "bnb.fit(x_traincv, y_train)"
      ],
      "execution_count": null,
      "outputs": [
        {
          "output_type": "execute_result",
          "data": {
            "text/plain": [
              "BernoulliNB()"
            ]
          },
          "metadata": {},
          "execution_count": 213
        }
      ]
    },
    {
      "cell_type": "code",
      "metadata": {
        "id": "4W9i5vMtaEFD"
      },
      "source": [
        "test_email_list = [\n",
        "              {'email title' : 'limited time offer only today','spam':True},\n",
        "              {'email title' : 'today flight schedule','spam':True},\n",
        "              {'email title' : 'cheapest game catalogue','spam':True},\n",
        "              {'email title' : 'hey traveler free flight deal','spam':True},\n",
        "              {'email title' : 'free flight offer','spam':False},\n",
        "              {'email title' : 'Competition winners attached','spam':False},\n",
        "              {'email title' : 'Notification of change of announced','spam':False},\n",
        "              {'email title' : 'your credit card offer only today','spam':False}\n",
        "]\n",
        "\n",
        "test_df = pd.DataFrame(test_email_list)\n",
        "test_df['label'] = test_df['spam'].map({True:1, False:0})\n",
        "test_x = test_df['email title']\n",
        "test_y = test_df['label']\n",
        "x_testcv = cv.transform(test_x)"
      ],
      "execution_count": null,
      "outputs": []
    },
    {
      "cell_type": "code",
      "metadata": {
        "colab": {
          "base_uri": "https://localhost:8080/"
        },
        "id": "eoXFaws5br_N",
        "outputId": "ac874312-3d33-459b-dd76-81e0acd8f0fc"
      },
      "source": [
        "predictions = bnb.predict(x_testcv)\n",
        "predictions"
      ],
      "execution_count": null,
      "outputs": [
        {
          "output_type": "execute_result",
          "data": {
            "text/plain": [
              "array([1, 1, 1, 1, 1, 0, 0, 1])"
            ]
          },
          "metadata": {},
          "execution_count": 215
        }
      ]
    },
    {
      "cell_type": "code",
      "metadata": {
        "colab": {
          "base_uri": "https://localhost:8080/"
        },
        "id": "HfiReqGocI7U",
        "outputId": "4cbd0a9b-1ad6-47ad-a8fe-1bf45d8d9812"
      },
      "source": [
        "accuracy_score(test_y, predictions)"
      ],
      "execution_count": null,
      "outputs": [
        {
          "output_type": "execute_result",
          "data": {
            "text/plain": [
              "0.75"
            ]
          },
          "metadata": {},
          "execution_count": 216
        }
      ]
    }
  ]
}