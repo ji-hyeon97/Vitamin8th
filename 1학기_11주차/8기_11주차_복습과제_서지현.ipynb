{
  "nbformat": 4,
  "nbformat_minor": 0,
  "metadata": {
    "kernelspec": {
      "display_name": "Python 3",
      "language": "python",
      "name": "python3"
    },
    "language_info": {
      "codemirror_mode": {
        "name": "ipython",
        "version": 3
      },
      "file_extension": ".py",
      "mimetype": "text/x-python",
      "name": "python",
      "nbconvert_exporter": "python",
      "pygments_lexer": "ipython3",
      "version": "3.8.8"
    },
    "colab": {
      "name": "11주차_복습과제_문제.ipynb",
      "provenance": [],
      "collapsed_sections": []
    }
  },
  "cells": [
    {
      "cell_type": "markdown",
      "metadata": {
        "id": "6lVLf1UkRvkJ"
      },
      "source": [
        "# 1."
      ]
    },
    {
      "cell_type": "markdown",
      "metadata": {
        "id": "WIwLW12rRvkO"
      },
      "source": [
        "어느 한 기사에 따르면 길을 건너는 도중 교통 사고를 당한 사람 중에서 휴대 전화를 본 사람은 20%, 보지 않은 사람은 80%가 된다고 한다. 이는 과연 길을 건널 때 휴대 전화를 보지 않는 것이 더 위험하다는 걸 의미할까? 길을 건너는 도중 휴대전화를 본 사람 중에서 교통 사고를 당할 확률이 휴대전화를 보지 않은 사람보다 더 높으려면, 평소에 길을 건너는 도중 휴대전화를 보는 사람의 비중이 몇 퍼센트(%) 미만이어야 할까? 본인의 생각을 서술하시오."
      ]
    },
    {
      "cell_type": "markdown",
      "metadata": {
        "id": "e_YS1tkASgGg"
      },
      "source": [
        "이는 과연 길을 건널 때 휴대 전화를 보지 않는 것이 더 위험하다는 걸 의미할까? 아니요 -> 휴대전화를 보지 않고 교통사고를 당하지 않은 사람의 비율이 훨싼 많을 수 있다 -> 전체 비율을 알아야 합니다\n",
        "\n",
        "길을 건너는 도중 휴대전화를 본 사람 중에서 교통 사고를 당할 확률이 휴대전화를 보지 않은 사람보다 더 높으려면, 평소에 길을 건너는 도중 휴대전화를 보는 사람의 비중이 몇 퍼센트(%) 미만이어야 할까? -> 20%미만입니다"
      ]
    },
    {
      "cell_type": "markdown",
      "metadata": {
        "id": "vYnvvzlwRvkQ"
      },
      "source": [
        "# 2."
      ]
    },
    {
      "cell_type": "markdown",
      "metadata": {
        "id": "hK-WYtR6RvkQ"
      },
      "source": [
        "(1) 나이브 베이즈 종류 3가지와 어떤 데이터일 때 해당 나이브 베이즈를 사용하는지 서술하시오."
      ]
    },
    {
      "cell_type": "markdown",
      "metadata": {
        "id": "WXziwAzSRvkQ"
      },
      "source": [
        "가우시안 나이브 베이즈 : 연속적인 어떤 데이터에도 적용할 수 있는 나이브 베이즈\n",
        "\n",
        "다항분포 나이브 베이즈 : 특성이 어떤 것인지 헤아린 정수 카운트 데이터에 적용할 수 있는 나이브 베이즈\n",
        "\n",
        "베르누이 나이브 베이즈 : 이진 데이터에 적용할 수 있는 나이브 베이즈"
      ]
    },
    {
      "cell_type": "markdown",
      "metadata": {
        "id": "GIaTfUY2RvkR"
      },
      "source": [
        "(2) 나이브 베이즈의 장점과 단점을 각각 두가지 이상 서술하시오."
      ]
    },
    {
      "cell_type": "markdown",
      "metadata": {
        "id": "RYUQwIyIUfSF"
      },
      "source": [
        "장점 : 계산속도가 빠름, 잡음과 누락 데이터를 잘 처리함\n",
        "\n",
        "단점 : 일반화 성능이 다른 모델에 비해 떨어질 수 있다, 수치 특징이 많은 데이터 셋에는 이상적이지 않다"
      ]
    },
    {
      "cell_type": "markdown",
      "metadata": {
        "id": "UeFiRuDsRvkS"
      },
      "source": [
        "# 3."
      ]
    },
    {
      "cell_type": "code",
      "metadata": {
        "id": "zNCet8mWRvkT"
      },
      "source": [
        "import numpy as np\n",
        "import pandas as pd\n",
        "\n",
        "from sklearn import datasets\n",
        "from sklearn import model_selection\n",
        "from sklearn.naive_bayes import GaussianNB\n",
        "from sklearn import metrics"
      ],
      "execution_count": null,
      "outputs": []
    },
    {
      "cell_type": "markdown",
      "metadata": {
        "id": "8JgLIxSQRvkU"
      },
      "source": [
        "### 데이터 불러오기"
      ]
    },
    {
      "cell_type": "code",
      "metadata": {
        "id": "B9T0sEqCRvkU"
      },
      "source": [
        "dataset = datasets.load_wine()"
      ],
      "execution_count": null,
      "outputs": []
    },
    {
      "cell_type": "code",
      "metadata": {
        "colab": {
          "base_uri": "https://localhost:8080/"
        },
        "id": "om2osqU8RvkV",
        "outputId": "29166892-1160-46e1-e29d-b2416e266c9f"
      },
      "source": [
        "df = pd.DataFrame(dataset.data, columns=dataset.feature_names)\n",
        "df['target'] = dataset.target\n",
        "print(df.head())"
      ],
      "execution_count": null,
      "outputs": [
        {
          "output_type": "stream",
          "name": "stdout",
          "text": [
            "   alcohol  malic_acid   ash  ...  od280/od315_of_diluted_wines  proline  target\n",
            "0    14.23        1.71  2.43  ...                          3.92   1065.0       0\n",
            "1    13.20        1.78  2.14  ...                          3.40   1050.0       0\n",
            "2    13.16        2.36  2.67  ...                          3.17   1185.0       0\n",
            "3    14.37        1.95  2.50  ...                          3.45   1480.0       0\n",
            "4    13.24        2.59  2.87  ...                          2.93    735.0       0\n",
            "\n",
            "[5 rows x 14 columns]\n"
          ]
        }
      ]
    },
    {
      "cell_type": "markdown",
      "metadata": {
        "id": "33kfMdR0RvkV"
      },
      "source": [
        "### 데이터 파악하기\n",
        "- shape, info,describe 등등을 사용하여 데이터를 파악하시오."
      ]
    },
    {
      "cell_type": "code",
      "metadata": {
        "colab": {
          "base_uri": "https://localhost:8080/"
        },
        "id": "6MnZlfcjRvkW",
        "outputId": "235f2fde-5e16-4159-b1c6-8fac2da6e244"
      },
      "source": [
        "df.shape"
      ],
      "execution_count": null,
      "outputs": [
        {
          "output_type": "execute_result",
          "data": {
            "text/plain": [
              "(178, 14)"
            ]
          },
          "metadata": {},
          "execution_count": 224
        }
      ]
    },
    {
      "cell_type": "code",
      "metadata": {
        "colab": {
          "base_uri": "https://localhost:8080/"
        },
        "id": "dxnfd2KIU3Ef",
        "outputId": "a156698b-0b5c-4602-d1a9-15a41575b47e"
      },
      "source": [
        "df.info()"
      ],
      "execution_count": null,
      "outputs": [
        {
          "output_type": "stream",
          "name": "stdout",
          "text": [
            "<class 'pandas.core.frame.DataFrame'>\n",
            "RangeIndex: 178 entries, 0 to 177\n",
            "Data columns (total 14 columns):\n",
            " #   Column                        Non-Null Count  Dtype  \n",
            "---  ------                        --------------  -----  \n",
            " 0   alcohol                       178 non-null    float64\n",
            " 1   malic_acid                    178 non-null    float64\n",
            " 2   ash                           178 non-null    float64\n",
            " 3   alcalinity_of_ash             178 non-null    float64\n",
            " 4   magnesium                     178 non-null    float64\n",
            " 5   total_phenols                 178 non-null    float64\n",
            " 6   flavanoids                    178 non-null    float64\n",
            " 7   nonflavanoid_phenols          178 non-null    float64\n",
            " 8   proanthocyanins               178 non-null    float64\n",
            " 9   color_intensity               178 non-null    float64\n",
            " 10  hue                           178 non-null    float64\n",
            " 11  od280/od315_of_diluted_wines  178 non-null    float64\n",
            " 12  proline                       178 non-null    float64\n",
            " 13  target                        178 non-null    int64  \n",
            "dtypes: float64(13), int64(1)\n",
            "memory usage: 19.6 KB\n"
          ]
        }
      ]
    },
    {
      "cell_type": "code",
      "metadata": {
        "colab": {
          "base_uri": "https://localhost:8080/",
          "height": 320
        },
        "id": "qNko9U-YU3HC",
        "outputId": "4f40f909-61c9-4cc9-8661-78d0044596aa"
      },
      "source": [
        "df.describe()"
      ],
      "execution_count": null,
      "outputs": [
        {
          "output_type": "execute_result",
          "data": {
            "text/html": [
              "<div>\n",
              "<style scoped>\n",
              "    .dataframe tbody tr th:only-of-type {\n",
              "        vertical-align: middle;\n",
              "    }\n",
              "\n",
              "    .dataframe tbody tr th {\n",
              "        vertical-align: top;\n",
              "    }\n",
              "\n",
              "    .dataframe thead th {\n",
              "        text-align: right;\n",
              "    }\n",
              "</style>\n",
              "<table border=\"1\" class=\"dataframe\">\n",
              "  <thead>\n",
              "    <tr style=\"text-align: right;\">\n",
              "      <th></th>\n",
              "      <th>alcohol</th>\n",
              "      <th>malic_acid</th>\n",
              "      <th>ash</th>\n",
              "      <th>alcalinity_of_ash</th>\n",
              "      <th>magnesium</th>\n",
              "      <th>total_phenols</th>\n",
              "      <th>flavanoids</th>\n",
              "      <th>nonflavanoid_phenols</th>\n",
              "      <th>proanthocyanins</th>\n",
              "      <th>color_intensity</th>\n",
              "      <th>hue</th>\n",
              "      <th>od280/od315_of_diluted_wines</th>\n",
              "      <th>proline</th>\n",
              "      <th>target</th>\n",
              "    </tr>\n",
              "  </thead>\n",
              "  <tbody>\n",
              "    <tr>\n",
              "      <th>count</th>\n",
              "      <td>178.000000</td>\n",
              "      <td>178.000000</td>\n",
              "      <td>178.000000</td>\n",
              "      <td>178.000000</td>\n",
              "      <td>178.000000</td>\n",
              "      <td>178.000000</td>\n",
              "      <td>178.000000</td>\n",
              "      <td>178.000000</td>\n",
              "      <td>178.000000</td>\n",
              "      <td>178.000000</td>\n",
              "      <td>178.000000</td>\n",
              "      <td>178.000000</td>\n",
              "      <td>178.000000</td>\n",
              "      <td>178.000000</td>\n",
              "    </tr>\n",
              "    <tr>\n",
              "      <th>mean</th>\n",
              "      <td>13.000618</td>\n",
              "      <td>2.336348</td>\n",
              "      <td>2.366517</td>\n",
              "      <td>19.494944</td>\n",
              "      <td>99.741573</td>\n",
              "      <td>2.295112</td>\n",
              "      <td>2.029270</td>\n",
              "      <td>0.361854</td>\n",
              "      <td>1.590899</td>\n",
              "      <td>5.058090</td>\n",
              "      <td>0.957449</td>\n",
              "      <td>2.611685</td>\n",
              "      <td>746.893258</td>\n",
              "      <td>0.938202</td>\n",
              "    </tr>\n",
              "    <tr>\n",
              "      <th>std</th>\n",
              "      <td>0.811827</td>\n",
              "      <td>1.117146</td>\n",
              "      <td>0.274344</td>\n",
              "      <td>3.339564</td>\n",
              "      <td>14.282484</td>\n",
              "      <td>0.625851</td>\n",
              "      <td>0.998859</td>\n",
              "      <td>0.124453</td>\n",
              "      <td>0.572359</td>\n",
              "      <td>2.318286</td>\n",
              "      <td>0.228572</td>\n",
              "      <td>0.709990</td>\n",
              "      <td>314.907474</td>\n",
              "      <td>0.775035</td>\n",
              "    </tr>\n",
              "    <tr>\n",
              "      <th>min</th>\n",
              "      <td>11.030000</td>\n",
              "      <td>0.740000</td>\n",
              "      <td>1.360000</td>\n",
              "      <td>10.600000</td>\n",
              "      <td>70.000000</td>\n",
              "      <td>0.980000</td>\n",
              "      <td>0.340000</td>\n",
              "      <td>0.130000</td>\n",
              "      <td>0.410000</td>\n",
              "      <td>1.280000</td>\n",
              "      <td>0.480000</td>\n",
              "      <td>1.270000</td>\n",
              "      <td>278.000000</td>\n",
              "      <td>0.000000</td>\n",
              "    </tr>\n",
              "    <tr>\n",
              "      <th>25%</th>\n",
              "      <td>12.362500</td>\n",
              "      <td>1.602500</td>\n",
              "      <td>2.210000</td>\n",
              "      <td>17.200000</td>\n",
              "      <td>88.000000</td>\n",
              "      <td>1.742500</td>\n",
              "      <td>1.205000</td>\n",
              "      <td>0.270000</td>\n",
              "      <td>1.250000</td>\n",
              "      <td>3.220000</td>\n",
              "      <td>0.782500</td>\n",
              "      <td>1.937500</td>\n",
              "      <td>500.500000</td>\n",
              "      <td>0.000000</td>\n",
              "    </tr>\n",
              "    <tr>\n",
              "      <th>50%</th>\n",
              "      <td>13.050000</td>\n",
              "      <td>1.865000</td>\n",
              "      <td>2.360000</td>\n",
              "      <td>19.500000</td>\n",
              "      <td>98.000000</td>\n",
              "      <td>2.355000</td>\n",
              "      <td>2.135000</td>\n",
              "      <td>0.340000</td>\n",
              "      <td>1.555000</td>\n",
              "      <td>4.690000</td>\n",
              "      <td>0.965000</td>\n",
              "      <td>2.780000</td>\n",
              "      <td>673.500000</td>\n",
              "      <td>1.000000</td>\n",
              "    </tr>\n",
              "    <tr>\n",
              "      <th>75%</th>\n",
              "      <td>13.677500</td>\n",
              "      <td>3.082500</td>\n",
              "      <td>2.557500</td>\n",
              "      <td>21.500000</td>\n",
              "      <td>107.000000</td>\n",
              "      <td>2.800000</td>\n",
              "      <td>2.875000</td>\n",
              "      <td>0.437500</td>\n",
              "      <td>1.950000</td>\n",
              "      <td>6.200000</td>\n",
              "      <td>1.120000</td>\n",
              "      <td>3.170000</td>\n",
              "      <td>985.000000</td>\n",
              "      <td>2.000000</td>\n",
              "    </tr>\n",
              "    <tr>\n",
              "      <th>max</th>\n",
              "      <td>14.830000</td>\n",
              "      <td>5.800000</td>\n",
              "      <td>3.230000</td>\n",
              "      <td>30.000000</td>\n",
              "      <td>162.000000</td>\n",
              "      <td>3.880000</td>\n",
              "      <td>5.080000</td>\n",
              "      <td>0.660000</td>\n",
              "      <td>3.580000</td>\n",
              "      <td>13.000000</td>\n",
              "      <td>1.710000</td>\n",
              "      <td>4.000000</td>\n",
              "      <td>1680.000000</td>\n",
              "      <td>2.000000</td>\n",
              "    </tr>\n",
              "  </tbody>\n",
              "</table>\n",
              "</div>"
            ],
            "text/plain": [
              "          alcohol  malic_acid  ...      proline      target\n",
              "count  178.000000  178.000000  ...   178.000000  178.000000\n",
              "mean    13.000618    2.336348  ...   746.893258    0.938202\n",
              "std      0.811827    1.117146  ...   314.907474    0.775035\n",
              "min     11.030000    0.740000  ...   278.000000    0.000000\n",
              "25%     12.362500    1.602500  ...   500.500000    0.000000\n",
              "50%     13.050000    1.865000  ...   673.500000    1.000000\n",
              "75%     13.677500    3.082500  ...   985.000000    2.000000\n",
              "max     14.830000    5.800000  ...  1680.000000    2.000000\n",
              "\n",
              "[8 rows x 14 columns]"
            ]
          },
          "metadata": {},
          "execution_count": 226
        }
      ]
    },
    {
      "cell_type": "code",
      "metadata": {
        "colab": {
          "base_uri": "https://localhost:8080/"
        },
        "id": "_uf-bvCmRvkW",
        "outputId": "fc0635be-0157-4d46-9ee5-28271841266d"
      },
      "source": [
        "df['target'].value_counts() # 와인의 종류는 0, 1, 2"
      ],
      "execution_count": null,
      "outputs": [
        {
          "output_type": "execute_result",
          "data": {
            "text/plain": [
              "1    71\n",
              "0    59\n",
              "2    48\n",
              "Name: target, dtype: int64"
            ]
          },
          "metadata": {},
          "execution_count": 227
        }
      ]
    },
    {
      "cell_type": "markdown",
      "metadata": {
        "id": "x1ezfy0sRvkW"
      },
      "source": [
        "### 정규분포 확인"
      ]
    },
    {
      "cell_type": "code",
      "metadata": {
        "id": "iVwyKvrNRvkW"
      },
      "source": [
        "#특징 데이터 목록\n",
        "\n",
        "# 알콜(Alcohol)\n",
        "\n",
        "# 말산(Malic acid)\n",
        "\n",
        "# 회분(Ash)\n",
        "\n",
        "# 회분의 알칼리도(Alcalinity of ash)\n",
        "\n",
        "# 마그네슘(Magnesium)\n",
        "\n",
        "# 총 폴리페놀(Total phenols)\n",
        "\n",
        "# 플라보노이드 폴리페놀(Flavanoids)\n",
        "\n",
        "# 비 플라보노이드 폴리페놀(Nonflavanoid phenols)\n",
        "\n",
        "# 프로안토시아닌(Proanthocyanins)\n",
        "\n",
        "# 색상의 강도(Color intensity)\n",
        "\n",
        "# 색상(Hue)\n",
        "\n",
        "# 희석 와인의 OD280/OD315 비율 (OD280/OD315 of diluted wines)\n",
        "\n",
        "# 프롤린(Proline)"
      ],
      "execution_count": null,
      "outputs": []
    },
    {
      "cell_type": "markdown",
      "metadata": {
        "id": "XZ4rv8YaRvkX"
      },
      "source": [
        "### 아래의 그래프를 보고  \n",
        "정규 분포를 만족하는 예측 변수들을 선택해서 데이터 프레임(new_df)을 만드시오."
      ]
    },
    {
      "cell_type": "code",
      "metadata": {
        "colab": {
          "base_uri": "https://localhost:8080/",
          "height": 1000
        },
        "id": "t4HZlFa4RvkX",
        "outputId": "56658b4c-72db-4500-fc0b-36652a8455b0"
      },
      "source": [
        "import matplotlib.pyplot as plt\n",
        "for i in dataset.feature_names:\n",
        "    fig, ax = plt.subplots(3)\n",
        "    plt.subplots_adjust(wspace=0.5, hspace=1)\n",
        "    \n",
        "    df[df.target==0][i].plot(kind='hist', ax=ax[0])\n",
        "    df[df.target==0][i].plot(kind='kde', ax=ax[0],\n",
        "                                secondary_y=True,\n",
        "                                title='{0},target=0'.format(i),\n",
        "                                figsize=(8,4))\n",
        "\n",
        "    df[df.target==1][i].plot(kind='hist', ax=ax[1])\n",
        "    df[df.target==1][i].plot(kind='kde', ax=ax[1],\n",
        "                                secondary_y=True,\n",
        "                                title='{0},target=1'.format(i),\n",
        "                                figsize=(8,4))\n",
        "\n",
        "    df[df.target==2][i].plot(kind='hist', ax=ax[2])\n",
        "    df[df.target==2][i].plot(kind='kde', ax=ax[2],\n",
        "                                secondary_y=True,\n",
        "                                title='{0},target=2'.format(i),\n",
        "                                figsize=(8,4))\n",
        "    plt.show()\n",
        "    print('\\n')"
      ],
      "execution_count": null,
      "outputs": [
        {
          "output_type": "display_data",
          "data": {
            "image/png": "[encoded data removed]",
            "text/plain": [
              "<Figure size 576x288 with 6 Axes>"
            ]
          },
          "metadata": {
            "needs_background": "light"
          }
        },
        {
          "output_type": "stream",
          "name": "stdout",
          "text": [
            "\n",
            "\n"
          ]
        },
        {
          "output_type": "display_data",
          "data": {
            "image/png": "[encoded data removed]",
            "text/plain": [
              "<Figure size 576x288 with 6 Axes>"
            ]
          },
          "metadata": {
            "needs_background": "light"
          }
        },
        {
          "output_type": "stream",
          "name": "stdout",
          "text": [
            "\n",
            "\n"
          ]
        },
        {
          "output_type": "display_data",
          "data": {
            "image/png": "[encoded data removed]",
            "text/plain": [
              "<Figure size 576x288 with 6 Axes>"
            ]
          },
          "metadata": {
            "needs_background": "light"
          }
        },
        {
          "output_type": "stream",
          "name": "stdout",
          "text": [
            "\n",
            "\n"
          ]
        },
        {
          "output_type": "display_data",
          "data": {
            "image/png": "[encoded data removed]",
            "text/plain": [
              "<Figure size 576x288 with 6 Axes>"
            ]
          },
          "metadata": {
            "needs_background": "light"
          }
        },
        {
          "output_type": "stream",
          "name": "stdout",
          "text": [
            "\n",
            "\n"
          ]
        },
        {
          "output_type": "display_data",
          "data": {
            "image/png": "[encoded data removed]",
            "text/plain": [
              "<Figure size 576x288 with 6 Axes>"
            ]
          },
          "metadata": {
            "needs_background": "light"
          }
        },
        {
          "output_type": "stream",
          "name": "stdout",
          "text": [
            "\n",
            "\n"
          ]
        },
        {
          "output_type": "display_data",
          "data": {
            "image/png": "[encoded data removed]",
            "text/plain": [
              "<Figure size 576x288 with 6 Axes>"
            ]
          },
          "metadata": {
            "needs_background": "light"
          }
        },
        {
          "output_type": "stream",
          "name": "stdout",
          "text": [
            "\n",
            "\n"
          ]
        },
        {
          "output_type": "display_data",
          "data": {
            "image/png": "[encoded data removed]",
            "text/plain": [
              "<Figure size 576x288 with 6 Axes>"
            ]
          },
          "metadata": {
            "needs_background": "light"
          }
        },
        {
          "output_type": "stream",
          "name": "stdout",
          "text": [
            "\n",
            "\n"
          ]
        },
        {
          "output_type": "display_data",
          "data": {
            "image/png": "[encoded data removed]",
            "text/plain": [
              "<Figure size 576x288 with 6 Axes>"
            ]
          },
          "metadata": {
            "needs_background": "light"
          }
        },
        {
          "output_type": "stream",
          "name": "stdout",
          "text": [
            "\n",
            "\n"
          ]
        },
        {
          "output_type": "display_data",
          "data": {
            "image/png": "[encoded data removed]",
            "text/plain": [
              "<Figure size 576x288 with 6 Axes>"
            ]
          },
          "metadata": {
            "needs_background": "light"
          }
        },
        {
          "output_type": "stream",
          "name": "stdout",
          "text": [
            "\n",
            "\n"
          ]
        },
        {
          "output_type": "display_data",
          "data": {
            "image/png": "[encoded data removed]",
            "text/plain": [
              "<Figure size 576x288 with 6 Axes>"
            ]
          },
          "metadata": {
            "needs_background": "light"
          }
        },
        {
          "output_type": "stream",
          "name": "stdout",
          "text": [
            "\n",
            "\n"
          ]
        },
        {
          "output_type": "display_data",
          "data": {
            "image/png": "[encoded data removed]",
            "text/plain": [
              "<Figure size 576x288 with 6 Axes>"
            ]
          },
          "metadata": {
            "needs_background": "light"
          }
        },
        {
          "output_type": "stream",
          "name": "stdout",
          "text": [
            "\n",
            "\n"
          ]
        },
        {
          "output_type": "display_data",
          "data": {
            "image/png": "[encoded data removed]",
            "text/plain": [
              "<Figure size 576x288 with 6 Axes>"
            ]
          },
          "metadata": {
            "needs_background": "light"
          }
        },
        {
          "output_type": "stream",
          "name": "stdout",
          "text": [
            "\n",
            "\n"
          ]
        },
        {
          "output_type": "display_data",
          "data": {
            "image/png": "[encoded data removed]",
            "text/plain": [
              "<Figure size 576x288 with 6 Axes>"
            ]
          },
          "metadata": {
            "needs_background": "light"
          }
        },
        {
          "output_type": "stream",
          "name": "stdout",
          "text": [
            "\n",
            "\n"
          ]
        }
      ]
    },
    {
      "cell_type": "code",
      "metadata": {
        "id": "hv40fqV0RvkY"
      },
      "source": [
        "# 컬럼 선택은 사람마다 다를 수 있습니다.\n",
        "new_df = df[['alcohol','malic_acid','ash','target']]"
      ],
      "execution_count": null,
      "outputs": []
    },
    {
      "cell_type": "code",
      "metadata": {
        "colab": {
          "base_uri": "https://localhost:8080/",
          "height": 206
        },
        "id": "iW67V3ptRvkY",
        "outputId": "ef8047fb-9c44-4b85-a15d-63f1111c7d23"
      },
      "source": [
        "new_df.head()"
      ],
      "execution_count": null,
      "outputs": [
        {
          "output_type": "execute_result",
          "data": {
            "text/html": [
              "<div>\n",
              "<style scoped>\n",
              "    .dataframe tbody tr th:only-of-type {\n",
              "        vertical-align: middle;\n",
              "    }\n",
              "\n",
              "    .dataframe tbody tr th {\n",
              "        vertical-align: top;\n",
              "    }\n",
              "\n",
              "    .dataframe thead th {\n",
              "        text-align: right;\n",
              "    }\n",
              "</style>\n",
              "<table border=\"1\" class=\"dataframe\">\n",
              "  <thead>\n",
              "    <tr style=\"text-align: right;\">\n",
              "      <th></th>\n",
              "      <th>alcohol</th>\n",
              "      <th>malic_acid</th>\n",
              "      <th>ash</th>\n",
              "      <th>target</th>\n",
              "    </tr>\n",
              "  </thead>\n",
              "  <tbody>\n",
              "    <tr>\n",
              "      <th>0</th>\n",
              "      <td>14.23</td>\n",
              "      <td>1.71</td>\n",
              "      <td>2.43</td>\n",
              "      <td>0</td>\n",
              "    </tr>\n",
              "    <tr>\n",
              "      <th>1</th>\n",
              "      <td>13.20</td>\n",
              "      <td>1.78</td>\n",
              "      <td>2.14</td>\n",
              "      <td>0</td>\n",
              "    </tr>\n",
              "    <tr>\n",
              "      <th>2</th>\n",
              "      <td>13.16</td>\n",
              "      <td>2.36</td>\n",
              "      <td>2.67</td>\n",
              "      <td>0</td>\n",
              "    </tr>\n",
              "    <tr>\n",
              "      <th>3</th>\n",
              "      <td>14.37</td>\n",
              "      <td>1.95</td>\n",
              "      <td>2.50</td>\n",
              "      <td>0</td>\n",
              "    </tr>\n",
              "    <tr>\n",
              "      <th>4</th>\n",
              "      <td>13.24</td>\n",
              "      <td>2.59</td>\n",
              "      <td>2.87</td>\n",
              "      <td>0</td>\n",
              "    </tr>\n",
              "  </tbody>\n",
              "</table>\n",
              "</div>"
            ],
            "text/plain": [
              "   alcohol  malic_acid   ash  target\n",
              "0    14.23        1.71  2.43       0\n",
              "1    13.20        1.78  2.14       0\n",
              "2    13.16        2.36  2.67       0\n",
              "3    14.37        1.95  2.50       0\n",
              "4    13.24        2.59  2.87       0"
            ]
          },
          "metadata": {},
          "execution_count": 231
        }
      ]
    },
    {
      "cell_type": "markdown",
      "metadata": {
        "id": "Wvz-xweGRvkY"
      },
      "source": [
        "### 데이터 분리(test_size=0.3, random_state=10)"
      ]
    },
    {
      "cell_type": "code",
      "metadata": {
        "id": "GpiaMbEfRvkY"
      },
      "source": [
        "from sklearn.model_selection import train_test_split\n",
        "x_train, x_test, y_train, y_test = train_test_split(new_df.drop(['target'], axis=1), new_df['target'],\n",
        "                                                    test_size=0.3, random_state=10)"
      ],
      "execution_count": null,
      "outputs": []
    },
    {
      "cell_type": "markdown",
      "metadata": {
        "id": "Iw3CyV50RvkY"
      },
      "source": [
        "### 가우시안 나이브 베이즈 모델로 와인을 분류하고 테스트 데이터의 분류 정확도를 구하시오"
      ]
    },
    {
      "cell_type": "code",
      "metadata": {
        "colab": {
          "base_uri": "https://localhost:8080/"
        },
        "id": "iCJ4uyHMRvkZ",
        "outputId": "aac7efea-6ddc-4128-97f4-1b453267acb7"
      },
      "source": [
        "gnb = GaussianNB()\n",
        "gnb.fit(x_train, y_train)\n",
        "\n",
        "y_predict = gnb.predict(x_test) \n",
        "score = metrics.accuracy_score(y_test,y_predict)\n",
        "print(score)"
      ],
      "execution_count": null,
      "outputs": [
        {
          "output_type": "stream",
          "name": "stdout",
          "text": [
            "0.7777777777777778\n"
          ]
        }
      ]
    },
    {
      "cell_type": "markdown",
      "metadata": {
        "id": "r1QnfKT4RvkZ"
      },
      "source": [
        "### confusion_matrix 그래프로 결과를 확인하시오"
      ]
    },
    {
      "cell_type": "code",
      "metadata": {
        "colab": {
          "base_uri": "https://localhost:8080/",
          "height": 302
        },
        "id": "2srcpJsvRvkZ",
        "outputId": "68eef388-7fc2-44c3-d3f0-28d3b38bf2ae"
      },
      "source": [
        "from sklearn.metrics import ConfusionMatrixDisplay\n",
        "cm = metrics.confusion_matrix(y_test,y_predict)\n",
        "ConfusionMatrixDisplay(cm, display_labels=dataset.target_names).plot()"
      ],
      "execution_count": null,
      "outputs": [
        {
          "output_type": "execute_result",
          "data": {
            "text/plain": [
              "<sklearn.metrics._plot.confusion_matrix.ConfusionMatrixDisplay at 0x7f5faf2cf5d0>"
            ]
          },
          "metadata": {},
          "execution_count": 234
        },
        {
          "output_type": "display_data",
          "data": {
            "image/png": "[encoded data removed]",
            "text/plain": [
              "<Figure size 432x288 with 2 Axes>"
            ]
          },
          "metadata": {
            "needs_background": "light"
          }
        }
      ]
    },
    {
      "cell_type": "markdown",
      "metadata": {
        "id": "qo5mi2WoRvka"
      },
      "source": [
        "### 최적의 var_smoothing 값 을 찾으시오 (cv= 5)"
      ]
    },
    {
      "cell_type": "code",
      "metadata": {
        "colab": {
          "base_uri": "https://localhost:8080/"
        },
        "id": "_MVIQm-MRvka",
        "outputId": "dcd06b02-5c5e-47d1-ba10-54ad72ceef0e"
      },
      "source": [
        "params_gnb = {'var_smoothing': [1, 0.5, 0.1,0.01, 0.001,0.0001,0.00001,0.000001, 0.0000001,0.00000001,0.000000001]}\n",
        "\n",
        "from sklearn.model_selection import GridSearchCV\n",
        "grid = GridSearchCV(GaussianNB(), param_grid=params_gnb,\n",
        "                    cv=5)\n",
        "grid.fit(x_train, y_train)"
      ],
      "execution_count": null,
      "outputs": [
        {
          "output_type": "execute_result",
          "data": {
            "text/plain": [
              "GridSearchCV(cv=5, estimator=GaussianNB(),\n",
              "             param_grid={'var_smoothing': [1, 0.5, 0.1, 0.01, 0.001, 0.0001,\n",
              "                                           1e-05, 1e-06, 1e-07, 1e-08, 1e-09]})"
            ]
          },
          "metadata": {},
          "execution_count": 235
        }
      ]
    },
    {
      "cell_type": "code",
      "metadata": {
        "colab": {
          "base_uri": "https://localhost:8080/"
        },
        "id": "8URepcmqRvka",
        "outputId": "708c6f5e-ef8a-45f4-843a-e91c45ba95e0"
      },
      "source": [
        "print(grid.best_estimator_)\n",
        "print(grid.best_score_)"
      ],
      "execution_count": null,
      "outputs": [
        {
          "output_type": "stream",
          "name": "stdout",
          "text": [
            "GaussianNB(var_smoothing=0.1)\n",
            "0.8143333333333335\n"
          ]
        }
      ]
    },
    {
      "cell_type": "code",
      "metadata": {
        "colab": {
          "base_uri": "https://localhost:8080/"
        },
        "id": "tS7IsCiZRvkb",
        "outputId": "75f511db-7932-4a5c-9b6a-7d51da2f288c"
      },
      "source": [
        "pred = grid.predict(x_test)\n",
        "print(metrics.classification_report(y_test, pred))"
      ],
      "execution_count": null,
      "outputs": [
        {
          "output_type": "stream",
          "name": "stdout",
          "text": [
            "              precision    recall  f1-score   support\n",
            "\n",
            "           0       0.79      0.73      0.76        15\n",
            "           1       0.89      0.93      0.91        27\n",
            "           2       0.58      0.58      0.58        12\n",
            "\n",
            "    accuracy                           0.80        54\n",
            "   macro avg       0.75      0.75      0.75        54\n",
            "weighted avg       0.79      0.80      0.79        54\n",
            "\n"
          ]
        }
      ]
    },
    {
      "cell_type": "markdown",
      "metadata": {
        "id": "xSiqvwsbRvkb"
      },
      "source": [
        "# 4."
      ]
    },
    {
      "cell_type": "markdown",
      "metadata": {
        "id": "JElABmJORvkb"
      },
      "source": [
        "### 데이터 불러오기"
      ]
    },
    {
      "cell_type": "markdown",
      "metadata": {
        "id": "xImwAUQdRvkb"
      },
      "source": [
        "'spam' 데이터를 data로 불러오고, 해당하는 코드를 실행해 데이터를 살펴봅니다"
      ]
    },
    {
      "cell_type": "code",
      "metadata": {
        "id": "hCd00aIuRvkb"
      },
      "source": [
        "import pandas as pd\n",
        "import numpy as np\n",
        "from sklearn.model_selection import train_test_split\n",
        "from sklearn.feature_extraction.text import CountVectorizer\n",
        "from sklearn.naive_bayes import BernoulliNB \n",
        "from sklearn.metrics import accuracy_score\n",
        "\n",
        "data = pd.read_csv(\"/content/spam.csv\", engine='python')"
      ],
      "execution_count": null,
      "outputs": []
    },
    {
      "cell_type": "code",
      "metadata": {
        "colab": {
          "base_uri": "https://localhost:8080/",
          "height": 206
        },
        "id": "x9RnAtQGRvkc",
        "outputId": "1a0edf09-be80-4f24-eb02-51c002b48a3c"
      },
      "source": [
        "#head\n",
        "data.head()"
      ],
      "execution_count": null,
      "outputs": [
        {
          "output_type": "execute_result",
          "data": {
            "text/html": [
              "<div>\n",
              "<style scoped>\n",
              "    .dataframe tbody tr th:only-of-type {\n",
              "        vertical-align: middle;\n",
              "    }\n",
              "\n",
              "    .dataframe tbody tr th {\n",
              "        vertical-align: top;\n",
              "    }\n",
              "\n",
              "    .dataframe thead th {\n",
              "        text-align: right;\n",
              "    }\n",
              "</style>\n",
              "<table border=\"1\" class=\"dataframe\">\n",
              "  <thead>\n",
              "    <tr style=\"text-align: right;\">\n",
              "      <th></th>\n",
              "      <th>v1</th>\n",
              "      <th>v2</th>\n",
              "      <th>Unnamed: 2</th>\n",
              "      <th>Unnamed: 3</th>\n",
              "      <th>Unnamed: 4</th>\n",
              "    </tr>\n",
              "  </thead>\n",
              "  <tbody>\n",
              "    <tr>\n",
              "      <th>0</th>\n",
              "      <td>ham</td>\n",
              "      <td>Go until jurong point, crazy.. Available only ...</td>\n",
              "      <td>NaN</td>\n",
              "      <td>NaN</td>\n",
              "      <td>NaN</td>\n",
              "    </tr>\n",
              "    <tr>\n",
              "      <th>1</th>\n",
              "      <td>ham</td>\n",
              "      <td>Ok lar... Joking wif u oni...</td>\n",
              "      <td>NaN</td>\n",
              "      <td>NaN</td>\n",
              "      <td>NaN</td>\n",
              "    </tr>\n",
              "    <tr>\n",
              "      <th>2</th>\n",
              "      <td>spam</td>\n",
              "      <td>Free entry in 2 a wkly comp to win FA Cup fina...</td>\n",
              "      <td>NaN</td>\n",
              "      <td>NaN</td>\n",
              "      <td>NaN</td>\n",
              "    </tr>\n",
              "    <tr>\n",
              "      <th>3</th>\n",
              "      <td>ham</td>\n",
              "      <td>U dun say so early hor... U c already then say...</td>\n",
              "      <td>NaN</td>\n",
              "      <td>NaN</td>\n",
              "      <td>NaN</td>\n",
              "    </tr>\n",
              "    <tr>\n",
              "      <th>4</th>\n",
              "      <td>ham</td>\n",
              "      <td>Nah I don't think he goes to usf, he lives aro...</td>\n",
              "      <td>NaN</td>\n",
              "      <td>NaN</td>\n",
              "      <td>NaN</td>\n",
              "    </tr>\n",
              "  </tbody>\n",
              "</table>\n",
              "</div>"
            ],
            "text/plain": [
              "     v1  ... Unnamed: 4\n",
              "0   ham  ...        NaN\n",
              "1   ham  ...        NaN\n",
              "2  spam  ...        NaN\n",
              "3   ham  ...        NaN\n",
              "4   ham  ...        NaN\n",
              "\n",
              "[5 rows x 5 columns]"
            ]
          },
          "metadata": {},
          "execution_count": 239
        }
      ]
    },
    {
      "cell_type": "code",
      "metadata": {
        "colab": {
          "base_uri": "https://localhost:8080/"
        },
        "id": "T1Pfv9uHRvkc",
        "outputId": "247da222-0c33-45a3-e2a2-6b68042c8757"
      },
      "source": [
        "#info\n",
        "data.info"
      ],
      "execution_count": null,
      "outputs": [
        {
          "output_type": "execute_result",
          "data": {
            "text/plain": [
              "<bound method DataFrame.info of         v1  ... Unnamed: 4\n",
              "0      ham  ...        NaN\n",
              "1      ham  ...        NaN\n",
              "2     spam  ...        NaN\n",
              "3      ham  ...        NaN\n",
              "4      ham  ...        NaN\n",
              "...    ...  ...        ...\n",
              "5567  spam  ...        NaN\n",
              "5568   ham  ...        NaN\n",
              "5569   ham  ...        NaN\n",
              "5570   ham  ...        NaN\n",
              "5571   ham  ...        NaN\n",
              "\n",
              "[5572 rows x 5 columns]>"
            ]
          },
          "metadata": {},
          "execution_count": 240
        }
      ]
    },
    {
      "cell_type": "code",
      "metadata": {
        "colab": {
          "base_uri": "https://localhost:8080/"
        },
        "id": "0O6sgtyBRvkc",
        "outputId": "4d42e41a-3afa-4346-c72c-ba2902f59a06"
      },
      "source": [
        "#isna\n",
        "data.isna"
      ],
      "execution_count": null,
      "outputs": [
        {
          "output_type": "execute_result",
          "data": {
            "text/plain": [
              "<bound method DataFrame.isna of         v1  ... Unnamed: 4\n",
              "0      ham  ...        NaN\n",
              "1      ham  ...        NaN\n",
              "2     spam  ...        NaN\n",
              "3      ham  ...        NaN\n",
              "4      ham  ...        NaN\n",
              "...    ...  ...        ...\n",
              "5567  spam  ...        NaN\n",
              "5568   ham  ...        NaN\n",
              "5569   ham  ...        NaN\n",
              "5570   ham  ...        NaN\n",
              "5571   ham  ...        NaN\n",
              "\n",
              "[5572 rows x 5 columns]>"
            ]
          },
          "metadata": {},
          "execution_count": 241
        }
      ]
    },
    {
      "cell_type": "markdown",
      "metadata": {
        "id": "-iQncr5aRvkc"
      },
      "source": [
        "### 데이터 전처리\n",
        "데이터 처리 과정에서 가급적 inplace=True를 사용해주세요!(copy 데이터를 만드셔도 됩니다)"
      ]
    },
    {
      "cell_type": "markdown",
      "metadata": {
        "id": "yd3AT84-Rvkc"
      },
      "source": [
        "#### 1) data에서 'Unnamed:2', 'Unnamed:3', 'Unnamed:4'열을 제거 후, 'ham'은 0으로, 'spam'은 1로 변환하세요."
      ]
    },
    {
      "cell_type": "code",
      "metadata": {
        "id": "F7SDGgXWRvkc"
      },
      "source": [
        "data.drop(columns=['Unnamed: 2', 'Unnamed: 3', 'Unnamed: 4'],inplace=True)\n",
        "data = data.replace('ham', '0')\n",
        "data = data.replace('spam', '1')"
      ],
      "execution_count": null,
      "outputs": []
    },
    {
      "cell_type": "markdown",
      "metadata": {
        "id": "ETqJUVkYRvkc"
      },
      "source": [
        "#### 2) 아래 빈 칸을 채워, 수정한 data에서 중복된 데이터가 있는지 확인하고, 만약 있다면 제거해주세요(hint: nunique())"
      ]
    },
    {
      "cell_type": "code",
      "metadata": {
        "colab": {
          "base_uri": "https://localhost:8080/"
        },
        "id": "g_tBfo0NRvkc",
        "outputId": "edd50387-6337-4292-c0e2-115adc4c9423"
      },
      "source": [
        "print('v2열의 유니크한 값 :',data['v2'].nunique())"
      ],
      "execution_count": null,
      "outputs": [
        {
          "output_type": "stream",
          "name": "stdout",
          "text": [
            "v2열의 유니크한 값 : 5169\n"
          ]
        }
      ]
    },
    {
      "cell_type": "code",
      "metadata": {
        "id": "K_ZFrMdHRvkd"
      },
      "source": [
        "data = data.drop_duplicates(['v2'])"
      ],
      "execution_count": null,
      "outputs": []
    },
    {
      "cell_type": "code",
      "metadata": {
        "colab": {
          "base_uri": "https://localhost:8080/",
          "height": 423
        },
        "id": "d1w_vUxbcpwA",
        "outputId": "52f5e11f-b725-46c5-85a4-3dd45f604c1d"
      },
      "source": [
        "data"
      ],
      "execution_count": null,
      "outputs": [
        {
          "output_type": "execute_result",
          "data": {
            "text/html": [
              "<div>\n",
              "<style scoped>\n",
              "    .dataframe tbody tr th:only-of-type {\n",
              "        vertical-align: middle;\n",
              "    }\n",
              "\n",
              "    .dataframe tbody tr th {\n",
              "        vertical-align: top;\n",
              "    }\n",
              "\n",
              "    .dataframe thead th {\n",
              "        text-align: right;\n",
              "    }\n",
              "</style>\n",
              "<table border=\"1\" class=\"dataframe\">\n",
              "  <thead>\n",
              "    <tr style=\"text-align: right;\">\n",
              "      <th></th>\n",
              "      <th>v1</th>\n",
              "      <th>v2</th>\n",
              "    </tr>\n",
              "  </thead>\n",
              "  <tbody>\n",
              "    <tr>\n",
              "      <th>0</th>\n",
              "      <td>0</td>\n",
              "      <td>Go until jurong point, crazy.. Available only ...</td>\n",
              "    </tr>\n",
              "    <tr>\n",
              "      <th>1</th>\n",
              "      <td>0</td>\n",
              "      <td>Ok lar... Joking wif u oni...</td>\n",
              "    </tr>\n",
              "    <tr>\n",
              "      <th>2</th>\n",
              "      <td>1</td>\n",
              "      <td>Free entry in 2 a wkly comp to win FA Cup fina...</td>\n",
              "    </tr>\n",
              "    <tr>\n",
              "      <th>3</th>\n",
              "      <td>0</td>\n",
              "      <td>U dun say so early hor... U c already then say...</td>\n",
              "    </tr>\n",
              "    <tr>\n",
              "      <th>4</th>\n",
              "      <td>0</td>\n",
              "      <td>Nah I don't think he goes to usf, he lives aro...</td>\n",
              "    </tr>\n",
              "    <tr>\n",
              "      <th>...</th>\n",
              "      <td>...</td>\n",
              "      <td>...</td>\n",
              "    </tr>\n",
              "    <tr>\n",
              "      <th>5567</th>\n",
              "      <td>1</td>\n",
              "      <td>This is the 2nd time we have tried 2 contact u...</td>\n",
              "    </tr>\n",
              "    <tr>\n",
              "      <th>5568</th>\n",
              "      <td>0</td>\n",
              "      <td>Will ? b going to esplanade fr home?</td>\n",
              "    </tr>\n",
              "    <tr>\n",
              "      <th>5569</th>\n",
              "      <td>0</td>\n",
              "      <td>Pity, * was in mood for that. So...any other s...</td>\n",
              "    </tr>\n",
              "    <tr>\n",
              "      <th>5570</th>\n",
              "      <td>0</td>\n",
              "      <td>The guy did some bitching but I acted like i'd...</td>\n",
              "    </tr>\n",
              "    <tr>\n",
              "      <th>5571</th>\n",
              "      <td>0</td>\n",
              "      <td>Rofl. Its true to its name</td>\n",
              "    </tr>\n",
              "  </tbody>\n",
              "</table>\n",
              "<p>5169 rows × 2 columns</p>\n",
              "</div>"
            ],
            "text/plain": [
              "     v1                                                 v2\n",
              "0     0  Go until jurong point, crazy.. Available only ...\n",
              "1     0                      Ok lar... Joking wif u oni...\n",
              "2     1  Free entry in 2 a wkly comp to win FA Cup fina...\n",
              "3     0  U dun say so early hor... U c already then say...\n",
              "4     0  Nah I don't think he goes to usf, he lives aro...\n",
              "...  ..                                                ...\n",
              "5567  1  This is the 2nd time we have tried 2 contact u...\n",
              "5568  0               Will ? b going to esplanade fr home?\n",
              "5569  0  Pity, * was in mood for that. So...any other s...\n",
              "5570  0  The guy did some bitching but I acted like i'd...\n",
              "5571  0                         Rofl. Its true to its name\n",
              "\n",
              "[5169 rows x 2 columns]"
            ]
          },
          "metadata": {},
          "execution_count": 245
        }
      ]
    },
    {
      "cell_type": "markdown",
      "metadata": {
        "id": "kkZTRX_aRvkd"
      },
      "source": [
        "#### 3) 변수 별 barplot을 통해 데이터 분포를 살펴보세요(hint: value_counts, plot(kind='bar'))"
      ]
    },
    {
      "cell_type": "code",
      "metadata": {
        "colab": {
          "base_uri": "https://localhost:8080/"
        },
        "id": "kFsGP80uRvkd",
        "outputId": "c4d841be-04ea-40fd-f54f-81bd5270bc3e"
      },
      "source": [
        "data['v1'].value_counts()"
      ],
      "execution_count": null,
      "outputs": [
        {
          "output_type": "execute_result",
          "data": {
            "text/plain": [
              "0    4516\n",
              "1     653\n",
              "Name: v1, dtype: int64"
            ]
          },
          "metadata": {},
          "execution_count": 246
        }
      ]
    },
    {
      "cell_type": "code",
      "metadata": {
        "colab": {
          "base_uri": "https://localhost:8080/"
        },
        "id": "Io9vUAbJdtue",
        "outputId": "08c99902-952f-4363-acc1-d759ddb69dae"
      },
      "source": [
        "data['v2'].value_counts()"
      ],
      "execution_count": null,
      "outputs": [
        {
          "output_type": "execute_result",
          "data": {
            "text/plain": [
              "Rose needs water, season needs change, poet needs imagination..My phone needs ur sms and i need ur lovely frndship forever....                                                                          1\n",
              "Our brand new mobile music service is now live. The free music player will arrive shortly. Just install on your phone to browse content from the top artists.                                           1\n",
              "Like a personal sized or what                                                                                                                                                                           1\n",
              "Is xy in ur car when u picking me up?                                                                                                                                                                   1\n",
              "Even i cant close my eyes you are in me our vava playing umma :-D                                                                                                                                       1\n",
              "                                                                                                                                                                                                       ..\n",
              "I've been searching for the right words to thank you for this breather. I promise i wont take your help for granted and will fulfil my promise. You have been wonderful and a blessing at all times.    1\n",
              "K..k.:)congratulation ..                                                                                                                                                                                1\n",
              "Or i go home first lar ? wait 4 me lor.. I put down my stuff first..                                                                                                                                    1\n",
              "25p 4 alfie Moon's Children in need song on ur mob. Tell ur m8s. Txt Tone charity to 8007 for Nokias or Poly charity for polys: zed 08701417012 profit 2 charity.                                       1\n",
              "Now got tv 2 watch meh? U no work today?                                                                                                                                                                1\n",
              "Name: v2, Length: 5169, dtype: int64"
            ]
          },
          "metadata": {},
          "execution_count": 247
        }
      ]
    },
    {
      "cell_type": "markdown",
      "metadata": {
        "id": "SVokjfBoRvkd"
      },
      "source": [
        "#### 4) 아래 코드를 수정실행해 정상 메일과 스팸 메일의 개수를 확인해보세요"
      ]
    },
    {
      "cell_type": "code",
      "metadata": {
        "colab": {
          "base_uri": "https://localhost:8080/"
        },
        "id": "Ol-9s9l_Rvkd",
        "outputId": "d1d28d84-dd6d-4d9d-b111-8b5e1f542c22"
      },
      "source": [
        "print('정상 메일과 스팸 메일의 개수')\n",
        "print(data.groupby('v1').size().reset_index(name='count'))"
      ],
      "execution_count": null,
      "outputs": [
        {
          "output_type": "stream",
          "name": "stdout",
          "text": [
            "정상 메일과 스팸 메일의 개수\n",
            "  v1  count\n",
            "0  0   4516\n",
            "1  1    653\n"
          ]
        }
      ]
    },
    {
      "cell_type": "markdown",
      "metadata": {
        "id": "YJ7oxYATRvkd"
      },
      "source": [
        "#### 5) 스팸여부(v1)와 메일 이름(v2) 컬럼을 각각 y_data, X_data에 저장하고, 아래 코드를 실행하세요"
      ]
    },
    {
      "cell_type": "code",
      "metadata": {
        "colab": {
          "base_uri": "https://localhost:8080/"
        },
        "id": "NFvf0hj3Rvkd",
        "outputId": "315a4d7f-a120-480f-bb69-70b6b3558300"
      },
      "source": [
        "X_data = data['v2']\n",
        "y_data = data['v1']\n",
        "print('메일 본문의 개수: {}'.format(len(X_data)))\n",
        "print('레이블의 개수: {}'.format(len(y_data)))"
      ],
      "execution_count": null,
      "outputs": [
        {
          "output_type": "stream",
          "name": "stdout",
          "text": [
            "메일 본문의 개수: 5169\n",
            "레이블의 개수: 5169\n"
          ]
        }
      ]
    },
    {
      "cell_type": "markdown",
      "metadata": {
        "id": "eFQ39PRXRvke"
      },
      "source": [
        "#### 6) X_data, y_data를 sklearn을 활용하여 train셋: test셋 = 8:2 비율, random_state = 0으로 지정하세요. \n",
        "X_train, X_test, y_train, y_test로 분리하세요."
      ]
    },
    {
      "cell_type": "code",
      "metadata": {
        "id": "KedMu9HRRvke"
      },
      "source": [
        "from sklearn.model_selection import train_test_split\n",
        "X_train, X_test, y_train, y_test = train_test_split(data['v2'], data['v1'],\n",
        "                                                    test_size=0.2, random_state=0)"
      ],
      "execution_count": null,
      "outputs": []
    },
    {
      "cell_type": "markdown",
      "metadata": {
        "id": "AF9tFUO6Rvke"
      },
      "source": [
        "#### 7) 위에서 분리한 데이터에 대해 아래 코드를 실행해 테스트 데이터가 고르게 분배되었는지 확인합니다.\n",
        "(빈칸을 채워주세요! hint: value_counts, len)"
      ]
    },
    {
      "cell_type": "code",
      "metadata": {
        "colab": {
          "base_uri": "https://localhost:8080/"
        },
        "id": "f5OTtO4VesfH",
        "outputId": "4f68db50-f912-43ff-aad4-e0a3a2900c57"
      },
      "source": [
        "y_train.value_counts()"
      ],
      "execution_count": null,
      "outputs": [
        {
          "output_type": "execute_result",
          "data": {
            "text/plain": [
              "0    3631\n",
              "1     504\n",
              "Name: v1, dtype: int64"
            ]
          },
          "metadata": {},
          "execution_count": 251
        }
      ]
    },
    {
      "cell_type": "code",
      "metadata": {
        "colab": {
          "base_uri": "https://localhost:8080/"
        },
        "id": "1vwlpB2Wfdka",
        "outputId": "3dc3f4d1-28fc-44f3-c6c7-821da327a0aa"
      },
      "source": [
        "y_test.value_counts()"
      ],
      "execution_count": null,
      "outputs": [
        {
          "output_type": "execute_result",
          "data": {
            "text/plain": [
              "0    885\n",
              "1    149\n",
              "Name: v1, dtype: int64"
            ]
          },
          "metadata": {},
          "execution_count": 252
        }
      ]
    },
    {
      "cell_type": "code",
      "metadata": {
        "colab": {
          "base_uri": "https://localhost:8080/"
        },
        "id": "25gZ1ldoRvke",
        "outputId": "9fdfa784-fa63-42ff-9b94-621387ab312f"
      },
      "source": [
        "print('--------훈련 데이터의 비율-----------')\n",
        "print(f'정상 메일 = {round( 3631   /len(y_train),3)}%')\n",
        "print(f'스팸 메일 = {round(  504   /len(y_train),3)}%')\n",
        "\n",
        "print('--------테스트 데이터의 비율-----------')\n",
        "print(f'정상 메일 = {round(   885  /   len(y_test)  ,3)}%')\n",
        "print(f'스팸 메일 = {round(  149   /  len(y_test)   ,3)}%')"
      ],
      "execution_count": null,
      "outputs": [
        {
          "output_type": "stream",
          "name": "stdout",
          "text": [
            "--------훈련 데이터의 비율-----------\n",
            "정상 메일 = 0.878%\n",
            "스팸 메일 = 0.122%\n",
            "--------테스트 데이터의 비율-----------\n",
            "정상 메일 = 0.856%\n",
            "스팸 메일 = 0.144%\n"
          ]
        }
      ]
    },
    {
      "cell_type": "markdown",
      "metadata": {
        "id": "kHuqT0FpRvke"
      },
      "source": [
        "### 모델 학습 및 테스트하기"
      ]
    },
    {
      "cell_type": "markdown",
      "metadata": {
        "id": "84Lw0Ag0Rvke"
      },
      "source": [
        "#### 8) CountVectorizer로 df를 고정된 크기의 벡터로 변환하세요"
      ]
    },
    {
      "cell_type": "code",
      "metadata": {
        "id": "UBYNlgo_Rvke",
        "colab": {
          "base_uri": "https://localhost:8080/"
        },
        "outputId": "6f5657e9-e1c6-4f77-8410-d2a9071e522a"
      },
      "source": [
        "from sklearn.feature_extraction.text import CountVectorizer\n",
        "cv = CountVectorizer(binary=True)\n",
        "x_traincv = cv.fit_transform(X_train)\n",
        "x_traincv"
      ],
      "execution_count": null,
      "outputs": [
        {
          "output_type": "execute_result",
          "data": {
            "text/plain": [
              "<4135x7551 sparse matrix of type '<class 'numpy.int64'>'\n",
              "\twith 53910 stored elements in Compressed Sparse Row format>"
            ]
          },
          "metadata": {},
          "execution_count": 254
        }
      ]
    },
    {
      "cell_type": "markdown",
      "metadata": {
        "id": "DBWDYkk5Rvke"
      },
      "source": [
        "#### 9) 위 데이터를 array 형태로 변환하세요"
      ]
    },
    {
      "cell_type": "code",
      "metadata": {
        "id": "OUALoGkARvke",
        "colab": {
          "base_uri": "https://localhost:8080/"
        },
        "outputId": "fedf6c96-7697-4ea5-b980-f086ca24285d"
      },
      "source": [
        "encoded_input = x_traincv.toarray()\n",
        "encoded_input"
      ],
      "execution_count": null,
      "outputs": [
        {
          "output_type": "execute_result",
          "data": {
            "text/plain": [
              "array([[0, 0, 0, ..., 0, 0, 0],\n",
              "       [0, 0, 0, ..., 0, 0, 0],\n",
              "       [0, 0, 0, ..., 0, 0, 0],\n",
              "       ...,\n",
              "       [0, 0, 0, ..., 0, 0, 0],\n",
              "       [0, 0, 0, ..., 0, 0, 0],\n",
              "       [0, 0, 0, ..., 0, 0, 0]])"
            ]
          },
          "metadata": {},
          "execution_count": 255
        }
      ]
    },
    {
      "cell_type": "markdown",
      "metadata": {
        "id": "otb881TYRvkf"
      },
      "source": [
        "#### 10) 테스트 데이터의 첫 번째 행에 포함된 단어들을 확인해보세요"
      ]
    },
    {
      "cell_type": "code",
      "metadata": {
        "id": "XBLZtvxhRvkf",
        "colab": {
          "base_uri": "https://localhost:8080/"
        },
        "outputId": "4ccc0bee-f9d8-4939-e010-8fa9e6ce771a"
      },
      "source": [
        "cv.inverse_transform(encoded_input)[0]"
      ],
      "execution_count": null,
      "outputs": [
        {
          "output_type": "execute_result",
          "data": {
            "text/plain": [
              "array(['also', 'beads', 'come', 'don', 'ever', 'off', 'remember', 'the'],\n",
              "      dtype='<U34')"
            ]
          },
          "metadata": {},
          "execution_count": 256
        }
      ]
    },
    {
      "cell_type": "markdown",
      "metadata": {
        "id": "NUj0MhvRRvkf"
      },
      "source": [
        "#### 11) y_train 데이터로 베르누이 나이브베이즈 모델을 학습시키세요"
      ]
    },
    {
      "cell_type": "code",
      "metadata": {
        "id": "nk6Xrd_XRvkf",
        "colab": {
          "base_uri": "https://localhost:8080/"
        },
        "outputId": "91be8b47-e59c-4ff3-e647-fb4108525b35"
      },
      "source": [
        "bnb = BernoulliNB()\n",
        "y_train = y_train.astype('int')\n",
        "bnb.fit(x_traincv, y_train)"
      ],
      "execution_count": null,
      "outputs": [
        {
          "output_type": "execute_result",
          "data": {
            "text/plain": [
              "BernoulliNB()"
            ]
          },
          "metadata": {},
          "execution_count": 257
        }
      ]
    },
    {
      "cell_type": "markdown",
      "metadata": {
        "id": "cqdUi40fRvkf"
      },
      "source": [
        "#### 12) X_test 데이터로 테스트해보세요"
      ]
    },
    {
      "cell_type": "code",
      "metadata": {
        "colab": {
          "base_uri": "https://localhost:8080/"
        },
        "id": "9Aohjz-jhgNY",
        "outputId": "23966c15-c091-4d01-e447-55787ca0d758"
      },
      "source": [
        "X_testcv = cv.transform(X_test)\n",
        "X_testcv"
      ],
      "execution_count": null,
      "outputs": [
        {
          "output_type": "execute_result",
          "data": {
            "text/plain": [
              "<1034x7551 sparse matrix of type '<class 'numpy.int64'>'\n",
              "\twith 12779 stored elements in Compressed Sparse Row format>"
            ]
          },
          "metadata": {},
          "execution_count": 258
        }
      ]
    },
    {
      "cell_type": "code",
      "metadata": {
        "id": "PsnQuev8i3Jk"
      },
      "source": [
        "predictions = bnb.predict(X_testcv)"
      ],
      "execution_count": null,
      "outputs": []
    },
    {
      "cell_type": "markdown",
      "metadata": {
        "id": "b5DPND7oRvkf"
      },
      "source": [
        "#### 13) 결과값을 출력하세요"
      ]
    },
    {
      "cell_type": "code",
      "metadata": {
        "id": "VEps5ZKdRvkf",
        "colab": {
          "base_uri": "https://localhost:8080/"
        },
        "outputId": "ea29ef8a-4ae9-4595-8a47-2a482335bd59"
      },
      "source": [
        "predictions"
      ],
      "execution_count": null,
      "outputs": [
        {
          "output_type": "execute_result",
          "data": {
            "text/plain": [
              "array([0, 0, 0, ..., 0, 0, 0])"
            ]
          },
          "metadata": {},
          "execution_count": 260
        }
      ]
    },
    {
      "cell_type": "markdown",
      "metadata": {
        "id": "5luKgTyxRvkf"
      },
      "source": [
        "#### 14) y_test 데이터와 비교하여 정확도를 출력하세요"
      ]
    },
    {
      "cell_type": "code",
      "metadata": {
        "id": "TP0IkJfcRvkf",
        "colab": {
          "base_uri": "https://localhost:8080/"
        },
        "outputId": "e287e09e-650e-4ad5-8255-96209bc03a52"
      },
      "source": [
        "from sklearn.metrics import accuracy_score\n",
        "y_test = y_test.astype('int')\n",
        "accuracy_score(y_test, predictions)"
      ],
      "execution_count": null,
      "outputs": [
        {
          "output_type": "execute_result",
          "data": {
            "text/plain": [
              "0.9690522243713733"
            ]
          },
          "metadata": {},
          "execution_count": 261
        }
      ]
    }
  ]
}