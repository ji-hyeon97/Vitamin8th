{
  "nbformat": 4,
  "nbformat_minor": 0,
  "metadata": {
    "kernelspec": {
      "display_name": "Python 3",
      "language": "python",
      "name": "python3"
    },
    "language_info": {
      "codemirror_mode": {
        "name": "ipython",
        "version": 3
      },
      "file_extension": ".py",
      "mimetype": "text/x-python",
      "name": "python",
      "nbconvert_exporter": "python",
      "pygments_lexer": "ipython3",
      "version": "3.8.5"
    },
    "colab": {
      "name": "5주차_복습과제_비타민.ipynb",
      "provenance": [],
      "collapsed_sections": []
    }
  },
  "cells": [
    {
      "cell_type": "markdown",
      "metadata": {
        "id": "efvn5aMMnS5z"
      },
      "source": [
        "## 문제 1"
      ]
    },
    {
      "cell_type": "markdown",
      "metadata": {
        "id": "J1HtK0LMnS54"
      },
      "source": [
        "### 1-1. 분류 평가지표 중 '정밀도'와 '재현율'에 대한 개념과 이 둘은 어떤 관계인지 설명해주세요."
      ]
    },
    {
      "cell_type": "markdown",
      "metadata": {
        "id": "1ozrPEnuoHmj"
      },
      "source": [
        "정밀도란 모델이 positive라고 분류한 것 중에서 실제 True인 것을 비율을 의미합니다.\n",
        "\n",
        "재현율이란 실제 값이 True인 것 중에서 모델이 positive라고 예측한 것의 비율입니다.\n",
        "\n",
        "상충하는 관계(trade-off)입니다. 정밀도가 향상되면 재현율이 감소합니다.\n",
        "\n"
      ]
    },
    {
      "cell_type": "markdown",
      "metadata": {
        "id": "8PqkxC02ouv-"
      },
      "source": [
        "***"
      ]
    },
    {
      "cell_type": "markdown",
      "metadata": {
        "id": "FO2gbGsAnS57"
      },
      "source": [
        "## 문제 2"
      ]
    },
    {
      "cell_type": "markdown",
      "metadata": {
        "id": "ktObKx5InS58"
      },
      "source": [
        "### 정밀도와 재현율이 각각 더 중요한 사례를 들어주세요.\n",
        "- 정밀도가 중요한 사례와 재현율이 중요한 사례 총 2가지를 적어주셔야 합니다.\n",
        "- 되도록이면 PPT 이외의 사례를 들어주세요!"
      ]
    },
    {
      "cell_type": "markdown",
      "metadata": {
        "id": "mknoryqgpvHM"
      },
      "source": [
        "재현율 : atm기계에 돈을 넣을 경우 실제 값이 10000원인데 10000원이라고 알맞게 예측을 해야 하기 때문에 재현율이 중요한것 같습니다.\n",
        "\n",
        "정밀도 : 기상을 예측한 결과 내일 비가 온다고 하였는데 실제로 비가 온 경우를 판단하는 개념으로 일기예보에서도 정밀도가 중요한것 같습니다. "
      ]
    },
    {
      "cell_type": "markdown",
      "metadata": {
        "id": "4I0cb3JinS5-"
      },
      "source": [
        "***"
      ]
    },
    {
      "cell_type": "markdown",
      "metadata": {
        "id": "gx-OCYr6nS5-"
      },
      "source": [
        "## 문제3"
      ]
    },
    {
      "cell_type": "code",
      "metadata": {
        "id": "easyJceNnS5-"
      },
      "source": [
        "import pandas as pd\n",
        "import numpy as np\n",
        "import matplotlib.pyplot as plt\n",
        "import seaborn as sns\n",
        "import sklearn"
      ],
      "execution_count": null,
      "outputs": []
    },
    {
      "cell_type": "code",
      "metadata": {
        "id": "Xth1Qd3PnS5_"
      },
      "source": [
        "from sklearn.model_selection import train_test_split\n",
        "from sklearn.linear_model import LogisticRegression\n",
        "from sklearn.metrics import accuracy_score, recall_score, precision_score, confusion_matrix\n",
        "from sklearn.datasets import load_breast_cancer\n",
        "from sklearn.metrics import precision_recall_curve\n",
        "from sklearn.preprocessing import Binarizer"
      ],
      "execution_count": null,
      "outputs": []
    },
    {
      "cell_type": "code",
      "metadata": {
        "id": "u-giydzAnS6A"
      },
      "source": [
        "import matplotlib.pyplot as plt\n",
        "import matplotlib.ticker as ticker\n",
        "%matplotlib inline"
      ],
      "execution_count": null,
      "outputs": []
    },
    {
      "cell_type": "markdown",
      "metadata": {
        "id": "FLnVLpkznS6A"
      },
      "source": [
        "### [ 종양종류 예측해보기 ]\n",
        "- load_breast_cancer은 위스콘신 유방암 데이터로 악성종양(malignant)과 양성종양(benign)으로 구분되는 데이터세트 입니다.\n",
        "- 타깃 레이블 값의 종류는 악성이 '0'으로 양성이 '1'로 되어 있습니다."
      ]
    },
    {
      "cell_type": "markdown",
      "metadata": {
        "id": "G1BZWy83nS6A"
      },
      "source": [
        "#### 기본 제공 코드"
      ]
    },
    {
      "cell_type": "code",
      "metadata": {
        "id": "C18awxjhnS6B"
      },
      "source": [
        "# 데이텃셋 로드 및 X,y 지정\n",
        "dataset = load_breast_cancer()\n",
        "X_features=dataset.data\n",
        "y_label=dataset.target"
      ],
      "execution_count": null,
      "outputs": []
    },
    {
      "cell_type": "code",
      "metadata": {
        "colab": {
          "base_uri": "https://localhost:8080/"
        },
        "id": "3Dux7kPLnS6B",
        "outputId": "30b6ab1b-0937-4eb0-8633-c90a474f7e24"
      },
      "source": [
        "# `train_test_split`으로 train, test 데이터 분리\n",
        "\n",
        "X_train,X_test,y_train,y_test = train_test_split(X_features, y_label, test_size=0.3, random_state=11)\n",
        "print(X_train.shape, X_test.shape)"
      ],
      "execution_count": null,
      "outputs": [
        {
          "output_type": "stream",
          "name": "stdout",
          "text": [
            "(398, 30) (171, 30)\n"
          ]
        }
      ]
    },
    {
      "cell_type": "code",
      "metadata": {
        "id": "HAXovPqFnS6C"
      },
      "source": [
        "# RandomForest 객체 생성 후 예측 수행\n",
        "\n",
        "from sklearn.ensemble import RandomForestClassifier\n",
        "rf_clf = RandomForestClassifier(random_state = 0)\n",
        "rf_clf.fit(X_train, y_train)\n",
        "pred = rf_clf.predict(X_test)\n",
        "pred_proba = rf_clf.predict_proba(X_test)[:,1]"
      ],
      "execution_count": null,
      "outputs": []
    },
    {
      "cell_type": "markdown",
      "metadata": {
        "id": "mERpj0AynS6C"
      },
      "source": [
        "### 3-1. 정확도, 정밀도, 재현율, 오차행렬을 산출하세요.\n",
        "- get_clf_eval 함수를 활용하세요."
      ]
    },
    {
      "cell_type": "code",
      "metadata": {
        "id": "M1kd__u4SZP4"
      },
      "source": [
        "from sklearn.metrics import accuracy_score, precision_score, recall_score, confusion_matrix\n",
        "\n",
        "def get_clf_eval(y_test, pred):\n",
        "  confusion = confusion_matrix(y_test, pred)\n",
        "  accuracy = accuracy_score(y_test,pred)\n",
        "  precision = precision_score(y_test, pred)\n",
        "  recall = recall_score(y_test, pred)\n",
        "  print('오차행렬')\n",
        "  print(confusion)\n",
        "  print('정확도: {0:.4f}, 정밀도: {1: .4f}, 재현율: {2: .4f}'.format(accuracy, precision, recall))"
      ],
      "execution_count": null,
      "outputs": []
    },
    {
      "cell_type": "code",
      "metadata": {
        "colab": {
          "base_uri": "https://localhost:8080/"
        },
        "id": "H198s2aGnS6C",
        "outputId": "f1d7b35b-7272-4d65-f613-e7c0ab7d33cb"
      },
      "source": [
        "get_clf_eval(y_test, pred)"
      ],
      "execution_count": null,
      "outputs": [
        {
          "output_type": "stream",
          "name": "stdout",
          "text": [
            "오차행렬\n",
            "[[ 56   5]\n",
            " [  1 109]]\n",
            "정확도: 0.9649, 정밀도:  0.9561, 재현율:  0.9909\n"
          ]
        }
      ]
    },
    {
      "cell_type": "markdown",
      "metadata": {
        "id": "zfxvGP88nS6D"
      },
      "source": [
        "### 3-2. 임계값이 0.3, 0.5, 0.7, 0.9일때 오차행렬, 정확도, 정밀도, 재현율을 구하세요."
      ]
    },
    {
      "cell_type": "code",
      "metadata": {
        "id": "HwHNCXcRSsEt"
      },
      "source": [
        "from sklearn.preprocessing import Binarizer"
      ],
      "execution_count": null,
      "outputs": []
    },
    {
      "cell_type": "code",
      "metadata": {
        "id": "uVylm0sinS6D"
      },
      "source": [
        "thresholds = [ 0.3, 0.5, 0.7, 0.9]"
      ],
      "execution_count": null,
      "outputs": []
    },
    {
      "cell_type": "code",
      "metadata": {
        "colab": {
          "base_uri": "https://localhost:8080/"
        },
        "id": "2Jcdu3iJnS6D",
        "outputId": "442fa104-79aa-4892-f8b1-9b22fef9861c"
      },
      "source": [
        "pred_proba = rf_clf.predict_proba(X_test)\n",
        "pred_proba_1 = pred_proba[: ,1].reshape(-1,1)\n",
        "def get_eval_by_threshold(y_test, pred_proba_c1, thresholds):\n",
        "  for custom_threshold in thresholds:\n",
        "    binarizer = Binarizer(threshold=custom_threshold).fit(pred_proba_c1)\n",
        "    custom_predict = binarizer.transform(pred_proba_c1)\n",
        "    print('임계값 : ', custom_threshold)\n",
        "    get_clf_eval(y_test, custom_predict)\n",
        "    print('')\n",
        "\n",
        "get_eval_by_threshold(y_test,pred_proba_1, thresholds)"
      ],
      "execution_count": null,
      "outputs": [
        {
          "output_type": "stream",
          "name": "stdout",
          "text": [
            "임계값 :  0.3\n",
            "오차행렬\n",
            "[[ 51  10]\n",
            " [  0 110]]\n",
            "정확도: 0.9415, 정밀도:  0.9167, 재현율:  1.0000\n",
            "\n",
            "임계값 :  0.5\n",
            "오차행렬\n",
            "[[ 56   5]\n",
            " [  1 109]]\n",
            "정확도: 0.9649, 정밀도:  0.9561, 재현율:  0.9909\n",
            "\n",
            "임계값 :  0.7\n",
            "오차행렬\n",
            "[[ 59   2]\n",
            " [  4 106]]\n",
            "정확도: 0.9649, 정밀도:  0.9815, 재현율:  0.9636\n",
            "\n",
            "임계값 :  0.9\n",
            "오차행렬\n",
            "[[59  2]\n",
            " [11 99]]\n",
            "정확도: 0.9240, 정밀도:  0.9802, 재현율:  0.9000\n",
            "\n"
          ]
        }
      ]
    },
    {
      "cell_type": "markdown",
      "metadata": {
        "id": "bRIyVzWsnS6D"
      },
      "source": [
        "### 3-3. 위의 임곗값들 중 어떤 것이 가장 적절할까요? 답과 그 이유를 적어주세요."
      ]
    },
    {
      "cell_type": "markdown",
      "metadata": {
        "id": "YZYR7sAWUBgH"
      },
      "source": [
        "현재 데이터는 양성종양, 악성종양을 구분하여야 합니다. 정확도도 중요하지만 재현율이 높아야 합니다. 실제 악성종양인 사람을 양성종양으로 분류하여서는 안되기 때문에 임계값이 0.3이 가장 적절합니다."
      ]
    },
    {
      "cell_type": "markdown",
      "metadata": {
        "id": "ojDabFsqnS6D"
      },
      "source": [
        "***"
      ]
    },
    {
      "cell_type": "markdown",
      "metadata": {
        "id": "xTEe9YspnS6E"
      },
      "source": [
        "## 문제 4"
      ]
    },
    {
      "cell_type": "markdown",
      "metadata": {
        "id": "-P2nWdGWnS6E"
      },
      "source": [
        "### 4-1. F1 스코어의 개념과 어떨 때 상대적으로 높은 값를 가지는지 적어주세요."
      ]
    },
    {
      "cell_type": "markdown",
      "metadata": {
        "id": "FlxO6Y2gdRHd"
      },
      "source": [
        "F1 score은 재현율과 정밀도의 조화평균입니다.\n",
        "\n",
        "재현율과 정밀도 어느 한쪽으로 치우치지 않는 수치를 나타내는 경우 상대적으로 높은 값을 가지는것 같습니다."
      ]
    },
    {
      "cell_type": "markdown",
      "metadata": {
        "id": "ltcmhVJCnS6E"
      },
      "source": [
        "### 4-2. F1 스코어를 구하세요."
      ]
    },
    {
      "cell_type": "code",
      "metadata": {
        "id": "RJY340G0nS6E",
        "colab": {
          "base_uri": "https://localhost:8080/"
        },
        "outputId": "407502ed-a202-4767-c173-cde627335cc2"
      },
      "source": [
        "from sklearn.metrics import f1_score\n",
        "\n",
        "f1 = f1_score(y_test, pred)\n",
        "print(f'fl score: {f1: .3f}')"
      ],
      "execution_count": null,
      "outputs": [
        {
          "output_type": "stream",
          "name": "stdout",
          "text": [
            "fl score:  0.973\n"
          ]
        }
      ]
    },
    {
      "cell_type": "markdown",
      "metadata": {
        "id": "mUUcgYjCnS6E"
      },
      "source": [
        "### 4-3. `get_clf_eval()` 함수에 F1 스코어를 구하는 코드를 추가하세요."
      ]
    },
    {
      "cell_type": "code",
      "metadata": {
        "id": "lHnf4aFKnS6F",
        "colab": {
          "base_uri": "https://localhost:8080/"
        },
        "outputId": "855cf79e-e8ed-4c75-9c34-a4f7fe72e500"
      },
      "source": [
        "def get_clf_eval(y_test, pred):\n",
        "  confusion = confusion_matrix(y_test, pred)\n",
        "  accuracy = accuracy_score(y_test, pred)\n",
        "  precision = precision_score(y_test, pred)\n",
        "  recall = recall_score(y_test, pred)\n",
        "  f1 = f1_score(y_test, pred)\n",
        "  print('오차 행렬')\n",
        "  print(confusion)\n",
        "  print('정확도: {0: .4f}, 정밀도: {1: .4f}, 재현율: {2: .4f}, F1:{3: .4f}'.format(accuracy, precision, recall, f1))\n",
        "get_clf_eval(y_test,pred)"
      ],
      "execution_count": null,
      "outputs": [
        {
          "output_type": "stream",
          "name": "stdout",
          "text": [
            "오차 행렬\n",
            "[[ 56   5]\n",
            " [  1 109]]\n",
            "정확도:  0.9649, 정밀도:  0.9561, 재현율:  0.9909, F1: 0.9732\n"
          ]
        }
      ]
    },
    {
      "cell_type": "markdown",
      "metadata": {
        "id": "4v7u57HQnS6F"
      },
      "source": [
        "### 4-4. <U>F1 스코어 >= 0.98</U>이 되도록 값을 출력하세요.  (다른 평가 지표의 값은 무시)\n",
        "  \n",
        "`Hint : 임계값 조정`"
      ]
    },
    {
      "cell_type": "code",
      "metadata": {
        "id": "kQh3VA0PnS6F",
        "colab": {
          "base_uri": "https://localhost:8080/"
        },
        "outputId": "8b47af81-43f6-4411-fc85-503143d1edb3"
      },
      "source": [
        "thresholds = [0.6]\n",
        "pred_proba = rf_clf.predict_proba(X_test)\n",
        "pred_proba_1 = pred_proba[: ,1].reshape(-1,1)\n",
        "def get_eval_by_threshold(y_test, pred_proba_c1, thresholds):\n",
        "  for custom_threshold in thresholds:\n",
        "    binarizer = Binarizer(threshold=custom_threshold).fit(pred_proba_c1)\n",
        "    custom_predict = binarizer.transform(pred_proba_c1)\n",
        "    print('임계값 : ', custom_threshold)\n",
        "    get_clf_eval(y_test, custom_predict)\n",
        "    print('')\n",
        "\n",
        "get_eval_by_threshold(y_test,pred_proba_1, thresholds)"
      ],
      "execution_count": null,
      "outputs": [
        {
          "output_type": "stream",
          "name": "stdout",
          "text": [
            "임계값 :  0.6\n",
            "오차 행렬\n",
            "[[ 59   2]\n",
            " [  2 108]]\n",
            "정확도:  0.9766, 정밀도:  0.9818, 재현율:  0.9818, F1: 0.9818\n",
            "\n"
          ]
        }
      ]
    },
    {
      "cell_type": "markdown",
      "metadata": {
        "id": "SOy7sNQznS6F"
      },
      "source": [
        "***"
      ]
    },
    {
      "cell_type": "markdown",
      "metadata": {
        "id": "nPlG7qirnS6F"
      },
      "source": [
        "## 문제 5"
      ]
    },
    {
      "cell_type": "markdown",
      "metadata": {
        "id": "G4wWoGEXnS6F"
      },
      "source": [
        "### 5-1. ROC-AUC가 무엇인지 설명하세요. "
      ]
    },
    {
      "cell_type": "code",
      "metadata": {
        "id": "XTarzLbPnS6F"
      },
      "source": [
        "# ROC 곡선 : 거짓 양성 비율에 대한 진짜 양성 비율의 곡선입니다.\n",
        "# TPR(True Positive Rate) :실제 양성을 제데로 양성이라고 예측한 경우입니다. \n",
        "# TNR(True Negative Rate) :실제 음성을 제대로 음성이라고 예측한 경우입니다.   ->TPR과 서로 tradeoff 관계입니다.\n",
        "# AUC(Area Under Curve) : ROC곡선의 면적의 값입니다."
      ],
      "execution_count": null,
      "outputs": []
    },
    {
      "cell_type": "markdown",
      "metadata": {
        "id": "KnULgzVAnS6G"
      },
      "source": [
        "### 5-2. ROC-AUC 값을 구하세요. "
      ]
    },
    {
      "cell_type": "code",
      "metadata": {
        "id": "3AZiybwpnS6G",
        "colab": {
          "base_uri": "https://localhost:8080/"
        },
        "outputId": "d1e22ab6-2fe1-4e86-d404-dc7d430a81f1"
      },
      "source": [
        "from sklearn.metrics import roc_auc_score\n",
        "\n",
        "rf_pred_proba = rf_clf.predict_proba(X_test)[:,1]\n",
        "rf_roc_score = roc_auc_score(y_test, rf_pred_proba)\n",
        "print('rf_ROC AUC 값 : {0: .4f}'.format(rf_roc_score))\n"
      ],
      "execution_count": null,
      "outputs": [
        {
          "output_type": "stream",
          "name": "stdout",
          "text": [
            "rf_ROC AUC 값 :  0.9903\n"
          ]
        }
      ]
    }
  ]
}